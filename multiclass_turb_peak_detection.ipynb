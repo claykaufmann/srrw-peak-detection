{
 "cells": [
  {
   "cell_type": "markdown",
   "metadata": {},
   "source": [
    "# Multiclass Knowledge Engineering Peak Detection in fDOM\n"
   ]
  },
  {
   "cell_type": "code",
   "execution_count": 1,
   "metadata": {},
   "outputs": [],
   "source": [
    "# Imports\n",
    "from sklearn.model_selection import TimeSeriesSplit\n",
    "import seaborn as sn\n",
    "from sklearn.metrics import (\n",
    "    confusion_matrix,\n",
    "    accuracy_score,\n",
    "    balanced_accuracy_score,\n",
    "    f1_score,\n",
    "    precision_score,\n",
    ")\n",
    "import pandas as pd\n",
    "import numpy as np\n",
    "import datetime\n",
    "import copy\n",
    "import matplotlib.pyplot as plt\n",
    "import pickle\n",
    "import progressbar\n",
    "\n",
    "import Tools.data_processing as dp\n",
    "import Tools.data_movement as dm\n",
    "from Tools.get_all_cands import get_all_cands_turb, get_all_truths\n",
    "\n",
    "# import classifiers\n",
    "from Anomaly_Detection.Multiclass_Detection.turbidity_classifiers.turb_PP import (\n",
    "    turb_PP_Classifier,\n",
    ")\n",
    "\n",
    "from Anomaly_Detection.Multiclass_Detection.turbidity_classifiers.turb_FPT import (\n",
    "    turb_FPT_Classifier,\n",
    ")\n",
    "\n",
    "from Anomaly_Detection.Multiclass_Detection.turbidity_classifiers.turb_SKP import (\n",
    "    turb_SKP_Classifier,\n",
    ")\n",
    "\n",
    "# disable warnings\n",
    "def warn(*args, **kwargs):\n",
    "    pass\n",
    "\n",
    "\n",
    "import warnings\n",
    "\n",
    "warnings.warn = warn\n"
   ]
  },
  {
   "cell_type": "markdown",
   "metadata": {},
   "source": [
    "## Training parameters and helper functions\n"
   ]
  },
  {
   "cell_type": "code",
   "execution_count": 2,
   "metadata": {},
   "outputs": [],
   "source": [
    "ITERATIONS = 2000\n",
    "NUM_SPLITS = 5\n",
    "AUGMENT_DATA_BEGIN_TIMESTAMP = 2459096.9583333335\n",
    "USE_AUGMENTED_DATA = True\n",
    "CLASS_BALANCED_ONLY = True\n",
    "\n",
    "# for confusion matrix\n",
    "DATA_LABELS = [\"SKP\", \"PP\", \"FPT\", \"NAP\"]\n",
    "\n",
    "# Useful functions\n",
    "def get_prediction(skp_pred, pp_pred, fpt_pred):\n",
    "    \"\"\"\n",
    "    take the top level prediction based on peak precendence\n",
    "    \"\"\"\n",
    "    if skp_pred == \"SKP\":\n",
    "        return skp_pred\n",
    "\n",
    "    elif pp_pred == \"PP\":\n",
    "        return pp_pred\n",
    "\n",
    "    elif fpt_pred == \"FPT\":\n",
    "        return fpt_pred\n",
    "\n",
    "    else:\n",
    "        return \"NAP\"\n"
   ]
  },
  {
   "cell_type": "markdown",
   "metadata": {},
   "source": [
    "## Paths to data\n"
   ]
  },
  {
   "cell_type": "code",
   "execution_count": 3,
   "metadata": {},
   "outputs": [],
   "source": [
    "# filenames\n",
    "fdom_raw_data_path = \"Data/converted_data/julian_format/fDOM_raw_10.1.2011-9.4.2020.csv\"\n",
    "stage_raw_data_path = \"Data/converted_data/julian_format/stage_10.1.11-1.1.19.csv\"\n",
    "turb_raw_data_path = (\n",
    "    \"Data/converted_data/julian_format/turbidity_raw_10.1.2011_9.4.2020.csv\"\n",
    ")\n",
    "\n",
    "turb_labeled_path = \"Data/labeled_data/ground_truths/turb/turb_all_julian_0k-300k.csv\"\n",
    "\n",
    "turb_raw_augmented_path = \"Data/augmented_data/turb/unlabeled/unlabeled_turb.csv\"\n",
    "turb_labeled_augmented_path = \"Data/augmented_data/turb/labeled/labeled_turb_peaks.csv\"\n",
    "\n",
    "fdom_augmented_raw_data_path = \"Data/augmented_data/turb/unlabeled/unlabeled_fdom.csv\"\n",
    "stage_augmented_data_path = \"Data/augmented_data/turb/unlabeled/unlabeled_stage.csv\"\n",
    "\n",
    "# FPT lookup table\n",
    "turb_fpt_lookup_path = \"Data/augmented_data/turb/fpt_lookup.csv\"\n"
   ]
  },
  {
   "cell_type": "code",
   "execution_count": 4,
   "metadata": {},
   "outputs": [],
   "source": [
    "# Load data\n",
    "fDOM_data = dm.read_in_preprocessed_timeseries(fdom_raw_data_path)\n",
    "stage_data = dm.read_in_preprocessed_timeseries(stage_raw_data_path)\n",
    "turb_data = dm.read_in_preprocessed_timeseries(turb_raw_data_path)\n",
    "stage_data = dp.align_stage_to_fDOM(fDOM_data, stage_data)\n",
    "\n",
    "augmented_fdom_data = np.array(\n",
    "    dm.read_in_timeseries(fdom_augmented_raw_data_path, True)\n",
    ")\n",
    "augmented_turb_data = np.array(dm.read_in_timeseries(turb_raw_augmented_path, True))\n",
    "augmented_stage_data = np.array(dm.read_in_timeseries(stage_augmented_data_path, True))\n"
   ]
  },
  {
   "cell_type": "markdown",
   "metadata": {},
   "source": [
    "## Get candidates and truths\n",
    "\n",
    "The following cell loads in raw non-augmented data that is not class-balanced.\n"
   ]
  },
  {
   "cell_type": "code",
   "execution_count": 5,
   "metadata": {},
   "outputs": [
    {
     "name": "stdout",
     "output_type": "stream",
     "text": [
      "Total number of original data candidates: 1253\n"
     ]
    }
   ],
   "source": [
    "cands = get_all_cands_turb(turb_raw_data_path, turb_labeled_path)\n",
    "\n",
    "truths = get_all_truths(turb_labeled_path)\n",
    "\n",
    "assert truths.shape == cands.shape\n",
    "\n",
    "print(f\"Total number of original data candidates: {cands.shape[0]}\")\n"
   ]
  },
  {
   "cell_type": "markdown",
   "metadata": {},
   "source": [
    "## Augmented data\n",
    "\n",
    "The following block appends augmented data into the raw dataset, making classes mostly (but not perfectly!) class balanced.\n"
   ]
  },
  {
   "cell_type": "code",
   "execution_count": 6,
   "metadata": {},
   "outputs": [
    {
     "name": "stdout",
     "output_type": "stream",
     "text": [
      "Total number of augmented candidates: 3663\n"
     ]
    }
   ],
   "source": [
    "if USE_AUGMENTED_DATA:\n",
    "    cands_augmented = get_all_cands_turb(\n",
    "        turb_raw_augmented_path, turb_labeled_augmented_path, True, turb_fpt_lookup_path\n",
    "    )\n",
    "\n",
    "    truths_augmented = get_all_truths(turb_labeled_augmented_path)\n",
    "\n",
    "    truths_augmented = truths_augmented[\n",
    "        truths_augmented[\"idx_of_peak\"].isin(cands_augmented[\"idx_of_peak\"])\n",
    "    ]\n",
    "\n",
    "    assert truths_augmented.shape == cands_augmented.shape\n",
    "\n",
    "    print(f\"Total number of augmented candidates: {cands_augmented.shape[0]}\")\n",
    "\n",
    "    # concatenate two candidates and truths into single list\n",
    "    cands = pd.concat([cands, cands_augmented])\n",
    "    truths = pd.concat([truths, truths_augmented])\n",
    "\n",
    "    # concat augmented raw data to normal raw data, for classifier preprocessing\n",
    "    turb_total = np.concatenate((turb_data, augmented_turb_data))\n",
    "    fdom_total = np.concatenate((fDOM_data, augmented_fdom_data))\n",
    "    stage_total = np.concatenate((stage_data, augmented_stage_data))\n",
    "\n",
    "# if we aren't using augmented data, make sure classifiers have correct data being passed into them for preprocessing\n",
    "else:\n",
    "    turb_total = turb_data\n",
    "    fdom_total = fDOM_data\n",
    "    stage_total = stage_data\n"
   ]
  },
  {
   "cell_type": "markdown",
   "metadata": {},
   "source": [
    "## Test class-balanced testing\n",
    "\n",
    "Alternatively, use only augmented data for class-balanced training AND TESTING.\n"
   ]
  },
  {
   "cell_type": "code",
   "execution_count": 7,
   "metadata": {},
   "outputs": [
    {
     "name": "stdout",
     "output_type": "stream",
     "text": [
      "Total number of candidates: 3663\n"
     ]
    }
   ],
   "source": [
    "if CLASS_BALANCED_ONLY:\n",
    "    cands = get_all_cands_turb(\n",
    "        turb_raw_augmented_path, turb_labeled_augmented_path, True, turb_fpt_lookup_path\n",
    "    )\n",
    "\n",
    "    truths = get_all_truths(turb_labeled_augmented_path)\n",
    "\n",
    "    # align the missing augmented data (FPT, NFPT, FSK, NFSK, some others)\n",
    "    truths = truths[truths[\"idx_of_peak\"].isin(cands[\"idx_of_peak\"])]\n",
    "\n",
    "    assert truths.shape == cands.shape\n",
    "\n",
    "    print(f\"Total number of candidates: {cands.shape[0]}\")\n",
    "\n",
    "    turb_total = augmented_turb_data\n",
    "    fdom_total = augmented_fdom_data\n",
    "    stage_total = augmented_stage_data\n"
   ]
  },
  {
   "cell_type": "markdown",
   "metadata": {},
   "source": [
    "## Convert candidates and truths into lists for the classifiers\n",
    "\n",
    "Classifiers use python lists, not the dataframes\n"
   ]
  },
  {
   "cell_type": "code",
   "execution_count": 8,
   "metadata": {},
   "outputs": [
    {
     "name": "stdout",
     "output_type": "stream",
     "text": [
      "3663 candidates in provided data.\n"
     ]
    }
   ],
   "source": [
    "# Convert cands and truths into lists\n",
    "cands = cands.values.tolist()\n",
    "\n",
    "truths = truths.values.tolist()\n",
    "\n",
    "print(str(len(cands)) + \" candidates in provided data.\")\n"
   ]
  },
  {
   "cell_type": "markdown",
   "metadata": {},
   "source": [
    "## Create Classifiers\n"
   ]
  },
  {
   "cell_type": "code",
   "execution_count": 9,
   "metadata": {},
   "outputs": [],
   "source": [
    "pp_classifier = turb_PP_Classifier(\n",
    "    turb_total, fdom_total, stage_total, AUGMENT_DATA_BEGIN_TIMESTAMP\n",
    ")\n"
   ]
  },
  {
   "cell_type": "code",
   "execution_count": 10,
   "metadata": {},
   "outputs": [],
   "source": [
    "skp_classifier = turb_SKP_Classifier(\n",
    "    turb_total,\n",
    "    turb_raw_data_path,\n",
    "    turb_labeled_path,\n",
    "    turb_raw_augmented_path,\n",
    "    turb_labeled_augmented_path,\n",
    "    augmented_only=True,\n",
    ")\n"
   ]
  },
  {
   "cell_type": "code",
   "execution_count": 11,
   "metadata": {},
   "outputs": [],
   "source": [
    "fpt_classifier = turb_FPT_Classifier(turb_total)\n"
   ]
  },
  {
   "cell_type": "markdown",
   "metadata": {},
   "source": [
    "## Training Loop\n"
   ]
  },
  {
   "cell_type": "code",
   "execution_count": 12,
   "metadata": {},
   "outputs": [
    {
     "name": "stderr",
     "output_type": "stream",
     "text": [
      "  0% (8 of 2000) |                       | Elapsed Time: 0:00:00 ETA:   0:00:27"
     ]
    },
    {
     "name": "stdout",
     "output_type": "stream",
     "text": [
      "\n",
      "Split:  1\n",
      "Num Pos in Test: 480\n",
      "Num Pos in Train: 478\n"
     ]
    },
    {
     "name": "stderr",
     "output_type": "stream",
     "text": [
      "  0% (4 of 2000) |                       | Elapsed Time: 0:00:00 ETA:   0:00:53"
     ]
    },
    {
     "name": "stdout",
     "output_type": "stream",
     "text": [
      "\n",
      "Split 1 test Scores: F1: 0.42556142117823825  BA: 0.5383616432944894  ACC: 0.5032786885245901\n",
      "\n",
      "Split:  2\n",
      "Num Pos in Test: 473\n",
      "Num Pos in Train: 958\n"
     ]
    },
    {
     "name": "stderr",
     "output_type": "stream",
     "text": [
      "  0% (3 of 2000) |                       | Elapsed Time: 0:00:00 ETA:   0:01:20"
     ]
    },
    {
     "name": "stdout",
     "output_type": "stream",
     "text": [
      "\n",
      "Split 2 test Scores: F1: 0.4455200845551479  BA: 0.5520826408276498  ACC: 0.5131147540983606\n",
      "\n",
      "Split:  3\n",
      "Num Pos in Test: 473\n",
      "Num Pos in Train: 1431\n"
     ]
    },
    {
     "name": "stderr",
     "output_type": "stream",
     "text": [
      "  0% (2 of 2000) |                       | Elapsed Time: 0:00:00 ETA:   0:01:43"
     ]
    },
    {
     "name": "stdout",
     "output_type": "stream",
     "text": [
      "\n",
      "Split 3 test Scores: F1: 0.4365226847492516  BA: 0.5524023939195348  ACC: 0.5098360655737705\n",
      "\n",
      "Split:  4\n",
      "Num Pos in Test: 481\n",
      "Num Pos in Train: 1904\n"
     ]
    },
    {
     "name": "stderr",
     "output_type": "stream",
     "text": [
      "  0% (2 of 2000) |                       | Elapsed Time: 0:00:00 ETA:   0:02:05"
     ]
    },
    {
     "name": "stdout",
     "output_type": "stream",
     "text": [
      "\n",
      "Split 4 test Scores: F1: 0.4617640707512908  BA: 0.5703269540652913  ACC: 0.5360655737704918\n",
      "\n",
      "Split:  5\n",
      "Num Pos in Test: 468\n",
      "Num Pos in Train: 2385\n"
     ]
    },
    {
     "name": "stderr",
     "output_type": "stream",
     "text": [
      " 99% (1999 of 2000) |################### | Elapsed Time: 0:03:18 ETA:   0:00:00"
     ]
    },
    {
     "name": "stdout",
     "output_type": "stream",
     "text": [
      "\n",
      "Split 5 test Scores: F1: 0.4368866699157997  BA: 0.5507535048210539  ACC: 0.5114754098360655\n",
      "\n",
      "\n"
     ]
    }
   ],
   "source": [
    "accumulated_test_metrics = {}\n",
    "\n",
    "accumulated_test_results = {}\n",
    "\n",
    "accumulated_best_params = {}\n",
    "\n",
    "accumulated_cfmxs = {}\n",
    "accumulated_train_cfmxs = {}\n",
    "accumulated_accs_train = {}\n",
    "\n",
    "# split data\n",
    "tss = TimeSeriesSplit(NUM_SPLITS)\n",
    "\n",
    "overall_start = datetime.datetime.now()\n",
    "\n",
    "split = 1\n",
    "divide_by_zero_errs = 0\n",
    "\n",
    "for train_val_indices, test_indices in tss.split(cands):\n",
    "    X_train, y_train = [cands[i] for i in train_val_indices], [\n",
    "        truths[i] for i in train_val_indices\n",
    "    ]\n",
    "\n",
    "    X_test, y_test = [cands[i] for i in test_indices], [truths[i] for i in test_indices]\n",
    "\n",
    "    max_fold_metric = 0\n",
    "    max_result = None\n",
    "\n",
    "    # save accumulated accuracies\n",
    "    accumulated_accs_train[split] = []\n",
    "\n",
    "    # print out info for user\n",
    "    print(\"\\nSplit: \", split)\n",
    "    split_start = datetime.datetime.now()\n",
    "    num_pos_test = len(list(filter(lambda x: x[2] != \"NAP\", y_test)))\n",
    "    num_pos_train = len(list(filter(lambda x: x[2] != \"NAP\", y_train)))\n",
    "\n",
    "    print(f\"Num Pos in Test: {num_pos_test}\")\n",
    "    print(f\"Num Pos in Train: {num_pos_train}\")\n",
    "\n",
    "    if num_pos_test >= 1 and num_pos_train >= 1:\n",
    "        # instantiate the progress bar\n",
    "        pbar = progressbar.ProgressBar(max_value=ITERATIONS)\n",
    "\n",
    "        # main training loop\n",
    "        for iteration in range(ITERATIONS):\n",
    "            params = {}\n",
    "\n",
    "            params[\"pp\"] = pp_classifier.start_iteration()\n",
    "            params[\"skp\"] = skp_classifier.start_iteration()\n",
    "            params[\"fpt\"] = fpt_classifier.start_iteration()\n",
    "\n",
    "            train_preds = []\n",
    "\n",
    "            pp_preds = pp_classifier.classify_samples(X_train)\n",
    "            skp_preds = skp_classifier.classify_samples(X_train)\n",
    "            fpt_preds = fpt_classifier.classify_samples(X_train)\n",
    "\n",
    "            for i, pred in enumerate(pp_preds):\n",
    "                train_pred = get_prediction(\n",
    "                    skp_preds[i][1],\n",
    "                    pred[1],\n",
    "                    fpt_preds[i][1],\n",
    "                )\n",
    "\n",
    "                train_preds.append(train_pred)\n",
    "\n",
    "            bal_acc = balanced_accuracy_score(\n",
    "                [row[2] for row in y_train],\n",
    "                [row for row in train_preds],\n",
    "            )\n",
    "\n",
    "            acc = accuracy_score(\n",
    "                [row[2] for row in y_train],\n",
    "                [row for row in train_preds],\n",
    "            )\n",
    "\n",
    "            f1_train = f1_score(\n",
    "                [row[2] for row in y_train], [row for row in train_preds], average=None\n",
    "            )\n",
    "\n",
    "            if acc > max_fold_metric:\n",
    "                max_fold_metric = acc\n",
    "                max_result = copy.deepcopy(train_preds)\n",
    "                accumulated_accs_train[split].append((acc, iteration))\n",
    "\n",
    "                pp_classifier.got_best_results()\n",
    "                skp_classifier.got_best_results()\n",
    "                fpt_classifier.got_best_results()\n",
    "\n",
    "            pp_classifier.end_of_iteration(y_train)\n",
    "            skp_classifier.end_of_iteration(y_train)\n",
    "            fpt_classifier.end_of_iteration(y_train)\n",
    "\n",
    "            pbar.update(iteration)\n",
    "\n",
    "        # peak testing\n",
    "        test_preds = []\n",
    "        pp_preds = pp_classifier.classify_samples(X_test, True)\n",
    "        skp_preds = skp_classifier.classify_samples(X_test, True)\n",
    "        fpt_preds = fpt_classifier.classify_samples(X_test, True)\n",
    "\n",
    "        for i, pred in enumerate(pp_preds):\n",
    "            test_pred = get_prediction(\n",
    "                skp_preds[i][1],\n",
    "                pred[1],\n",
    "                fpt_preds[i][1],\n",
    "            )\n",
    "\n",
    "            test_preds.append(test_pred)\n",
    "\n",
    "        ######## GET SCORES ########\n",
    "        # get confusion matrix\n",
    "        cfmx = confusion_matrix(\n",
    "            [row[2] for row in y_test],\n",
    "            [row for row in test_preds],\n",
    "            labels=DATA_LABELS,\n",
    "        )\n",
    "\n",
    "        # get acc score\n",
    "        acc_score = accuracy_score(\n",
    "            [row[2] for row in y_test],\n",
    "            [row for row in test_preds],\n",
    "        )\n",
    "\n",
    "        bal_acc = balanced_accuracy_score(\n",
    "            [row[2] for row in y_test],\n",
    "            [row for row in test_preds],\n",
    "        )\n",
    "\n",
    "        f1 = f1_score(\n",
    "            [row[2] for row in y_test],\n",
    "            [row for row in test_preds],\n",
    "            average=\"macro\",\n",
    "        )\n",
    "\n",
    "        precision = precision_score(\n",
    "            [row[2] for row in y_test],\n",
    "            [row for row in test_preds],\n",
    "            average=\"macro\",\n",
    "        )\n",
    "\n",
    "        print(f\"\\nSplit {split} test Scores: F1: {f1}  BA: {bal_acc}  ACC: {acc_score}\")\n",
    "\n",
    "        accumulated_cfmxs[split] = copy.deepcopy(cfmx)\n",
    "\n",
    "        accumulated_test_metrics[split] = {\n",
    "            \"f1\": f1,\n",
    "            \"acc\": acc_score,\n",
    "            \"ba\": bal_acc,\n",
    "            \"precision\": precision,\n",
    "        }\n",
    "\n",
    "        accumulated_test_results[split] = copy.deepcopy(test_preds)\n",
    "\n",
    "        accumulated_best_params[split] = {\n",
    "            \"PP\": copy.deepcopy(pp_classifier.best_params),\n",
    "            \"SKP\": copy.deepcopy(skp_classifier.best_params),\n",
    "            \"FPT\": copy.deepcopy(fpt_classifier.best_params),\n",
    "        }\n",
    "\n",
    "        split += 1\n",
    "\n",
    "print(\"\\n\")\n",
    "\n",
    "overall_end_time = datetime.datetime.now()\n"
   ]
  },
  {
   "cell_type": "markdown",
   "metadata": {},
   "source": [
    "## Display Metrics\n"
   ]
  },
  {
   "cell_type": "code",
   "execution_count": 13,
   "metadata": {},
   "outputs": [
    {
     "data": {
      "image/png": "[encoded data removed]",
      "text/plain": [
       "<Figure size 432x288 with 1 Axes>"
      ]
     },
     "metadata": {
      "needs_background": "light"
     },
     "output_type": "display_data"
    }
   ],
   "source": [
    "# display training accuracy over iterations\n",
    "# NOTE: we only save the accuracy if it was an improvement, to restrict the crazy jumps as a result of random grid search\n",
    "for key in accumulated_accs_train:\n",
    "    accumulated_accs_train[key] = np.array(accumulated_accs_train[key])\n",
    "    plt.plot(accumulated_accs_train[key][:, 1], accumulated_accs_train[key][:, 0], label=f\"Split {key}\")\n",
    "\n",
    "plt.legend()\n",
    "plt.title(\"Turbidity Training accuracy over iterations\")\n",
    "plt.xlabel(\"Iteration\")\n",
    "plt.ylabel(\"Accuracy\")\n",
    "plt.savefig(\"Anomaly_Detection/Multiclass_Detection/Experimental_Results/turb/multiclass_training_accuracy.png\")\n",
    "\n",
    "plt.show()"
   ]
  },
  {
   "cell_type": "code",
   "execution_count": 14,
   "metadata": {},
   "outputs": [
    {
     "name": "stdout",
     "output_type": "stream",
     "text": [
      "Mean Test F1:  0.4412509862299456\n",
      "Mean Test BA:  0.5527854273856038\n",
      "Mean Test Acc:  0.5147540983606557\n",
      "Mean Test Precision:  0.3812569319191152\n",
      "\n",
      "Params from split 1:\n",
      "\n",
      "For peak type PP:\n",
      "x, value: 18\n",
      "y, value: 14\n",
      "inft_range_1, value: (0, 2)\n",
      "inft_range_2, value: (-4, 1)\n",
      "inft_range_3, value: (9, 11)\n",
      "intf_t1, value: 1.6344650263810339\n",
      "intf_t2, value: 1.8406352730413098\n",
      "\n",
      "For peak type SKP:\n",
      "max_basewidth, value: 3\n",
      "min_prominence, value: 17.866135934833366\n",
      "downward_bases_threshold, value: 2\n",
      "proximity_threshold, value: 2\n",
      "\n",
      "For peak type FPT:\n",
      "flatness, value: 0.1512812660503156\n",
      "prominence, value: 126\n",
      "\n",
      "Params from split 2:\n",
      "\n",
      "For peak type PP:\n",
      "x, value: 22\n",
      "y, value: 6\n",
      "inft_range_1, value: (-5, 1)\n",
      "inft_range_2, value: (-4, 1)\n",
      "inft_range_3, value: (3, 6)\n",
      "intf_t1, value: 1.3852715598930812\n",
      "intf_t2, value: -0.22945103962096391\n",
      "\n",
      "For peak type SKP:\n",
      "max_basewidth, value: 3\n",
      "min_prominence, value: 19.578894706172726\n",
      "downward_bases_threshold, value: 2\n",
      "proximity_threshold, value: 1\n",
      "\n",
      "For peak type FPT:\n",
      "flatness, value: 0.2214816735710594\n",
      "prominence, value: 616\n",
      "\n",
      "Params from split 3:\n",
      "\n",
      "For peak type PP:\n",
      "x, value: 15\n",
      "y, value: 26\n",
      "inft_range_1, value: (-4, 0)\n",
      "inft_range_2, value: (2, 4)\n",
      "inft_range_3, value: (3, 10)\n",
      "intf_t1, value: 1.3281383625218144\n",
      "intf_t2, value: -0.8146096913618237\n",
      "\n",
      "For peak type SKP:\n",
      "max_basewidth, value: 3\n",
      "min_prominence, value: 19.35856664259169\n",
      "downward_bases_threshold, value: 0\n",
      "proximity_threshold, value: 18\n",
      "\n",
      "For peak type FPT:\n",
      "flatness, value: 0.1701615856498212\n",
      "prominence, value: 320\n",
      "\n",
      "Params from split 4:\n",
      "\n",
      "For peak type PP:\n",
      "x, value: 13\n",
      "y, value: 30\n",
      "inft_range_1, value: (-4, -2)\n",
      "inft_range_2, value: (-1, 1)\n",
      "inft_range_3, value: (8, 11)\n",
      "intf_t1, value: 1.4979732263767978\n",
      "intf_t2, value: -1.5041271494163029\n",
      "\n",
      "For peak type SKP:\n",
      "max_basewidth, value: 3\n",
      "min_prominence, value: 19.044850874091935\n",
      "downward_bases_threshold, value: 0\n",
      "proximity_threshold, value: 9\n",
      "\n",
      "For peak type FPT:\n",
      "flatness, value: 0.18185494054411472\n",
      "prominence, value: 666\n",
      "\n",
      "Params from split 5:\n",
      "\n",
      "For peak type PP:\n",
      "x, value: 1\n",
      "y, value: 0\n",
      "inft_range_1, value: (0, 2)\n",
      "inft_range_2, value: (0, 3)\n",
      "inft_range_3, value: (1, 6)\n",
      "intf_t1, value: 1.5948407137730394\n",
      "intf_t2, value: 1.0549026926987626\n",
      "\n",
      "For peak type SKP:\n",
      "max_basewidth, value: 3\n",
      "min_prominence, value: 19.120427173220605\n",
      "downward_bases_threshold, value: 4\n",
      "proximity_threshold, value: 6\n",
      "\n",
      "For peak type FPT:\n",
      "flatness, value: 0.21435349333700635\n",
      "prominence, value: 468\n"
     ]
    },
    {
     "data": {
      "image/png": "[encoded data removed]",
      "text/plain": [
       "<Figure size 720x504 with 1 Axes>"
      ]
     },
     "metadata": {
      "needs_background": "light"
     },
     "output_type": "display_data"
    }
   ],
   "source": [
    "mean_f1 = 0\n",
    "mean_ba = 0\n",
    "mean_precision = 0\n",
    "mean_acc = 0\n",
    "\n",
    "for key in accumulated_test_metrics:\n",
    "    metrics = accumulated_test_metrics[key]\n",
    "\n",
    "    mean_f1 += metrics[\"f1\"]\n",
    "    mean_ba += metrics[\"ba\"]\n",
    "    mean_precision += metrics[\"precision\"]\n",
    "    mean_acc += metrics[\"acc\"]\n",
    "\n",
    "print(\"Mean Test F1: \", mean_f1 / len(accumulated_test_metrics))\n",
    "print(\"Mean Test BA: \", mean_ba / len(accumulated_test_metrics))\n",
    "print(\"Mean Test Acc: \", mean_acc / len(accumulated_test_metrics))\n",
    "print(\"Mean Test Precision: \", mean_precision / len(accumulated_test_metrics))\n",
    "\n",
    "for split in accumulated_best_params.keys():\n",
    "    print(f\"\\nParams from split {split}:\")\n",
    "    for peak in accumulated_best_params[split].keys():\n",
    "        print(f\"\\nFor peak type {peak}:\")\n",
    "\n",
    "        for param in accumulated_best_params[split][peak].keys():\n",
    "            print(f\"{param}, value: {accumulated_best_params[split][peak][param]}\")\n",
    "\n",
    "# testing conf matrix\n",
    "mean_cfmx = np.zeros((len(DATA_LABELS), len(DATA_LABELS)))\n",
    "for key in accumulated_cfmxs.keys():\n",
    "    mean_cfmx += accumulated_cfmxs[key]\n",
    "\n",
    "mean_cfmx = mean_cfmx / len(accumulated_cfmxs)\n",
    "\n",
    "plt.figure(figsize=(10, 7))\n",
    "plt.title(label=\"Turbidity Peak Detection Confusion Matrix\")\n",
    "\n",
    "sn.set(font_scale=1.5)\n",
    "\n",
    "group_counts = [\"{0:0.0f}\\n\".format(value) for value in mean_cfmx.flatten()]\n",
    "percentages = (mean_cfmx / mean_cfmx.sum(axis=1)[:, np.newaxis]).flatten()\n",
    "group_percentages = [\"{0:.2%}\".format(value) for value in percentages]\n",
    "\n",
    "box_labels = [f\"{v2}{v3}\".strip() for v2, v3 in zip(group_counts, group_percentages)]\n",
    "box_labels = np.asarray(box_labels).reshape(mean_cfmx.shape[0], mean_cfmx.shape[1])\n",
    "\n",
    "plot = sn.heatmap(\n",
    "    mean_cfmx.astype(\"float\"),\n",
    "    annot=box_labels,\n",
    "    xticklabels=DATA_LABELS,\n",
    "    yticklabels=DATA_LABELS,\n",
    "    fmt=\"\",\n",
    "    cbar=False,\n",
    "    annot_kws={\"size\": 14},\n",
    ")\n",
    "\n",
    "plot.patch.set_facecolor('xkcd:white')\n",
    "\n",
    "plt.xlabel(\"Predictions\")\n",
    "plt.ylabel(\"Ground Truths\")\n",
    "plt.show()\n",
    "\n",
    "plot.get_figure().savefig(\n",
    "    \"Anomaly_Detection/Multiclass_Detection/Experimental_Results/turb/conf-matrix.png\"\n",
    ")\n"
   ]
  },
  {
   "cell_type": "code",
   "execution_count": 15,
   "metadata": {},
   "outputs": [],
   "source": [
    "with open(\n",
    "    \"Anomaly_Detection/Multiclass_Detection/Experimental_Results/turb/best_params.pkl\",\n",
    "    \"wb\",\n",
    ") as pck_file:\n",
    "    pickle.dump(accumulated_best_params, pck_file)\n",
    "    pck_file.close()\n",
    "\n",
    "# Pickle test results\n",
    "with open(\n",
    "    \"Anomaly_Detection/Multiclass_Detection/Experimental_Results/turb/test_results.pkl\",\n",
    "    \"wb\",\n",
    ") as pck_file:\n",
    "    pickle.dump(accumulated_test_results, pck_file)\n",
    "    pck_file.close()\n",
    "\n",
    "# Pickle test metrics\n",
    "with open(\n",
    "    \"Anomaly_Detection/Multiclass_Detection/Experimental_Results/turb/test_metrics.pkl\",\n",
    "    \"wb\",\n",
    ") as pck_file:\n",
    "    pickle.dump(accumulated_test_metrics, pck_file)\n",
    "    pck_file.close()\n"
   ]
  },
  {
   "cell_type": "markdown",
   "metadata": {},
   "source": [
    "### Statistics from individual classifiers\n"
   ]
  },
  {
   "cell_type": "code",
   "execution_count": 16,
   "metadata": {},
   "outputs": [
    {
     "name": "stdout",
     "output_type": "stream",
     "text": [
      "SKP CLASSIFIER INFO:\n",
      "ACC: 0.6771585759299013\n",
      "f1: 0.8039647577092511\n",
      "\n",
      "\n",
      "PP CLASSIFIER INFO:\n",
      "ACC: 0.6276818215004641\n",
      "f1: 0.8193202146690519\n",
      "\n",
      "\n",
      "FPT CLASSIFIER INFO:\n",
      "ACC: 0.5010460251046025\n"
     ]
    },
    {
     "ename": "AttributeError",
     "evalue": "'turb_FPT_Classifier' object has no attribute 'best_f1_score'",
     "output_type": "error",
     "traceback": [
      "\u001b[0;31m---------------------------------------------------------------------------\u001b[0m",
      "\u001b[0;31mAttributeError\u001b[0m                            Traceback (most recent call last)",
      "\u001b[1;32m/Users/claykaufmann/Projects/srrw-anomaly-detection/multiclass_turb_peak_detection.ipynb Cell 27'\u001b[0m in \u001b[0;36m<module>\u001b[0;34m\u001b[0m\n\u001b[1;32m     <a href='vscode-notebook-cell:/Users/claykaufmann/Projects/srrw-anomaly-detection/multiclass_turb_peak_detection.ipynb#ch0000025?line=11'>12</a>\u001b[0m \u001b[39mprint\u001b[39m(\u001b[39m\"\u001b[39m\u001b[39mFPT CLASSIFIER INFO:\u001b[39m\u001b[39m\"\u001b[39m)\n\u001b[1;32m     <a href='vscode-notebook-cell:/Users/claykaufmann/Projects/srrw-anomaly-detection/multiclass_turb_peak_detection.ipynb#ch0000025?line=12'>13</a>\u001b[0m \u001b[39mprint\u001b[39m(\u001b[39m\"\u001b[39m\u001b[39mACC: \u001b[39m\u001b[39m\"\u001b[39m \u001b[39m+\u001b[39m \u001b[39mstr\u001b[39m(fpt_classifier\u001b[39m.\u001b[39mbest_acc))\n\u001b[0;32m---> <a href='vscode-notebook-cell:/Users/claykaufmann/Projects/srrw-anomaly-detection/multiclass_turb_peak_detection.ipynb#ch0000025?line=13'>14</a>\u001b[0m \u001b[39mprint\u001b[39m(\u001b[39m\"\u001b[39m\u001b[39mf1: \u001b[39m\u001b[39m\"\u001b[39m \u001b[39m+\u001b[39m \u001b[39mstr\u001b[39m(fpt_classifier\u001b[39m.\u001b[39;49mbest_f1_score))\n\u001b[1;32m     <a href='vscode-notebook-cell:/Users/claykaufmann/Projects/srrw-anomaly-detection/multiclass_turb_peak_detection.ipynb#ch0000025?line=14'>15</a>\u001b[0m \u001b[39mprint\u001b[39m(\u001b[39m\"\u001b[39m\u001b[39m\\n\u001b[39;00m\u001b[39m\"\u001b[39m)\n",
      "\u001b[0;31mAttributeError\u001b[0m: 'turb_FPT_Classifier' object has no attribute 'best_f1_score'"
     ]
    }
   ],
   "source": [
    "# print accuracies\n",
    "print(\"SKP CLASSIFIER INFO:\")\n",
    "print(\"ACC: \" + str(skp_classifier.best_acc))\n",
    "print(\"f1: \" + str(skp_classifier.best_f1_score))\n",
    "print(\"\\n\")\n",
    "\n",
    "print(\"PP CLASSIFIER INFO:\")\n",
    "print(\"ACC: \" + str(pp_classifier.best_acc))\n",
    "print(\"f1: \" + str(pp_classifier.best_f1))\n",
    "print(\"\\n\")\n",
    "\n",
    "print(\"FPT CLASSIFIER INFO:\")\n",
    "print(\"ACC: \" + str(fpt_classifier.best_acc))\n",
    "print(\"f1: \" + str(fpt_classifier.best_f1_score))\n",
    "print(\"\\n\")\n"
   ]
  }
 ],
 "metadata": {
  "interpreter": {
   "hash": "8ed753961bdc37ee89b4275051722ceb8ec0b57b8793db9d189305c313070a7d"
  },
  "kernelspec": {
   "display_name": "Python 3.10.2 ('srrw')",
   "language": "python",
   "name": "python3"
  },
  "language_info": {
   "codemirror_mode": {
    "name": "ipython",
    "version": 3
   },
   "file_extension": ".py",
   "mimetype": "text/x-python",
   "name": "python",
   "nbconvert_exporter": "python",
   "pygments_lexer": "ipython3",
   "version": "3.10.2"
  },
  "orig_nbformat": 4
 },
 "nbformat": 4,
 "nbformat_minor": 2
}
