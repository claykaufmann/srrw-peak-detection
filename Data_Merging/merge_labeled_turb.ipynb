{
 "cells": [
  {
   "cell_type": "markdown",
   "metadata": {},
   "source": [
    "# Turbidity Data Merging\n",
    "Merge all turbidity labeled data into a singular file"
   ]
  },
  {
   "cell_type": "code",
   "execution_count": 1,
   "metadata": {},
   "outputs": [],
   "source": [
    "import pandas as pd"
   ]
  },
  {
   "cell_type": "code",
   "execution_count": 2,
   "metadata": {},
   "outputs": [],
   "source": [
    "# Load data\n",
    "turb_SKP_path = '../Data/labeled_data/ground_truths/turb/turb_skp/julian_time/turb_SKP_0k-300k_labeled.csv'\n",
    "turb_FPT_path = '../Data/labeled_data/ground_truths/turb/turb_fpt/julian_time/turb_FPT_0k-300k_labeled.csv'\n",
    "turb_PP_path = '../Data/labeled_data/ground_truths/turb/turb_pp/julian_time/turb_pp_0k-300k_labeled.csv'\n",
    "\n",
    "skp = pd.read_csv(turb_SKP_path)\n",
    "fpt = pd.read_csv(turb_FPT_path)\n",
    "pp = pd.read_csv(turb_PP_path)\n",
    "\n",
    "skp.set_index('timestamp_of_peak', inplace=True)\n",
    "fpt.set_index('timestamp_of_peak', inplace=True)\n",
    "pp.set_index('timestamp_of_peak', inplace=True)"
   ]
  },
  {
   "cell_type": "code",
   "execution_count": 3,
   "metadata": {},
   "outputs": [],
   "source": [
    "# set peak precedence\n",
    "TOP = skp\n",
    "SECOND = pp\n",
    "THIRD = fpt"
   ]
  },
  {
   "cell_type": "code",
   "execution_count": 5,
   "metadata": {},
   "outputs": [],
   "source": [
    "# Concat frames\n",
    "df = pd.concat([TOP, SECOND, THIRD])\n",
    "\n",
    "# sort frames\n",
    "df = df.sort_values(by=['timestamp_of_peak'], kind='stable')\n",
    "\n",
    "# drop dupes\n",
    "df = df[~df.index.duplicated(keep='first')]\n",
    "\n",
    "# rename all no labels to be no\n",
    "final = df.replace(to_replace='N(.*)', value=\"NAP\", regex=True)"
   ]
  },
  {
   "cell_type": "code",
   "execution_count": 6,
   "metadata": {},
   "outputs": [],
   "source": [
    "# output to csv\n",
    "filename = '../Data/labeled_data/ground_truths/turb/turb_all_julian_0k-300k.csv'\n",
    "\n",
    "final.to_csv(filename)"
   ]
  }
 ],
 "metadata": {
  "interpreter": {
   "hash": "8ed753961bdc37ee89b4275051722ceb8ec0b57b8793db9d189305c313070a7d"
  },
  "kernelspec": {
   "display_name": "Python 3.10.2 ('srrw')",
   "language": "python",
   "name": "python3"
  },
  "language_info": {
   "codemirror_mode": {
    "name": "ipython",
    "version": 3
   },
   "file_extension": ".py",
   "mimetype": "text/x-python",
   "name": "python",
   "nbconvert_exporter": "python",
   "pygments_lexer": "ipython3",
   "version": "3.10.2"
  },
  "orig_nbformat": 4
 },
 "nbformat": 4,
 "nbformat_minor": 2
}
