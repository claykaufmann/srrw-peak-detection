{
 "cells": [
  {
   "cell_type": "markdown",
   "metadata": {},
   "source": [
    "# Multiclass Peak Detection in fDOM\n",
    "\n",
    "This file combines all of the fDOM detection scripts into a singular classifier, that detects all peak types. On top of this, it also leverages the augmented data created previously.\n",
    "\n",
    "## Structure\n",
    "\n",
    "The core structure of the project is to have all individual classifiers running, and then when one detects a peak, it alerts the overall classifier \"manager\", which then takes note of the peak that a classifier has detected as an anomaly peak.\n"
   ]
  },
  {
   "cell_type": "code",
   "execution_count": 1,
   "metadata": {},
   "outputs": [],
   "source": [
    "# Imports\n",
    "from sklearn.model_selection import TimeSeriesSplit, KFold, StratifiedKFold\n",
    "import seaborn as sn\n",
    "from sklearn.metrics import (\n",
    "    confusion_matrix,\n",
    "    accuracy_score,\n",
    "    balanced_accuracy_score,\n",
    "    f1_score,\n",
    "    precision_score,\n",
    ")\n",
    "import pandas as pd\n",
    "import numpy as np\n",
    "import datetime\n",
    "import copy\n",
    "import matplotlib.pyplot as plt\n",
    "import pickle\n",
    "import progressbar\n",
    "\n",
    "import Tools.data_processing as dp\n",
    "import Tools.data_movement as dm\n",
    "from Tools.get_all_cands import get_all_cands_fDOM, get_all_truths_fDOM\n",
    "\n",
    "# import classifiers\n",
    "from Multiclass_Detection.fdom_classifiers.fDOM_PLP import fDOM_PLP_Classifier\n",
    "from Multiclass_Detection.fdom_classifiers.fDOM_FPT import fDOM_FPT_Classifier\n",
    "from Multiclass_Detection.fdom_classifiers.fDOM_FSK import fDOM_FSK_Classifier\n",
    "from Multiclass_Detection.fdom_classifiers.fDOM_PP import fDOM_PP_Classifier\n",
    "from Multiclass_Detection.fdom_classifiers.fDOM_SKP import fDOM_SKP_Classifier\n",
    "\n",
    "# disable warnings\n",
    "def warn(*args, **kwargs):\n",
    "    pass\n",
    "import warnings\n",
    "warnings.warn = warn"
   ]
  },
  {
   "cell_type": "markdown",
   "metadata": {},
   "source": [
    "## Training parameters and helper functions\n"
   ]
  },
  {
   "cell_type": "code",
   "execution_count": 2,
   "metadata": {},
   "outputs": [],
   "source": [
    "ITERATIONS = 100\n",
    "NUM_SPLITS = 5\n",
    "AUGMENT_DATA_BEGIN_TIMESTAMP = 2459096.9583333335\n",
    "USE_AUGMENTED_DATA = True\n",
    "\n",
    "# for confusion matrix\n",
    "DATA_LABELS = [\"PLP\", \"SKP\", \"PP\", \"FPT\", \"FSK\", \"NAP\"]\n",
    "\n",
    "# Useful functions\n",
    "def get_prediction(plp_pred, skp_pred, pp_pred, fsk_pred=None, fpt_pred=None):\n",
    "    \"\"\"\n",
    "    take the top level prediction based on peak precendence\n",
    "    \"\"\"\n",
    "    \n",
    "    if plp_pred == \"PLP\":\n",
    "        return plp_pred\n",
    "\n",
    "    elif pp_pred == \"PP\":\n",
    "        return pp_pred\n",
    "\n",
    "    elif skp_pred == \"SKP\":\n",
    "        return skp_pred\n",
    "\n",
    "    elif fsk_pred == \"FSK\":\n",
    "        return fsk_pred\n",
    "        \n",
    "    elif fpt_pred == \"FPT\":\n",
    "        return fpt_pred\n",
    "\n",
    "    else:\n",
    "        return \"NAP\""
   ]
  },
  {
   "cell_type": "code",
   "execution_count": 3,
   "metadata": {},
   "outputs": [],
   "source": [
    "# Filenames\n",
    "fdom_raw_data = \"Data/converted_data/julian_format/fDOM_raw_10.1.2011-9.4.2020.csv\"\n",
    "stage_raw_data = \"Data/converted_data/julian_format/stage_10.1.11-1.1.19.csv\"\n",
    "turb_raw_data = \"Data/converted_data/julian_format/turbidity_raw_10.1.2011_9.4.2020.csv\"\n",
    "\n",
    "fdom_labeled = \"Data/labeled_data/ground_truths/fDOM/fDOM_all_julian_0k-300k.csv\"\n",
    "\n",
    "fdom_raw_augmented = \"Data/augmented_data/fdom/unlabeled/unlabeled_fdom.csv\"\n",
    "fdom_labeled_augmented = \"Data/augmented_data/fdom/labeled/labeled_fdom_peaks.csv\"\n",
    "\n",
    "turb_augmented_raw_data = \"Data/augmented_data/fdom/unlabeled/unlabeled_turb.csv\"\n",
    "\n",
    "stage_augmented_data_fn = \"Data/augmented_data/fdom/unlabeled/unlabeled_stage.csv\"\n",
    "\n",
    "# to get fsk/fpt peaks in augmented data\n",
    "fdom_fpt_lookup_path = \"Data/augmented_data/fdom/fpt_lookup.csv\"\n",
    "fdom_fsk_lookup_path = \"Data/augmented_data/fdom/fsk_lookup.csv\""
   ]
  },
  {
   "cell_type": "code",
   "execution_count": 4,
   "metadata": {},
   "outputs": [],
   "source": [
    "# Load Data\n",
    "fDOM_data = dm.read_in_preprocessed_timeseries(fdom_raw_data)\n",
    "stage_data = dm.read_in_preprocessed_timeseries(stage_raw_data)\n",
    "turb_data = dm.read_in_preprocessed_timeseries(turb_raw_data)\n",
    "stage_data = dp.align_stage_to_fDOM(fDOM_data, stage_data)\n",
    "\n",
    "augmented_fdom_data = np.array(dm.read_in_timeseries(fdom_raw_augmented, True))\n",
    "augmented_turb_data = np.array(dm.read_in_timeseries(turb_augmented_raw_data, True))\n",
    "augmented_stage_data = np.array(dm.read_in_timeseries(stage_augmented_data_fn, True))\n"
   ]
  },
  {
   "cell_type": "markdown",
   "metadata": {},
   "source": [
    "## Get Candidates and truths"
   ]
  },
  {
   "cell_type": "code",
   "execution_count": 5,
   "metadata": {},
   "outputs": [
    {
     "name": "stdout",
     "output_type": "stream",
     "text": [
      "Total number of original data candidates: 1636\n"
     ]
    }
   ],
   "source": [
    "# get candidates from raw data\n",
    "cands = get_all_cands_fDOM(\n",
    "    fdom_raw_data,\n",
    "    fdom_labeled,\n",
    ")\n",
    "\n",
    "# get truths from raw data\n",
    "truths = get_all_truths_fDOM(fdom_labeled)\n",
    "\n",
    "# assert they are the same size\n",
    "assert truths.shape == cands.shape\n",
    "\n",
    "print(f\"Total number of original data candidates: {cands.shape[0]}\")\n"
   ]
  },
  {
   "cell_type": "markdown",
   "metadata": {},
   "source": [
    "### Augmented Data\n",
    "Make sure that `USE_AUGMENTED_DATA` == `True`, for this data to take effect"
   ]
  },
  {
   "cell_type": "code",
   "execution_count": 6,
   "metadata": {},
   "outputs": [
    {
     "name": "stdout",
     "output_type": "stream",
     "text": [
      "Total number of augmented candidates: 3764\n"
     ]
    }
   ],
   "source": [
    "if USE_AUGMENTED_DATA:\n",
    "    # get candidates from augmented data\n",
    "    cands_augmented = get_all_cands_fDOM(\n",
    "        fdom_raw_augmented,\n",
    "        fdom_labeled_augmented,\n",
    "        True,\n",
    "        fdom_fpt_lookup_path,\n",
    "        fdom_fsk_lookup_path,\n",
    "    )\n",
    "\n",
    "    truths_augmented = get_all_truths_fDOM(fdom_labeled_augmented, True)\n",
    "\n",
    "    # align the missing augmented data (FPT, NFPT, FSK, NFSK, some others)\n",
    "    truths_augmented = truths_augmented[\n",
    "        truths_augmented[\"idx_of_peak\"].isin(cands_augmented[\"idx_of_peak\"])\n",
    "    ]\n",
    "\n",
    "    assert truths_augmented.shape == cands_augmented.shape\n",
    "\n",
    "    print(f\"Total number of augmented candidates: {cands_augmented.shape[0]}\")\n",
    "\n",
    "    # concatenate two candidates and truths into single list\n",
    "    cands = pd.concat([cands, cands_augmented])\n",
    "    truths = pd.concat([truths, truths_augmented])\n",
    "\n",
    "    # concat augmented raw data to normal raw data, for classifier preprocessing\n",
    "    turb_data_total = np.concatenate((turb_data, augmented_turb_data))\n",
    "    fdom_total = np.concatenate((fDOM_data, augmented_fdom_data))\n",
    "    stage_total = np.concatenate((stage_data, augmented_stage_data))\n",
    "\n",
    "# if we aren't using augmented data, make sure classifiers have correct data being passed into them for preprocessing\n",
    "else:\n",
    "    turb_data_total = turb_data\n",
    "    fdom_total = fDOM_data\n",
    "    stage_total = stage_data"
   ]
  },
  {
   "cell_type": "code",
   "execution_count": 7,
   "metadata": {},
   "outputs": [
    {
     "name": "stdout",
     "output_type": "stream",
     "text": [
      "5400 candidates in provided data.\n"
     ]
    }
   ],
   "source": [
    "# Convert cands and truths into lists\n",
    "cands = cands.values.tolist()\n",
    "\n",
    "truths = truths.values.tolist()\n",
    "\n",
    "print(str(len(cands)) + \" candidates in provided data.\")"
   ]
  },
  {
   "cell_type": "code",
   "execution_count": 8,
   "metadata": {},
   "outputs": [],
   "source": [
    "train_cands = cands_augmented.values.tolist()\n",
    "train_truths = truths_augmented.values.tolist()"
   ]
  },
  {
   "cell_type": "markdown",
   "metadata": {},
   "source": [
    "## Create Classifiers\n"
   ]
  },
  {
   "cell_type": "code",
   "execution_count": 9,
   "metadata": {},
   "outputs": [],
   "source": [
    "plp_classifer = fDOM_PLP_Classifier(\n",
    "    fdom_total,\n",
    "    turb_data_total,\n",
    "    fdom_raw_data,\n",
    "    fdom_labeled,\n",
    "    fdom_raw_augmented,\n",
    "    fdom_labeled_augmented\n",
    ")\n"
   ]
  },
  {
   "cell_type": "code",
   "execution_count": 10,
   "metadata": {},
   "outputs": [],
   "source": [
    "skp_classifier = fDOM_SKP_Classifier(\n",
    "    fdom_total,\n",
    "    fdom_raw_data,\n",
    "    fdom_labeled,\n",
    "    fdom_raw_augmented,\n",
    "    fdom_labeled_augmented\n",
    ")"
   ]
  },
  {
   "cell_type": "code",
   "execution_count": 11,
   "metadata": {},
   "outputs": [],
   "source": [
    "pp_classifier = fDOM_PP_Classifier(\n",
    "    fdom_total,\n",
    "    stage_total,\n",
    "    AUGMENT_DATA_BEGIN_TIMESTAMP\n",
    ")"
   ]
  },
  {
   "cell_type": "code",
   "execution_count": 12,
   "metadata": {},
   "outputs": [],
   "source": [
    "fpt_classifier = fDOM_FPT_Classifier()"
   ]
  },
  {
   "cell_type": "code",
   "execution_count": 13,
   "metadata": {},
   "outputs": [],
   "source": [
    "# fsK_classifier = fDOM_FSK_Classifier()"
   ]
  },
  {
   "cell_type": "markdown",
   "metadata": {},
   "source": [
    "## Training Loop"
   ]
  },
  {
   "cell_type": "code",
   "execution_count": 14,
   "metadata": {},
   "outputs": [
    {
     "name": "stderr",
     "output_type": "stream",
     "text": [
      "  4% (4 of 100) |                        | Elapsed Time: 0:00:00 ETA:   0:00:03"
     ]
    },
    {
     "name": "stdout",
     "output_type": "stream",
     "text": [
      "\n",
      "Split:  1\n",
      "Num Pos in Test: 62\n",
      "Num Pos in Train: 3310\n"
     ]
    },
    {
     "name": "stderr",
     "output_type": "stream",
     "text": [
      " 13% (13 of 100) |##                     | Elapsed Time: 0:00:00 ETA:   0:00:03"
     ]
    },
    {
     "name": "stdout",
     "output_type": "stream",
     "text": [
      "Iteration 10 acc: 0.24675925925925926 "
     ]
    },
    {
     "name": "stderr",
     "output_type": "stream",
     "text": [
      " 23% (23 of 100) |#####                  | Elapsed Time: 0:00:01 ETA:   0:00:03"
     ]
    },
    {
     "name": "stdout",
     "output_type": "stream",
     "text": [
      "Iteration 20 acc: 0.22847222222222222 "
     ]
    },
    {
     "name": "stderr",
     "output_type": "stream",
     "text": [
      " 32% (32 of 100) |#######                | Elapsed Time: 0:00:01 ETA:   0:00:03"
     ]
    },
    {
     "name": "stdout",
     "output_type": "stream",
     "text": [
      "Iteration 30 acc: 0.25763888888888886 "
     ]
    },
    {
     "name": "stderr",
     "output_type": "stream",
     "text": [
      " 42% (42 of 100) |#########              | Elapsed Time: 0:00:02 ETA:   0:00:03"
     ]
    },
    {
     "name": "stdout",
     "output_type": "stream",
     "text": [
      "Iteration 40 acc: 0.23842592592592593 "
     ]
    },
    {
     "name": "stderr",
     "output_type": "stream",
     "text": [
      " 52% (52 of 100) |###########            | Elapsed Time: 0:00:02 ETA:   0:00:03"
     ]
    },
    {
     "name": "stdout",
     "output_type": "stream",
     "text": [
      "Iteration 50 acc: 0.28055555555555556 "
     ]
    },
    {
     "name": "stderr",
     "output_type": "stream",
     "text": [
      " 62% (62 of 100) |##############         | Elapsed Time: 0:00:03 ETA:   0:00:02"
     ]
    },
    {
     "name": "stdout",
     "output_type": "stream",
     "text": [
      "Iteration 60 acc: 0.21550925925925926 "
     ]
    },
    {
     "name": "stderr",
     "output_type": "stream",
     "text": [
      " 73% (73 of 100) |################       | Elapsed Time: 0:00:04 ETA:   0:00:01"
     ]
    },
    {
     "name": "stdout",
     "output_type": "stream",
     "text": [
      "Iteration 70 acc: 0.2474537037037037 "
     ]
    },
    {
     "name": "stderr",
     "output_type": "stream",
     "text": [
      " 82% (82 of 100) |##################     | Elapsed Time: 0:00:04 ETA:   0:00:01"
     ]
    },
    {
     "name": "stdout",
     "output_type": "stream",
     "text": [
      "Iteration 80 acc: 0.16620370370370371 "
     ]
    },
    {
     "name": "stderr",
     "output_type": "stream",
     "text": [
      " 92% (92 of 100) |#####################  | Elapsed Time: 0:00:05 ETA:   0:00:00"
     ]
    },
    {
     "name": "stdout",
     "output_type": "stream",
     "text": [
      "Iteration 90 acc: 0.25578703703703703 "
     ]
    },
    {
     "name": "stderr",
     "output_type": "stream",
     "text": [
      "  2% (2 of 100) |                        | Elapsed Time: 0:00:00 ETA:   0:00:04"
     ]
    },
    {
     "name": "stdout",
     "output_type": "stream",
     "text": [
      "\n",
      "Split 1 test Scores: F1: 0.8916948340682737  BA: 0.3120509402189166  ACC: 0.8824074074074074\n",
      "\n",
      "Split:  2\n",
      "Num Pos in Test: 502\n",
      "Num Pos in Train: 2870\n"
     ]
    },
    {
     "name": "stderr",
     "output_type": "stream",
     "text": [
      " 11% (11 of 100) |##                     | Elapsed Time: 0:00:00 ETA:   0:00:05"
     ]
    },
    {
     "name": "stdout",
     "output_type": "stream",
     "text": [
      "Iteration 10 acc: 0.3541666666666667 "
     ]
    },
    {
     "name": "stderr",
     "output_type": "stream",
     "text": [
      " 21% (21 of 100) |####                   | Elapsed Time: 0:00:01 ETA:   0:00:04"
     ]
    },
    {
     "name": "stdout",
     "output_type": "stream",
     "text": [
      "Iteration 20 acc: 0.36921296296296297 "
     ]
    },
    {
     "name": "stderr",
     "output_type": "stream",
     "text": [
      " 32% (32 of 100) |#######                | Elapsed Time: 0:00:01 ETA:   0:00:04"
     ]
    },
    {
     "name": "stdout",
     "output_type": "stream",
     "text": [
      "Iteration 30 acc: 0.2793981481481482 "
     ]
    },
    {
     "name": "stderr",
     "output_type": "stream",
     "text": [
      " 42% (42 of 100) |#########              | Elapsed Time: 0:00:02 ETA:   0:00:03"
     ]
    },
    {
     "name": "stdout",
     "output_type": "stream",
     "text": [
      "Iteration 40 acc: 0.33240740740740743 "
     ]
    },
    {
     "name": "stderr",
     "output_type": "stream",
     "text": [
      " 54% (54 of 100) |############           | Elapsed Time: 0:00:03 ETA:   0:00:02"
     ]
    },
    {
     "name": "stdout",
     "output_type": "stream",
     "text": [
      "Iteration 50 acc: 0.3326388888888889 "
     ]
    },
    {
     "name": "stderr",
     "output_type": "stream",
     "text": [
      " 63% (63 of 100) |##############         | Elapsed Time: 0:00:03 ETA:   0:00:02"
     ]
    },
    {
     "name": "stdout",
     "output_type": "stream",
     "text": [
      "Iteration 60 acc: 0.3958333333333333 "
     ]
    },
    {
     "name": "stderr",
     "output_type": "stream",
     "text": [
      " 71% (71 of 100) |################       | Elapsed Time: 0:00:04 ETA:   0:00:01"
     ]
    },
    {
     "name": "stdout",
     "output_type": "stream",
     "text": [
      "Iteration 70 acc: 0.3527777777777778 "
     ]
    },
    {
     "name": "stderr",
     "output_type": "stream",
     "text": [
      " 83% (83 of 100) |###################    | Elapsed Time: 0:00:05 ETA:   0:00:01"
     ]
    },
    {
     "name": "stdout",
     "output_type": "stream",
     "text": [
      "Iteration 80 acc: 0.35671296296296295 "
     ]
    },
    {
     "name": "stderr",
     "output_type": "stream",
     "text": [
      " 93% (93 of 100) |#####################  | Elapsed Time: 0:00:05 ETA:   0:00:00"
     ]
    },
    {
     "name": "stdout",
     "output_type": "stream",
     "text": [
      "Iteration 90 acc: 0.34328703703703706 "
     ]
    },
    {
     "name": "stderr",
     "output_type": "stream",
     "text": [
      "  0% (0 of 100) |                        | Elapsed Time: 0:00:00 ETA:  --:--:--"
     ]
    },
    {
     "name": "stdout",
     "output_type": "stream",
     "text": [
      "\n",
      "Split 2 test Scores: F1: 0.42198314641906925  BA: 0.25645843410102814  ACC: 0.5407407407407407\n",
      "\n",
      "Split:  3\n",
      "Num Pos in Test: 943\n",
      "Num Pos in Train: 2429\n"
     ]
    },
    {
     "name": "stderr",
     "output_type": "stream",
     "text": [
      " 13% (13 of 100) |##                     | Elapsed Time: 0:00:00 ETA:   0:00:05"
     ]
    },
    {
     "name": "stdout",
     "output_type": "stream",
     "text": [
      "Iteration 10 acc: 0.4798611111111111 "
     ]
    },
    {
     "name": "stderr",
     "output_type": "stream",
     "text": [
      " 23% (23 of 100) |#####                  | Elapsed Time: 0:00:01 ETA:   0:00:05"
     ]
    },
    {
     "name": "stdout",
     "output_type": "stream",
     "text": [
      "Iteration 20 acc: 0.4618055555555556 "
     ]
    },
    {
     "name": "stderr",
     "output_type": "stream",
     "text": [
      " 31% (31 of 100) |#######                | Elapsed Time: 0:00:02 ETA:   0:00:04"
     ]
    },
    {
     "name": "stdout",
     "output_type": "stream",
     "text": [
      "Iteration 30 acc: 0.49398148148148147 "
     ]
    },
    {
     "name": "stderr",
     "output_type": "stream",
     "text": [
      " 42% (42 of 100) |#########              | Elapsed Time: 0:00:03 ETA:   0:00:04"
     ]
    },
    {
     "name": "stdout",
     "output_type": "stream",
     "text": [
      "Iteration 40 acc: 0.45393518518518516 "
     ]
    },
    {
     "name": "stderr",
     "output_type": "stream",
     "text": [
      " 52% (52 of 100) |###########            | Elapsed Time: 0:00:03 ETA:   0:00:03"
     ]
    },
    {
     "name": "stdout",
     "output_type": "stream",
     "text": [
      "Iteration 50 acc: 0.4546296296296296 "
     ]
    },
    {
     "name": "stderr",
     "output_type": "stream",
     "text": [
      " 61% (61 of 100) |##############         | Elapsed Time: 0:00:04 ETA:   0:00:03"
     ]
    },
    {
     "name": "stdout",
     "output_type": "stream",
     "text": [
      "Iteration 60 acc: 0.41597222222222224 "
     ]
    },
    {
     "name": "stderr",
     "output_type": "stream",
     "text": [
      " 73% (73 of 100) |################       | Elapsed Time: 0:00:05 ETA:   0:00:02"
     ]
    },
    {
     "name": "stdout",
     "output_type": "stream",
     "text": [
      "Iteration 70 acc: 0.45717592592592593 "
     ]
    },
    {
     "name": "stderr",
     "output_type": "stream",
     "text": [
      " 83% (83 of 100) |###################    | Elapsed Time: 0:00:05 ETA:   0:00:01"
     ]
    },
    {
     "name": "stdout",
     "output_type": "stream",
     "text": [
      "Iteration 80 acc: 0.29907407407407405 "
     ]
    },
    {
     "name": "stderr",
     "output_type": "stream",
     "text": [
      " 91% (91 of 100) |####################   | Elapsed Time: 0:00:06 ETA:   0:00:00"
     ]
    },
    {
     "name": "stdout",
     "output_type": "stream",
     "text": [
      "Iteration 90 acc: 0.45949074074074076 "
     ]
    },
    {
     "name": "stderr",
     "output_type": "stream",
     "text": [
      "  2% (2 of 100) |                        | Elapsed Time: 0:00:00 ETA:   0:00:05"
     ]
    },
    {
     "name": "stdout",
     "output_type": "stream",
     "text": [
      "\n",
      "Split 3 test Scores: F1: 0.060488810351147615  BA: 0.17750397285778394  ACC: 0.13796296296296295\n",
      "\n",
      "Split:  4\n",
      "Num Pos in Test: 928\n",
      "Num Pos in Train: 2444\n"
     ]
    },
    {
     "name": "stderr",
     "output_type": "stream",
     "text": [
      " 12% (12 of 100) |##                     | Elapsed Time: 0:00:00 ETA:   0:00:06"
     ]
    },
    {
     "name": "stdout",
     "output_type": "stream",
     "text": [
      "Iteration 10 acc: 0.462037037037037 "
     ]
    },
    {
     "name": "stderr",
     "output_type": "stream",
     "text": [
      " 23% (23 of 100) |#####                  | Elapsed Time: 0:00:01 ETA:   0:00:06"
     ]
    },
    {
     "name": "stdout",
     "output_type": "stream",
     "text": [
      "Iteration 20 acc: 0.4976851851851852 "
     ]
    },
    {
     "name": "stderr",
     "output_type": "stream",
     "text": [
      " 33% (33 of 100) |#######                | Elapsed Time: 0:00:02 ETA:   0:00:05"
     ]
    },
    {
     "name": "stdout",
     "output_type": "stream",
     "text": [
      "Iteration 30 acc: 0.30115740740740743 "
     ]
    },
    {
     "name": "stderr",
     "output_type": "stream",
     "text": [
      " 42% (42 of 100) |#########              | Elapsed Time: 0:00:03 ETA:   0:00:04"
     ]
    },
    {
     "name": "stdout",
     "output_type": "stream",
     "text": [
      "Iteration 40 acc: 0.46296296296296297 "
     ]
    },
    {
     "name": "stderr",
     "output_type": "stream",
     "text": [
      " 52% (52 of 100) |###########            | Elapsed Time: 0:00:03 ETA:   0:00:03"
     ]
    },
    {
     "name": "stdout",
     "output_type": "stream",
     "text": [
      "Iteration 50 acc: 0.4965277777777778 "
     ]
    },
    {
     "name": "stderr",
     "output_type": "stream",
     "text": [
      " 61% (61 of 100) |##############         | Elapsed Time: 0:00:04 ETA:   0:00:02"
     ]
    },
    {
     "name": "stdout",
     "output_type": "stream",
     "text": [
      "Iteration 60 acc: 0.43703703703703706 "
     ]
    },
    {
     "name": "stderr",
     "output_type": "stream",
     "text": [
      " 71% (71 of 100) |################       | Elapsed Time: 0:00:05 ETA:   0:00:01"
     ]
    },
    {
     "name": "stdout",
     "output_type": "stream",
     "text": [
      "Iteration 70 acc: 0.4583333333333333 "
     ]
    },
    {
     "name": "stderr",
     "output_type": "stream",
     "text": [
      " 83% (83 of 100) |###################    | Elapsed Time: 0:00:05 ETA:   0:00:01"
     ]
    },
    {
     "name": "stdout",
     "output_type": "stream",
     "text": [
      "Iteration 80 acc: 0.4465277777777778 "
     ]
    },
    {
     "name": "stderr",
     "output_type": "stream",
     "text": [
      " 92% (92 of 100) |#####################  | Elapsed Time: 0:00:06 ETA:   0:00:00"
     ]
    },
    {
     "name": "stdout",
     "output_type": "stream",
     "text": [
      "Iteration 90 acc: 0.4726851851851852 "
     ]
    },
    {
     "name": "stderr",
     "output_type": "stream",
     "text": [
      "  0% (0 of 100) |                        | Elapsed Time: 0:00:00 ETA:  --:--:--"
     ]
    },
    {
     "name": "stdout",
     "output_type": "stream",
     "text": [
      "\n",
      "Split 4 test Scores: F1: 0.1019527719543443  BA: 0.20699931283043738  ACC: 0.17685185185185184\n",
      "\n",
      "Split:  5\n",
      "Num Pos in Test: 937\n",
      "Num Pos in Train: 2435\n"
     ]
    },
    {
     "name": "stderr",
     "output_type": "stream",
     "text": [
      " 13% (13 of 100) |##                     | Elapsed Time: 0:00:00 ETA:   0:00:05"
     ]
    },
    {
     "name": "stdout",
     "output_type": "stream",
     "text": [
      "Iteration 10 acc: 0.49027777777777776 "
     ]
    },
    {
     "name": "stderr",
     "output_type": "stream",
     "text": [
      " 22% (22 of 100) |#####                  | Elapsed Time: 0:00:01 ETA:   0:00:05"
     ]
    },
    {
     "name": "stdout",
     "output_type": "stream",
     "text": [
      "Iteration 20 acc: 0.44305555555555554 "
     ]
    },
    {
     "name": "stderr",
     "output_type": "stream",
     "text": [
      " 31% (31 of 100) |#######                | Elapsed Time: 0:00:02 ETA:   0:00:04"
     ]
    },
    {
     "name": "stdout",
     "output_type": "stream",
     "text": [
      "Iteration 30 acc: 0.42569444444444443 "
     ]
    },
    {
     "name": "stderr",
     "output_type": "stream",
     "text": [
      " 42% (42 of 100) |#########              | Elapsed Time: 0:00:02 ETA:   0:00:04"
     ]
    },
    {
     "name": "stdout",
     "output_type": "stream",
     "text": [
      "Iteration 40 acc: 0.4925925925925926 "
     ]
    },
    {
     "name": "stderr",
     "output_type": "stream",
     "text": [
      " 52% (52 of 100) |###########            | Elapsed Time: 0:00:03 ETA:   0:00:03"
     ]
    },
    {
     "name": "stdout",
     "output_type": "stream",
     "text": [
      "Iteration 50 acc: 0.49537037037037035 "
     ]
    },
    {
     "name": "stderr",
     "output_type": "stream",
     "text": [
      " 63% (63 of 100) |##############         | Elapsed Time: 0:00:04 ETA:   0:00:02"
     ]
    },
    {
     "name": "stdout",
     "output_type": "stream",
     "text": [
      "Iteration 60 acc: 0.3398148148148148 "
     ]
    },
    {
     "name": "stderr",
     "output_type": "stream",
     "text": [
      " 73% (73 of 100) |################       | Elapsed Time: 0:00:04 ETA:   0:00:01"
     ]
    },
    {
     "name": "stdout",
     "output_type": "stream",
     "text": [
      "Iteration 70 acc: 0.45555555555555555 "
     ]
    },
    {
     "name": "stderr",
     "output_type": "stream",
     "text": [
      " 80% (80 of 100) |##################     | Elapsed Time: 0:00:05 ETA:   0:00:01"
     ]
    },
    {
     "name": "stdout",
     "output_type": "stream",
     "text": [
      "Iteration 80 acc: 0.4615740740740741 "
     ]
    },
    {
     "name": "stderr",
     "output_type": "stream",
     "text": [
      " 92% (92 of 100) |#####################  | Elapsed Time: 0:00:06 ETA:   0:00:00"
     ]
    },
    {
     "name": "stdout",
     "output_type": "stream",
     "text": [
      "Iteration 90 acc: 0.4564814814814815 "
     ]
    },
    {
     "name": "stderr",
     "output_type": "stream",
     "text": [
      " 99% (99 of 100) |###################### | Elapsed Time: 0:00:06 ETA:   0:00:00"
     ]
    },
    {
     "name": "stdout",
     "output_type": "stream",
     "text": [
      "\n",
      "Split 5 test Scores: F1: 0.06528544934563082  BA: 0.18292751425281548  ACC: 0.14814814814814814\n",
      "\n",
      "\n"
     ]
    }
   ],
   "source": [
    "accumulated_test_metrics = {}\n",
    "\n",
    "accumulated_test_results = {}\n",
    "\n",
    "accumulated_best_params = {}\n",
    "\n",
    "accumulated_cfmxs = {}\n",
    "\n",
    "discovered_labels = []\n",
    "\n",
    "# split data\n",
    "tss = TimeSeriesSplit(NUM_SPLITS)\n",
    "kf = KFold(NUM_SPLITS)\n",
    "skf = StratifiedKFold(NUM_SPLITS)\n",
    "\n",
    "overall_start = datetime.datetime.now()\n",
    "\n",
    "split = 1\n",
    "divide_by_zero_errs = 0\n",
    "\n",
    "for train_val_indices, test_indices in kf.split(cands):\n",
    "    X_train, y_train = [cands[i] for i in train_val_indices], [\n",
    "        truths[i] for i in train_val_indices\n",
    "    ]\n",
    "\n",
    "    X_test, y_test = [cands[i] for i in test_indices], [truths[i] for i in test_indices]\n",
    "\n",
    "    max_fold_metric = 0\n",
    "    max_result = None\n",
    "\n",
    "    # print out info for user\n",
    "    print(\"\\nSplit: \", split)\n",
    "    split_start = datetime.datetime.now()\n",
    "    num_pos_test = len(list(filter(lambda x: x[2] != \"NAP\", y_test)))\n",
    "    num_pos_train = len(list(filter(lambda x: x[2] != \"NAP\", y_train)))\n",
    "\n",
    "    print(f\"Num Pos in Test: {num_pos_test}\")\n",
    "    print(f\"Num Pos in Train: {num_pos_train}\")\n",
    "\n",
    "    if num_pos_test >= 1 and num_pos_train >= 1: # TODO check this line\n",
    "        # instantiate the progress bar\n",
    "        pbar = progressbar.ProgressBar(max_value=ITERATIONS)\n",
    "\n",
    "        # main training loop\n",
    "        for iteration in range(ITERATIONS):\n",
    "            params = {}\n",
    "\n",
    "            # start the iteration for each classifier (resets predictions, generates params)\n",
    "            params[\"plp\"] = plp_classifer.start_iteration()\n",
    "            params[\"skp\"] = skp_classifier.start_iteration()\n",
    "            params[\"pp\"] = pp_classifier.start_iteration()\n",
    "\n",
    "            # empty predictions array\n",
    "            train_preds = []\n",
    "\n",
    "            plp_preds = plp_classifer.classify_samples(X_train)\n",
    "            skp_preds = skp_classifier.classify_samples(X_train)\n",
    "            pp_preds = pp_classifier.classify_samples(X_train)\n",
    "            for i, pred in enumerate(plp_preds):\n",
    "                train_pred = get_prediction(pred[1], skp_preds[i][1], pp_preds[i][1])\n",
    "                train_preds.append(train_pred)\n",
    "\n",
    "            ######## GET SCORES ########\n",
    "            bal_acc = balanced_accuracy_score(\n",
    "                [row[2] for row in y_train],\n",
    "                [row for row in train_preds],\n",
    "            )\n",
    "\n",
    "            acc = accuracy_score(\n",
    "                [row[2] for row in y_train],\n",
    "                [row for row in train_preds],\n",
    "            )\n",
    "\n",
    "            f1_train = f1_score(\n",
    "                [row[2] for row in y_train],\n",
    "                [row for row in train_preds],\n",
    "                average=None\n",
    "            )\n",
    "\n",
    "            # print out acc in 10 even splits\n",
    "            if iteration and iteration % int(ITERATIONS / 10) == 0:\n",
    "                print(\"Iteration {} acc: {} \".format(iteration, acc), end=\"\")\n",
    "\n",
    "            # check acc, if better than max fold, save it\n",
    "            if acc > max_fold_metric:\n",
    "                max_fold_metric = acc\n",
    "                max_result = copy.deepcopy(train_preds)\n",
    "\n",
    "                # save params of classifiers\n",
    "                plp_classifer.got_best_result()\n",
    "                skp_classifier.got_best_result()\n",
    "                pp_classifier.got_best_results()\n",
    "\n",
    "            # call end of iteration, as we are at the end of an iteration\n",
    "            # allows individual classifiers to calc results\n",
    "            plp_classifer.end_of_iteration(y_train)\n",
    "            skp_classifier.end_of_iteration(y_train)\n",
    "            pp_classifier.end_of_iteration(y_train)\n",
    "\n",
    "            # update the progressbar\n",
    "            pbar.update(iteration)\n",
    "\n",
    "        # perform peak testing\n",
    "        test_preds = []\n",
    "        plp_preds = plp_classifer.classify_samples(X_test, True)\n",
    "        skp_preds = skp_classifier.classify_samples(X_test, True)\n",
    "        pp_preds = pp_classifier.classify_samples(X_test, True)\n",
    "        for i, pred in enumerate(plp_preds):\n",
    "            test_pred = get_prediction(pred[1], skp_preds[i][1], pp_preds[i][1])\n",
    "            test_preds.append(test_pred)\n",
    "\n",
    "        ######## GET SCORES ########\n",
    "        # get confusion matrix\n",
    "        cfmx = confusion_matrix(\n",
    "            [row[2] for row in y_test],\n",
    "            [row for row in test_preds],\n",
    "            labels=DATA_LABELS,\n",
    "        )\n",
    "\n",
    "        # get acc score\n",
    "        acc_score = accuracy_score(\n",
    "            [row[2] for row in y_test],\n",
    "            [row for row in test_preds],\n",
    "        )\n",
    "\n",
    "        bal_acc = balanced_accuracy_score(\n",
    "            [row[2] for row in y_test],\n",
    "            [row for row in test_preds],\n",
    "        )\n",
    "\n",
    "        f1 = f1_score(\n",
    "            [row[2] for row in y_test],\n",
    "            [row for row in test_preds],\n",
    "            average=\"weighted\",\n",
    "        )\n",
    "\n",
    "        precision = precision_score(\n",
    "            [row[2] for row in y_test],\n",
    "            [row for row in test_preds],\n",
    "            average=\"weighted\",\n",
    "        )\n",
    "\n",
    "        print(f\"\\nSplit {split} test Scores: F1: {f1}  BA: {bal_acc}  ACC: {acc_score}\")\n",
    "\n",
    "        accumulated_cfmxs[split] = copy.deepcopy(cfmx)\n",
    "\n",
    "        accumulated_test_metrics[split] = {\n",
    "            \"f1\": f1,\n",
    "            \"acc\": acc_score,\n",
    "            \"ba\": bal_acc,\n",
    "            \"precision\": precision,\n",
    "        }\n",
    "\n",
    "        accumulated_test_results[split] = copy.deepcopy(test_preds)\n",
    "\n",
    "        # save the best params\n",
    "        accumulated_best_params[split] = {\n",
    "            \"PLP\": copy.deepcopy(plp_classifer.best_params),\n",
    "            \"SKP\": copy.deepcopy(skp_classifier.best_params),\n",
    "            \"PP\": copy.deepcopy(pp_classifier.best_params),\n",
    "        }\n",
    "\n",
    "        # increment split\n",
    "        split += 1\n",
    "\n",
    "# print a newline char for better display\n",
    "print(\"\\n\")\n",
    "\n",
    "overall_end_time = datetime.datetime.now()\n"
   ]
  },
  {
   "cell_type": "markdown",
   "metadata": {},
   "source": [
    "## Display Metrics\n"
   ]
  },
  {
   "cell_type": "code",
   "execution_count": 15,
   "metadata": {},
   "outputs": [
    {
     "name": "stdout",
     "output_type": "stream",
     "text": [
      "Mean Test F1:  0.3082810024276931\n",
      "Mean Test BA:  0.22718803485219632\n",
      "Mean Test Acc:  0.37722222222222224\n",
      "Mean Test Precision:  0.3496847360500984\n",
      "\n",
      "Params from split 1:\n",
      "\n",
      "For peak type PLP:\n",
      "max_basewidth, value: 8\n",
      "min_prominence, value: 8.255596932104002\n",
      "interference_x_proximity, value: 0\n",
      "interference_y_proximity, value: 4\n",
      "proximity_threshold, value: 3\n",
      "\n",
      "For peak type SKP:\n",
      "max_basewidth, value: 8\n",
      "min_prominence, value: 11.288516544743189\n",
      "downward_bases_threshold, value: 4\n",
      "proximity_threshold, value: 0\n",
      "\n",
      "For peak type PP:\n",
      "x, value: 22\n",
      "y, value: 21\n",
      "ratio_threshold, value: 16.298132237735988\n",
      "\n",
      "Params from split 2:\n",
      "\n",
      "For peak type PLP:\n",
      "max_basewidth, value: 4\n",
      "min_prominence, value: 7.572616617072754\n",
      "interference_x_proximity, value: 4\n",
      "interference_y_proximity, value: 7\n",
      "proximity_threshold, value: 1\n",
      "\n",
      "For peak type SKP:\n",
      "max_basewidth, value: 8\n",
      "min_prominence, value: 7.612441283623003\n",
      "downward_bases_threshold, value: 0\n",
      "proximity_threshold, value: 16\n",
      "\n",
      "For peak type PP:\n",
      "x, value: 13\n",
      "y, value: 100\n",
      "ratio_threshold, value: 14.65083898028772\n",
      "\n",
      "Params from split 3:\n",
      "\n",
      "For peak type PLP:\n",
      "max_basewidth, value: 3\n",
      "min_prominence, value: 5.624414356266435\n",
      "interference_x_proximity, value: 0\n",
      "interference_y_proximity, value: 5\n",
      "proximity_threshold, value: 19\n",
      "\n",
      "For peak type SKP:\n",
      "max_basewidth, value: 10\n",
      "min_prominence, value: 18.738308546653442\n",
      "downward_bases_threshold, value: 2\n",
      "proximity_threshold, value: 18\n",
      "\n",
      "For peak type PP:\n",
      "x, value: 17\n",
      "y, value: 19\n",
      "ratio_threshold, value: 19.865336715464373\n",
      "\n",
      "Params from split 4:\n",
      "\n",
      "For peak type PLP:\n",
      "max_basewidth, value: 5\n",
      "min_prominence, value: 7.288972364949623\n",
      "interference_x_proximity, value: 5\n",
      "interference_y_proximity, value: 0\n",
      "proximity_threshold, value: 3\n",
      "\n",
      "For peak type SKP:\n",
      "max_basewidth, value: 9\n",
      "min_prominence, value: 9.00386248869933\n",
      "downward_bases_threshold, value: 0\n",
      "proximity_threshold, value: 11\n",
      "\n",
      "For peak type PP:\n",
      "x, value: 32\n",
      "y, value: 35\n",
      "ratio_threshold, value: 15.561975878372289\n",
      "\n",
      "Params from split 5:\n",
      "\n",
      "For peak type PLP:\n",
      "max_basewidth, value: 6\n",
      "min_prominence, value: 6.065294672102713\n",
      "interference_x_proximity, value: 2\n",
      "interference_y_proximity, value: 6\n",
      "proximity_threshold, value: 6\n",
      "\n",
      "For peak type SKP:\n",
      "max_basewidth, value: 2\n",
      "min_prominence, value: 12.639683681000232\n",
      "downward_bases_threshold, value: 4\n",
      "proximity_threshold, value: 17\n",
      "\n",
      "For peak type PP:\n",
      "x, value: 39\n",
      "y, value: 51\n",
      "ratio_threshold, value: 14.539012285447395\n"
     ]
    },
    {
     "data": {
      "image/png": "[encoded data removed]",
      "text/plain": [
       "<Figure size 720x504 with 2 Axes>"
      ]
     },
     "metadata": {
      "needs_background": "light"
     },
     "output_type": "display_data"
    },
    {
     "data": {
      "image/png": "[encoded data removed]",
      "text/plain": [
       "<Figure size 720x504 with 2 Axes>"
      ]
     },
     "metadata": {},
     "output_type": "display_data"
    }
   ],
   "source": [
    "mean_f1 = 0\n",
    "mean_ba = 0\n",
    "mean_precision = 0\n",
    "mean_acc = 0\n",
    "\n",
    "for key in accumulated_test_metrics:\n",
    "    metrics = accumulated_test_metrics[key]\n",
    "\n",
    "    mean_f1 += metrics[\"f1\"]\n",
    "    mean_ba += metrics[\"ba\"]\n",
    "    mean_precision += metrics[\"precision\"]\n",
    "    mean_acc += metrics[\"acc\"]\n",
    "\n",
    "print(\"Mean Test F1: \", mean_f1 / len(accumulated_test_metrics))\n",
    "print(\"Mean Test BA: \", mean_ba / len(accumulated_test_metrics))\n",
    "print(\"Mean Test Acc: \", mean_acc / len(accumulated_test_metrics))\n",
    "print(\"Mean Test Precision: \", mean_precision / len(accumulated_test_metrics))\n",
    "\n",
    "for split in accumulated_best_params.keys():\n",
    "    print(f\"\\nParams from split {split}:\")\n",
    "    for peak in accumulated_best_params[split].keys():\n",
    "        print(f\"\\nFor peak type {peak}:\")\n",
    "\n",
    "        for param in accumulated_best_params[split][peak].keys():\n",
    "            print(f\"{param}, value: {accumulated_best_params[split][peak][param]}\")\n",
    "\n",
    "# print(\"Training time: \", overall_end_time - overall_start)\n",
    "\n",
    "mean_cfmx = np.zeros((len(DATA_LABELS), len(DATA_LABELS)))\n",
    "for key in accumulated_cfmxs.keys():\n",
    "    mean_cfmx += accumulated_cfmxs[key]\n",
    "\n",
    "mean_cfmx = mean_cfmx / len(accumulated_cfmxs)\n",
    "\n",
    "plt.figure(figsize=(10, 7))\n",
    "plt.title(label=\"fDOM Peak Detection Ratio Confusion Matrix\")\n",
    "\n",
    "sn.set(font_scale=1.5)\n",
    "\n",
    "sn.heatmap(\n",
    "    pd.DataFrame(\n",
    "        mean_cfmx.astype(\"float\") / mean_cfmx.sum(axis=1)[:, np.newaxis],\n",
    "        index=DATA_LABELS,\n",
    "        columns=DATA_LABELS,\n",
    "    ),\n",
    "    annot=True,\n",
    "    annot_kws={\"size\": 16},\n",
    ")\n",
    "\n",
    "plt.xlabel(\"Ground Truths\")\n",
    "plt.ylabel(\"Predictions\")\n",
    "plt.show()\n",
    "\n",
    "plt.figure(figsize=(10, 7))\n",
    "plt.title(label=\"fDOM Peak Detection Normal Confusion Matrix\")\n",
    "\n",
    "sn.set(font_scale=1.5)\n",
    "\n",
    "sn.heatmap(\n",
    "    pd.DataFrame(\n",
    "        mean_cfmx,\n",
    "        index=DATA_LABELS,\n",
    "        columns=DATA_LABELS,\n",
    "    ),\n",
    "    annot=True,\n",
    "    annot_kws={\"size\": 16},\n",
    ")\n",
    "\n",
    "plt.xlabel(\"Ground Truths\")\n",
    "plt.ylabel(\"Predictions\")\n",
    "plt.show()\n"
   ]
  },
  {
   "cell_type": "code",
   "execution_count": 16,
   "metadata": {},
   "outputs": [
    {
     "ename": "FileNotFoundError",
     "evalue": "[Errno 2] No such file or directory: './Experimental_Results/fdom_multiclass/best_params.pkl'",
     "output_type": "error",
     "traceback": [
      "\u001b[0;31m---------------------------------------------------------------------------\u001b[0m",
      "\u001b[0;31mFileNotFoundError\u001b[0m                         Traceback (most recent call last)",
      "\u001b[1;32m/Users/claykaufmann/Projects/srrw-anomaly-detection/multiclass_fDOM.ipynb Cell 23'\u001b[0m in \u001b[0;36m<module>\u001b[0;34m\u001b[0m\n\u001b[0;32m----> <a href='vscode-notebook-cell:/Users/claykaufmann/Projects/srrw-anomaly-detection/multiclass_fDOM.ipynb#ch0000022?line=0'>1</a>\u001b[0m \u001b[39mwith\u001b[39;00m \u001b[39mopen\u001b[39;49m(\u001b[39m'\u001b[39;49m\u001b[39m./Experimental_Results/fdom_multiclass/best_params.pkl\u001b[39;49m\u001b[39m'\u001b[39;49m, \u001b[39m'\u001b[39;49m\u001b[39mwb\u001b[39;49m\u001b[39m'\u001b[39;49m) \u001b[39mas\u001b[39;00m pck_file:\n\u001b[1;32m      <a href='vscode-notebook-cell:/Users/claykaufmann/Projects/srrw-anomaly-detection/multiclass_fDOM.ipynb#ch0000022?line=1'>2</a>\u001b[0m     pickle\u001b[39m.\u001b[39mdump(accumulated_best_params, pck_file)\n\u001b[1;32m      <a href='vscode-notebook-cell:/Users/claykaufmann/Projects/srrw-anomaly-detection/multiclass_fDOM.ipynb#ch0000022?line=2'>3</a>\u001b[0m     pck_file\u001b[39m.\u001b[39mclose()\n",
      "\u001b[0;31mFileNotFoundError\u001b[0m: [Errno 2] No such file or directory: './Experimental_Results/fdom_multiclass/best_params.pkl'"
     ]
    }
   ],
   "source": [
    "with open('Experimental_Results/fdom_multiclass/best_params.pkl', 'wb') as pck_file:\n",
    "    pickle.dump(accumulated_best_params, pck_file)\n",
    "    pck_file.close()\n",
    "    \n",
    "# Pickle test results\n",
    "with open('Experimental_Results/fdom_multiclass/test_results.pkl', 'wb') as pck_file:\n",
    "    pickle.dump(accumulated_test_results, pck_file)\n",
    "    pck_file.close()\n",
    "\n",
    "# Pickle test metrics\n",
    "with open('Experimental_Results/fdom_multiclass/test_metrics.pkl', 'wb') as pck_file:\n",
    "    pickle.dump(accumulated_test_metrics, pck_file)\n",
    "    pck_file.close()"
   ]
  },
  {
   "cell_type": "markdown",
   "metadata": {},
   "source": [
    "### Statistics from individual classifiers"
   ]
  },
  {
   "cell_type": "code",
   "execution_count": 17,
   "metadata": {},
   "outputs": [
    {
     "name": "stdout",
     "output_type": "stream",
     "text": [
      "PLP CLASSIFIER INFO:\n",
      "ACC: 0.5984667672481876\n",
      "f1: 0.37869062901155326\n",
      "\n",
      "\n",
      "SKP CLASSIFIER INFO:\n",
      "ACC: 0.593008676517846\n",
      "f1: 0.3792884371029225\n",
      "\n",
      "\n",
      "PP CLASSIFIER INFO:\n",
      "ACC: 0.566698620362856\n",
      "f1: 0.5553078374206826\n",
      "\n",
      "\n"
     ]
    }
   ],
   "source": [
    "# print accuracies\n",
    "print(\"PLP CLASSIFIER INFO:\")\n",
    "print(\"ACC: \" + str(plp_classifer.best_acc))\n",
    "print(\"f1: \" + str(plp_classifer.best_f1_score))\n",
    "print(\"\\n\")\n",
    "\n",
    "print(\"SKP CLASSIFIER INFO:\")\n",
    "print(\"ACC: \" + str(skp_classifier.best_acc))\n",
    "print(\"f1: \" + str(skp_classifier.best_f1_score))\n",
    "print(\"\\n\")\n",
    "\n",
    "print(\"PP CLASSIFIER INFO:\")\n",
    "print(\"ACC: \" + str(pp_classifier.best_acc))\n",
    "print(\"f1: \" + str(pp_classifier.best_f1_score))\n",
    "print(\"\\n\")\n"
   ]
  }
 ],
 "metadata": {
  "interpreter": {
   "hash": "8ed753961bdc37ee89b4275051722ceb8ec0b57b8793db9d189305c313070a7d"
  },
  "kernelspec": {
   "display_name": "Python 3.10.2 ('srrw')",
   "language": "python",
   "name": "python3"
  },
  "language_info": {
   "codemirror_mode": {
    "name": "ipython",
    "version": 3
   },
   "file_extension": ".py",
   "mimetype": "text/x-python",
   "name": "python",
   "nbconvert_exporter": "python",
   "pygments_lexer": "ipython3",
   "version": "3.10.2"
  },
  "orig_nbformat": 4
 },
 "nbformat": 4,
 "nbformat_minor": 2
}
