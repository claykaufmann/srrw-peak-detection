{
 "cells": [
  {
   "cell_type": "markdown",
   "metadata": {},
   "source": [
    "# Multiclass Peak Detection in fDOM\n",
    "\n",
    "This file combines all of the fDOM detection scripts into a singular classifier, that detects all peak types. On top of this, it also leverages the augmented data created previously.\n",
    "\n",
    "## Structure\n",
    "\n",
    "The core structure of the project is to have all individual classifiers running, and then when one detects a peak, it alerts the overall classifier \"manager\", which then takes note of the peak that a classifier has detected as an anomaly peak.\n"
   ]
  },
  {
   "cell_type": "code",
   "execution_count": 1,
   "metadata": {},
   "outputs": [],
   "source": [
    "# Imports\n",
    "from sklearn.model_selection import TimeSeriesSplit, KFold, StratifiedKFold\n",
    "import seaborn as sn\n",
    "from sklearn.metrics import (\n",
    "    confusion_matrix,\n",
    "    accuracy_score,\n",
    "    balanced_accuracy_score,\n",
    "    f1_score,\n",
    "    precision_score,\n",
    ")\n",
    "import pandas as pd\n",
    "import numpy as np\n",
    "import datetime\n",
    "import copy\n",
    "import matplotlib.pyplot as plt\n",
    "import pickle\n",
    "import progressbar\n",
    "\n",
    "import Tools.data_processing as dp\n",
    "import Tools.data_movement as dm\n",
    "from Tools.get_all_cands import get_all_cands_fDOM, get_all_truths_fDOM\n",
    "\n",
    "# import classifiers\n",
    "from Anomaly_Detection.Multiclass_Detection.fdom_classifiers.fDOM_PLP import (\n",
    "    fDOM_PLP_Classifier,\n",
    ")\n",
    "from Anomaly_Detection.Multiclass_Detection.fdom_classifiers.fDOM_FPT import (\n",
    "    fDOM_FPT_Classifier,\n",
    ")\n",
    "from Anomaly_Detection.Multiclass_Detection.fdom_classifiers.fDOM_FSK import (\n",
    "    fDOM_FSK_Classifier,\n",
    ")\n",
    "from Anomaly_Detection.Multiclass_Detection.fdom_classifiers.fDOM_PP import (\n",
    "    fDOM_PP_Classifier,\n",
    ")\n",
    "from Anomaly_Detection.Multiclass_Detection.fdom_classifiers.fDOM_SKP import (\n",
    "    fDOM_SKP_Classifier,\n",
    ")\n",
    "\n",
    "# disable warnings\n",
    "def warn(*args, **kwargs):\n",
    "    pass\n",
    "\n",
    "\n",
    "import warnings\n",
    "\n",
    "warnings.warn = warn\n"
   ]
  },
  {
   "cell_type": "markdown",
   "metadata": {},
   "source": [
    "## Training parameters and helper functions\n"
   ]
  },
  {
   "cell_type": "code",
   "execution_count": 2,
   "metadata": {},
   "outputs": [],
   "source": [
    "ITERATIONS = 100\n",
    "NUM_SPLITS = 5\n",
    "AUGMENT_DATA_BEGIN_TIMESTAMP = 2459096.9583333335\n",
    "USE_AUGMENTED_DATA = True\n",
    "CLASS_BALANCED_ONLY = False\n",
    "\n",
    "# for confusion matrix\n",
    "DATA_LABELS = [\"PLP\", \"SKP\", \"PP\", \"FPT\", \"FSK\", \"NAP\"]\n",
    "\n",
    "# Useful functions\n",
    "def get_prediction(plp_pred, skp_pred, pp_pred, fpt_pred, fsk_pred):\n",
    "    \"\"\"\n",
    "    take the top level prediction based on peak precendence\n",
    "    \"\"\"\n",
    "\n",
    "    if plp_pred == \"PLP\":\n",
    "        return plp_pred\n",
    "\n",
    "    elif pp_pred == \"PP\":\n",
    "        return pp_pred\n",
    "\n",
    "    elif skp_pred == \"SKP\":\n",
    "        return skp_pred\n",
    "\n",
    "    elif fsk_pred == \"FSK\":\n",
    "        return fsk_pred\n",
    "\n",
    "    elif fpt_pred == \"FPT\":\n",
    "        return fpt_pred\n",
    "\n",
    "    else:\n",
    "        return \"NAP\"\n"
   ]
  },
  {
   "cell_type": "code",
   "execution_count": 3,
   "metadata": {},
   "outputs": [],
   "source": [
    "# Filenames\n",
    "fdom_raw_data = \"Data/converted_data/julian_format/fDOM_raw_10.1.2011-9.4.2020.csv\"\n",
    "stage_raw_data = \"Data/converted_data/julian_format/stage_10.1.11-1.1.19.csv\"\n",
    "turb_raw_data = \"Data/converted_data/julian_format/turbidity_raw_10.1.2011_9.4.2020.csv\"\n",
    "\n",
    "fdom_labeled = \"Data/labeled_data/ground_truths/fDOM/fDOM_all_julian_0k-300k.csv\"\n",
    "\n",
    "fdom_raw_augmented = \"Data/augmented_data/fdom/unlabeled/unlabeled_fdom.csv\"\n",
    "fdom_labeled_augmented = \"Data/augmented_data/fdom/labeled/labeled_fdom_peaks.csv\"\n",
    "\n",
    "turb_augmented_raw_data = \"Data/augmented_data/fdom/unlabeled/unlabeled_turb.csv\"\n",
    "\n",
    "stage_augmented_data_fn = \"Data/augmented_data/fdom/unlabeled/unlabeled_stage.csv\"\n",
    "\n",
    "# to get fsk/fpt peaks in augmented data\n",
    "fdom_fpt_lookup_path = \"Data/augmented_data/fdom/fpt_lookup.csv\"\n",
    "fdom_fsk_lookup_path = \"Data/augmented_data/fdom/fsk_lookup.csv\"\n"
   ]
  },
  {
   "cell_type": "code",
   "execution_count": 4,
   "metadata": {},
   "outputs": [],
   "source": [
    "# Load Data\n",
    "fDOM_data = dm.read_in_preprocessed_timeseries(fdom_raw_data)\n",
    "stage_data = dm.read_in_preprocessed_timeseries(stage_raw_data)\n",
    "turb_data = dm.read_in_preprocessed_timeseries(turb_raw_data)\n",
    "stage_data = dp.align_stage_to_fDOM(fDOM_data, stage_data)\n",
    "\n",
    "augmented_fdom_data = np.array(dm.read_in_timeseries(fdom_raw_augmented, True))\n",
    "augmented_turb_data = np.array(dm.read_in_timeseries(turb_augmented_raw_data, True))\n",
    "augmented_stage_data = np.array(dm.read_in_timeseries(stage_augmented_data_fn, True))\n"
   ]
  },
  {
   "cell_type": "markdown",
   "metadata": {},
   "source": [
    "## Get Candidates and truths\n"
   ]
  },
  {
   "cell_type": "code",
   "execution_count": 5,
   "metadata": {},
   "outputs": [
    {
     "name": "stdout",
     "output_type": "stream",
     "text": [
      "Total number of original data candidates: 1636\n"
     ]
    }
   ],
   "source": [
    "# get candidates from raw data\n",
    "cands = get_all_cands_fDOM(\n",
    "    fdom_raw_data,\n",
    "    fdom_labeled,\n",
    ")\n",
    "\n",
    "# get truths from raw data\n",
    "truths = get_all_truths_fDOM(fdom_labeled)\n",
    "\n",
    "# assert they are the same size\n",
    "assert truths.shape == cands.shape\n",
    "\n",
    "print(f\"Total number of original data candidates: {cands.shape[0]}\")\n"
   ]
  },
  {
   "cell_type": "markdown",
   "metadata": {},
   "source": [
    "### Augmented Data\n",
    "\n",
    "Make sure that `USE_AUGMENTED_DATA` == `True`, for this data to take effect\n"
   ]
  },
  {
   "cell_type": "code",
   "execution_count": 6,
   "metadata": {},
   "outputs": [
    {
     "name": "stdout",
     "output_type": "stream",
     "text": [
      "Total number of augmented candidates: 3764\n"
     ]
    }
   ],
   "source": [
    "if USE_AUGMENTED_DATA:\n",
    "    # get candidates from augmented data\n",
    "    cands_augmented = get_all_cands_fDOM(\n",
    "        fdom_raw_augmented,\n",
    "        fdom_labeled_augmented,\n",
    "        True,\n",
    "        fdom_fpt_lookup_path,\n",
    "        fdom_fsk_lookup_path,\n",
    "    )\n",
    "\n",
    "    truths_augmented = get_all_truths_fDOM(fdom_labeled_augmented, True)\n",
    "\n",
    "    # align the missing augmented data (FPT, NFPT, FSK, NFSK, some others)\n",
    "    truths_augmented = truths_augmented[\n",
    "        truths_augmented[\"idx_of_peak\"].isin(cands_augmented[\"idx_of_peak\"])\n",
    "    ]\n",
    "\n",
    "    assert truths_augmented.shape == cands_augmented.shape\n",
    "\n",
    "    print(f\"Total number of augmented candidates: {cands_augmented.shape[0]}\")\n",
    "\n",
    "    # concatenate two candidates and truths into single list\n",
    "    cands = pd.concat([cands, cands_augmented])\n",
    "    truths = pd.concat([truths, truths_augmented])\n",
    "\n",
    "    # concat augmented raw data to normal raw data, for classifier preprocessing\n",
    "    turb_data_total = np.concatenate((turb_data, augmented_turb_data))\n",
    "    fdom_total = np.concatenate((fDOM_data, augmented_fdom_data))\n",
    "    stage_total = np.concatenate((stage_data, augmented_stage_data))\n",
    "\n",
    "# if we aren't using augmented data, make sure classifiers have correct data being passed into them for preprocessing\n",
    "else:\n",
    "    turb_data_total = turb_data\n",
    "    fdom_total = fDOM_data\n",
    "    stage_total = stage_data\n"
   ]
  },
  {
   "cell_type": "markdown",
   "metadata": {},
   "source": [
    "## Alternatively, use only augmented data for pure class balanced training/testing\n"
   ]
  },
  {
   "cell_type": "code",
   "execution_count": 7,
   "metadata": {},
   "outputs": [],
   "source": [
    "if CLASS_BALANCED_ONLY:\n",
    "    # get candidates from augmented data\n",
    "    cands = get_all_cands_fDOM(\n",
    "        fdom_raw_augmented,\n",
    "        fdom_labeled_augmented,\n",
    "        True,\n",
    "        fdom_fpt_lookup_path,\n",
    "        fdom_fsk_lookup_path,\n",
    "    )\n",
    "\n",
    "    truths = get_all_truths_fDOM(fdom_labeled_augmented, True)\n",
    "\n",
    "    # align the missing augmented data (FPT, NFPT, FSK, NFSK, some others)\n",
    "    truths = truths[truths[\"idx_of_peak\"].isin(cands[\"idx_of_peak\"])]\n",
    "\n",
    "    assert truths.shape == cands.shape\n",
    "\n",
    "    print(f\"Total number of candidates: {cands.shape[0]}\")\n",
    "\n",
    "    turb_data_total = augmented_turb_data\n",
    "    fdom_total = augmented_fdom_data\n",
    "    stage_total = augmented_stage_data\n"
   ]
  },
  {
   "cell_type": "code",
   "execution_count": 8,
   "metadata": {},
   "outputs": [
    {
     "name": "stdout",
     "output_type": "stream",
     "text": [
      "5400 candidates in provided data.\n"
     ]
    }
   ],
   "source": [
    "# Convert cands and truths into lists\n",
    "cands = cands.values.tolist()\n",
    "\n",
    "truths = truths.values.tolist()\n",
    "\n",
    "print(str(len(cands)) + \" candidates in provided data.\")\n"
   ]
  },
  {
   "cell_type": "code",
   "execution_count": 9,
   "metadata": {},
   "outputs": [],
   "source": [
    "train_cands = cands_augmented.values.tolist()\n",
    "train_truths = truths_augmented.values.tolist()\n"
   ]
  },
  {
   "cell_type": "markdown",
   "metadata": {},
   "source": [
    "## Create Classifiers\n"
   ]
  },
  {
   "cell_type": "code",
   "execution_count": 10,
   "metadata": {},
   "outputs": [],
   "source": [
    "plp_classifer = fDOM_PLP_Classifier(\n",
    "    fdom_total,\n",
    "    turb_data_total,\n",
    "    fdom_raw_data,\n",
    "    fdom_labeled,\n",
    "    fdom_raw_augmented,\n",
    "    fdom_labeled_augmented,\n",
    ")\n"
   ]
  },
  {
   "cell_type": "code",
   "execution_count": 11,
   "metadata": {},
   "outputs": [],
   "source": [
    "skp_classifier = fDOM_SKP_Classifier(\n",
    "    fdom_total, fdom_raw_data, fdom_labeled, fdom_raw_augmented, fdom_labeled_augmented\n",
    ")\n"
   ]
  },
  {
   "cell_type": "code",
   "execution_count": 12,
   "metadata": {},
   "outputs": [],
   "source": [
    "pp_classifier = fDOM_PP_Classifier(\n",
    "    fdom_total, stage_total, AUGMENT_DATA_BEGIN_TIMESTAMP\n",
    ")\n"
   ]
  },
  {
   "cell_type": "code",
   "execution_count": 13,
   "metadata": {},
   "outputs": [],
   "source": [
    "fpt_classifier = fDOM_FPT_Classifier(fdom_total)\n"
   ]
  },
  {
   "cell_type": "code",
   "execution_count": 14,
   "metadata": {},
   "outputs": [],
   "source": [
    "fsk_classifier = fDOM_FSK_Classifier(fdom_total)\n"
   ]
  },
  {
   "cell_type": "markdown",
   "metadata": {},
   "source": [
    "## Training Loop\n"
   ]
  },
  {
   "cell_type": "code",
   "execution_count": 15,
   "metadata": {},
   "outputs": [
    {
     "name": "stderr",
     "output_type": "stream",
     "text": [
      "  0% (0 of 100) |                        | Elapsed Time: 0:00:00 ETA:  --:--:--"
     ]
    },
    {
     "name": "stdout",
     "output_type": "stream",
     "text": [
      "\n",
      "Split:  1\n",
      "Num Pos in Test: 62\n",
      "Num Pos in Train: 3310\n"
     ]
    },
    {
     "name": "stderr",
     "output_type": "stream",
     "text": [
      " 11% (11 of 100) |##                     | Elapsed Time: 0:00:02 ETA:   0:00:17"
     ]
    },
    {
     "name": "stdout",
     "output_type": "stream",
     "text": [
      "Iteration 10 acc: 0.25625 "
     ]
    },
    {
     "name": "stderr",
     "output_type": "stream",
     "text": [
      " 21% (21 of 100) |####                   | Elapsed Time: 0:00:04 ETA:   0:00:15"
     ]
    },
    {
     "name": "stdout",
     "output_type": "stream",
     "text": [
      "Iteration 20 acc: 0.13125 "
     ]
    },
    {
     "name": "stderr",
     "output_type": "stream",
     "text": [
      " 30% (30 of 100) |######                 | Elapsed Time: 0:00:05 ETA:   0:00:13"
     ]
    },
    {
     "name": "stdout",
     "output_type": "stream",
     "text": [
      "Iteration 30 acc: 0.23981481481481481 "
     ]
    },
    {
     "name": "stderr",
     "output_type": "stream",
     "text": [
      " 41% (41 of 100) |#########              | Elapsed Time: 0:00:07 ETA:   0:00:11"
     ]
    },
    {
     "name": "stdout",
     "output_type": "stream",
     "text": [
      "Iteration 40 acc: 0.2537037037037037 "
     ]
    },
    {
     "name": "stderr",
     "output_type": "stream",
     "text": [
      " 51% (51 of 100) |###########            | Elapsed Time: 0:00:09 ETA:   0:00:09"
     ]
    },
    {
     "name": "stdout",
     "output_type": "stream",
     "text": [
      "Iteration 50 acc: 0.24675925925925926 "
     ]
    },
    {
     "name": "stderr",
     "output_type": "stream",
     "text": [
      " 61% (61 of 100) |##############         | Elapsed Time: 0:00:11 ETA:   0:00:07"
     ]
    },
    {
     "name": "stdout",
     "output_type": "stream",
     "text": [
      "Iteration 60 acc: 0.2953703703703704 "
     ]
    },
    {
     "name": "stderr",
     "output_type": "stream",
     "text": [
      " 70% (70 of 100) |################       | Elapsed Time: 0:00:13 ETA:   0:00:05"
     ]
    },
    {
     "name": "stdout",
     "output_type": "stream",
     "text": [
      "Iteration 70 acc: 0.27291666666666664 "
     ]
    },
    {
     "name": "stderr",
     "output_type": "stream",
     "text": [
      " 81% (81 of 100) |##################     | Elapsed Time: 0:00:15 ETA:   0:00:03"
     ]
    },
    {
     "name": "stdout",
     "output_type": "stream",
     "text": [
      "Iteration 80 acc: 0.2659722222222222 "
     ]
    },
    {
     "name": "stderr",
     "output_type": "stream",
     "text": [
      " 91% (91 of 100) |####################   | Elapsed Time: 0:00:17 ETA:   0:00:01"
     ]
    },
    {
     "name": "stdout",
     "output_type": "stream",
     "text": [
      "Iteration 90 acc: 0.2520833333333333 "
     ]
    },
    {
     "name": "stderr",
     "output_type": "stream",
     "text": [
      "  0% (0 of 100) |                        | Elapsed Time: 0:00:00 ETA:  --:--:--"
     ]
    },
    {
     "name": "stdout",
     "output_type": "stream",
     "text": [
      "\n",
      "Split 1 test Scores: F1: 0.9077883212519265  BA: 0.24451655907942746  ACC: 0.9120370370370371\n",
      "\n",
      "Split:  2\n",
      "Num Pos in Test: 502\n",
      "Num Pos in Train: 2870\n"
     ]
    },
    {
     "name": "stderr",
     "output_type": "stream",
     "text": [
      " 11% (11 of 100) |##                     | Elapsed Time: 0:00:01 ETA:   0:00:14"
     ]
    },
    {
     "name": "stdout",
     "output_type": "stream",
     "text": [
      "Iteration 10 acc: 0.37083333333333335 "
     ]
    },
    {
     "name": "stderr",
     "output_type": "stream",
     "text": [
      " 21% (21 of 100) |####                   | Elapsed Time: 0:00:03 ETA:   0:00:13"
     ]
    },
    {
     "name": "stdout",
     "output_type": "stream",
     "text": [
      "Iteration 20 acc: 0.20833333333333334 "
     ]
    },
    {
     "name": "stderr",
     "output_type": "stream",
     "text": [
      " 31% (31 of 100) |#######                | Elapsed Time: 0:00:05 ETA:   0:00:11"
     ]
    },
    {
     "name": "stdout",
     "output_type": "stream",
     "text": [
      "Iteration 30 acc: 0.3261574074074074 "
     ]
    },
    {
     "name": "stderr",
     "output_type": "stream",
     "text": [
      " 41% (41 of 100) |#########              | Elapsed Time: 0:00:06 ETA:   0:00:09"
     ]
    },
    {
     "name": "stdout",
     "output_type": "stream",
     "text": [
      "Iteration 40 acc: 0.3645833333333333 "
     ]
    },
    {
     "name": "stderr",
     "output_type": "stream",
     "text": [
      " 50% (50 of 100) |###########            | Elapsed Time: 0:00:08 ETA:   0:00:08"
     ]
    },
    {
     "name": "stdout",
     "output_type": "stream",
     "text": [
      "Iteration 50 acc: 0.34953703703703703 "
     ]
    },
    {
     "name": "stderr",
     "output_type": "stream",
     "text": [
      " 61% (61 of 100) |##############         | Elapsed Time: 0:00:10 ETA:   0:00:06"
     ]
    },
    {
     "name": "stdout",
     "output_type": "stream",
     "text": [
      "Iteration 60 acc: 0.3625 "
     ]
    },
    {
     "name": "stderr",
     "output_type": "stream",
     "text": [
      " 71% (71 of 100) |################       | Elapsed Time: 0:00:12 ETA:   0:00:04"
     ]
    },
    {
     "name": "stdout",
     "output_type": "stream",
     "text": [
      "Iteration 70 acc: 0.3509259259259259 "
     ]
    },
    {
     "name": "stderr",
     "output_type": "stream",
     "text": [
      " 81% (81 of 100) |##################     | Elapsed Time: 0:00:13 ETA:   0:00:02"
     ]
    },
    {
     "name": "stdout",
     "output_type": "stream",
     "text": [
      "Iteration 80 acc: 0.38564814814814813 "
     ]
    },
    {
     "name": "stderr",
     "output_type": "stream",
     "text": [
      " 90% (90 of 100) |####################   | Elapsed Time: 0:00:15 ETA:   0:00:01"
     ]
    },
    {
     "name": "stdout",
     "output_type": "stream",
     "text": [
      "Iteration 90 acc: 0.3351851851851852 "
     ]
    },
    {
     "name": "stderr",
     "output_type": "stream",
     "text": [
      "  0% (0 of 100) |                        | Elapsed Time: 0:00:00 ETA:  --:--:--"
     ]
    },
    {
     "name": "stdout",
     "output_type": "stream",
     "text": [
      "\n",
      "Split 2 test Scores: F1: 0.40012728573517564  BA: 0.19029281541838747  ACC: 0.5407407407407407\n",
      "\n",
      "Split:  3\n",
      "Num Pos in Test: 943\n",
      "Num Pos in Train: 2429\n"
     ]
    },
    {
     "name": "stderr",
     "output_type": "stream",
     "text": [
      " 11% (11 of 100) |##                     | Elapsed Time: 0:00:01 ETA:   0:00:13"
     ]
    },
    {
     "name": "stdout",
     "output_type": "stream",
     "text": [
      "Iteration 10 acc: 0.46087962962962964 "
     ]
    },
    {
     "name": "stderr",
     "output_type": "stream",
     "text": [
      " 21% (21 of 100) |####                   | Elapsed Time: 0:00:03 ETA:   0:00:12"
     ]
    },
    {
     "name": "stdout",
     "output_type": "stream",
     "text": [
      "Iteration 20 acc: 0.46064814814814814 "
     ]
    },
    {
     "name": "stderr",
     "output_type": "stream",
     "text": [
      " 31% (31 of 100) |#######                | Elapsed Time: 0:00:04 ETA:   0:00:10"
     ]
    },
    {
     "name": "stdout",
     "output_type": "stream",
     "text": [
      "Iteration 30 acc: 0.4909722222222222 "
     ]
    },
    {
     "name": "stderr",
     "output_type": "stream",
     "text": [
      " 41% (41 of 100) |#########              | Elapsed Time: 0:00:06 ETA:   0:00:09"
     ]
    },
    {
     "name": "stdout",
     "output_type": "stream",
     "text": [
      "Iteration 40 acc: 0.4638888888888889 "
     ]
    },
    {
     "name": "stderr",
     "output_type": "stream",
     "text": [
      " 51% (51 of 100) |###########            | Elapsed Time: 0:00:08 ETA:   0:00:08"
     ]
    },
    {
     "name": "stdout",
     "output_type": "stream",
     "text": [
      "Iteration 50 acc: 0.4550925925925926 "
     ]
    },
    {
     "name": "stderr",
     "output_type": "stream",
     "text": [
      " 60% (60 of 100) |#############          | Elapsed Time: 0:00:09 ETA:   0:00:06"
     ]
    },
    {
     "name": "stdout",
     "output_type": "stream",
     "text": [
      "Iteration 60 acc: 0.44675925925925924 "
     ]
    },
    {
     "name": "stderr",
     "output_type": "stream",
     "text": [
      " 71% (71 of 100) |################       | Elapsed Time: 0:00:11 ETA:   0:00:05"
     ]
    },
    {
     "name": "stdout",
     "output_type": "stream",
     "text": [
      "Iteration 70 acc: 0.44699074074074074 "
     ]
    },
    {
     "name": "stderr",
     "output_type": "stream",
     "text": [
      " 81% (81 of 100) |##################     | Elapsed Time: 0:00:13 ETA:   0:00:03"
     ]
    },
    {
     "name": "stdout",
     "output_type": "stream",
     "text": [
      "Iteration 80 acc: 0.48865740740740743 "
     ]
    },
    {
     "name": "stderr",
     "output_type": "stream",
     "text": [
      " 91% (91 of 100) |####################   | Elapsed Time: 0:00:14 ETA:   0:00:01"
     ]
    },
    {
     "name": "stdout",
     "output_type": "stream",
     "text": [
      "Iteration 90 acc: 0.456712962962963 "
     ]
    },
    {
     "name": "stderr",
     "output_type": "stream",
     "text": [
      "  0% (0 of 100) |                        | Elapsed Time: 0:00:00 ETA:  --:--:--"
     ]
    },
    {
     "name": "stdout",
     "output_type": "stream",
     "text": [
      "\n",
      "Split 3 test Scores: F1: 0.05573847183042585  BA: 0.1748218823923665  ACC: 0.13518518518518519\n",
      "\n",
      "Split:  4\n",
      "Num Pos in Test: 928\n",
      "Num Pos in Train: 2444\n"
     ]
    },
    {
     "name": "stderr",
     "output_type": "stream",
     "text": [
      " 11% (11 of 100) |##                     | Elapsed Time: 0:00:01 ETA:   0:00:14"
     ]
    },
    {
     "name": "stdout",
     "output_type": "stream",
     "text": [
      "Iteration 10 acc: 0.4706018518518518 "
     ]
    },
    {
     "name": "stderr",
     "output_type": "stream",
     "text": [
      " 21% (21 of 100) |####                   | Elapsed Time: 0:00:03 ETA:   0:00:13"
     ]
    },
    {
     "name": "stdout",
     "output_type": "stream",
     "text": [
      "Iteration 20 acc: 0.4513888888888889 "
     ]
    },
    {
     "name": "stderr",
     "output_type": "stream",
     "text": [
      " 31% (31 of 100) |#######                | Elapsed Time: 0:00:05 ETA:   0:00:11"
     ]
    },
    {
     "name": "stdout",
     "output_type": "stream",
     "text": [
      "Iteration 30 acc: 0.47662037037037036 "
     ]
    },
    {
     "name": "stderr",
     "output_type": "stream",
     "text": [
      " 40% (40 of 100) |#########              | Elapsed Time: 0:00:06 ETA:   0:00:10"
     ]
    },
    {
     "name": "stdout",
     "output_type": "stream",
     "text": [
      "Iteration 40 acc: 0.4597222222222222 "
     ]
    },
    {
     "name": "stderr",
     "output_type": "stream",
     "text": [
      " 51% (51 of 100) |###########            | Elapsed Time: 0:00:08 ETA:   0:00:08"
     ]
    },
    {
     "name": "stdout",
     "output_type": "stream",
     "text": [
      "Iteration 50 acc: 0.4625 "
     ]
    },
    {
     "name": "stderr",
     "output_type": "stream",
     "text": [
      " 61% (61 of 100) |##############         | Elapsed Time: 0:00:10 ETA:   0:00:06"
     ]
    },
    {
     "name": "stdout",
     "output_type": "stream",
     "text": [
      "Iteration 60 acc: 0.3733796296296296 "
     ]
    },
    {
     "name": "stderr",
     "output_type": "stream",
     "text": [
      " 71% (71 of 100) |################       | Elapsed Time: 0:00:11 ETA:   0:00:04"
     ]
    },
    {
     "name": "stdout",
     "output_type": "stream",
     "text": [
      "Iteration 70 acc: 0.493287037037037 "
     ]
    },
    {
     "name": "stderr",
     "output_type": "stream",
     "text": [
      " 80% (80 of 100) |##################     | Elapsed Time: 0:00:13 ETA:   0:00:03"
     ]
    },
    {
     "name": "stdout",
     "output_type": "stream",
     "text": [
      "Iteration 80 acc: 0.4861111111111111 "
     ]
    },
    {
     "name": "stderr",
     "output_type": "stream",
     "text": [
      " 91% (91 of 100) |####################   | Elapsed Time: 0:00:15 ETA:   0:00:01"
     ]
    },
    {
     "name": "stdout",
     "output_type": "stream",
     "text": [
      "Iteration 90 acc: 0.46805555555555556 "
     ]
    },
    {
     "name": "stderr",
     "output_type": "stream",
     "text": [
      "  0% (0 of 100) |                        | Elapsed Time: 0:00:00 ETA:  --:--:--"
     ]
    },
    {
     "name": "stdout",
     "output_type": "stream",
     "text": [
      "\n",
      "Split 4 test Scores: F1: 0.06749159331364017  BA: 0.18001037766278205  ACC: 0.1527777777777778\n",
      "\n",
      "Split:  5\n",
      "Num Pos in Test: 937\n",
      "Num Pos in Train: 2435\n"
     ]
    },
    {
     "name": "stderr",
     "output_type": "stream",
     "text": [
      " 11% (11 of 100) |##                     | Elapsed Time: 0:00:01 ETA:   0:00:14"
     ]
    },
    {
     "name": "stdout",
     "output_type": "stream",
     "text": [
      "Iteration 10 acc: 0.29791666666666666 "
     ]
    },
    {
     "name": "stderr",
     "output_type": "stream",
     "text": [
      " 20% (20 of 100) |####                   | Elapsed Time: 0:00:03 ETA:   0:00:13"
     ]
    },
    {
     "name": "stdout",
     "output_type": "stream",
     "text": [
      "Iteration 20 acc: 0.48032407407407407 "
     ]
    },
    {
     "name": "stderr",
     "output_type": "stream",
     "text": [
      " 31% (31 of 100) |#######                | Elapsed Time: 0:00:05 ETA:   0:00:11"
     ]
    },
    {
     "name": "stdout",
     "output_type": "stream",
     "text": [
      "Iteration 30 acc: 0.4935185185185185 "
     ]
    },
    {
     "name": "stderr",
     "output_type": "stream",
     "text": [
      " 41% (41 of 100) |#########              | Elapsed Time: 0:00:06 ETA:   0:00:10"
     ]
    },
    {
     "name": "stdout",
     "output_type": "stream",
     "text": [
      "Iteration 40 acc: 0.44907407407407407 "
     ]
    },
    {
     "name": "stderr",
     "output_type": "stream",
     "text": [
      " 51% (51 of 100) |###########            | Elapsed Time: 0:00:08 ETA:   0:00:08"
     ]
    },
    {
     "name": "stdout",
     "output_type": "stream",
     "text": [
      "Iteration 50 acc: 0.45578703703703705 "
     ]
    },
    {
     "name": "stderr",
     "output_type": "stream",
     "text": [
      " 60% (60 of 100) |#############          | Elapsed Time: 0:00:10 ETA:   0:00:06"
     ]
    },
    {
     "name": "stdout",
     "output_type": "stream",
     "text": [
      "Iteration 60 acc: 0.43171296296296297 "
     ]
    },
    {
     "name": "stderr",
     "output_type": "stream",
     "text": [
      " 71% (71 of 100) |################       | Elapsed Time: 0:00:12 ETA:   0:00:05"
     ]
    },
    {
     "name": "stdout",
     "output_type": "stream",
     "text": [
      "Iteration 70 acc: 0.456712962962963 "
     ]
    },
    {
     "name": "stderr",
     "output_type": "stream",
     "text": [
      " 81% (81 of 100) |##################     | Elapsed Time: 0:00:13 ETA:   0:00:03"
     ]
    },
    {
     "name": "stdout",
     "output_type": "stream",
     "text": [
      "Iteration 80 acc: 0.381712962962963 "
     ]
    },
    {
     "name": "stderr",
     "output_type": "stream",
     "text": [
      " 91% (91 of 100) |####################   | Elapsed Time: 0:00:15 ETA:   0:00:01"
     ]
    },
    {
     "name": "stdout",
     "output_type": "stream",
     "text": [
      "Iteration 90 acc: 0.44675925925925924 "
     ]
    },
    {
     "name": "stderr",
     "output_type": "stream",
     "text": [
      " 99% (99 of 100) |###################### | Elapsed Time: 0:00:16 ETA:   0:00:00"
     ]
    },
    {
     "name": "stdout",
     "output_type": "stream",
     "text": [
      "\n",
      "Split 5 test Scores: F1: 0.06262008625740281  BA: 0.18208498328980258  ACC: 0.14722222222222223\n",
      "\n",
      "\n"
     ]
    }
   ],
   "source": [
    "accumulated_test_metrics = {}\n",
    "\n",
    "accumulated_test_results = {}\n",
    "\n",
    "accumulated_best_params = {}\n",
    "\n",
    "accumulated_cfmxs = {}\n",
    "\n",
    "discovered_labels = []\n",
    "\n",
    "# split data\n",
    "tss = TimeSeriesSplit(NUM_SPLITS)\n",
    "kf = KFold(NUM_SPLITS)\n",
    "skf = StratifiedKFold(NUM_SPLITS)\n",
    "\n",
    "overall_start = datetime.datetime.now()\n",
    "\n",
    "split = 1\n",
    "divide_by_zero_errs = 0\n",
    "\n",
    "for train_val_indices, test_indices in kf.split(cands):\n",
    "    X_train, y_train = [cands[i] for i in train_val_indices], [\n",
    "        truths[i] for i in train_val_indices\n",
    "    ]\n",
    "\n",
    "    X_test, y_test = [cands[i] for i in test_indices], [truths[i] for i in test_indices]\n",
    "\n",
    "    max_fold_metric = 0\n",
    "    max_result = None\n",
    "\n",
    "    # print out info for user\n",
    "    print(\"\\nSplit: \", split)\n",
    "    split_start = datetime.datetime.now()\n",
    "    num_pos_test = len(list(filter(lambda x: x[2] != \"NAP\", y_test)))\n",
    "    num_pos_train = len(list(filter(lambda x: x[2] != \"NAP\", y_train)))\n",
    "\n",
    "    print(f\"Num Pos in Test: {num_pos_test}\")\n",
    "    print(f\"Num Pos in Train: {num_pos_train}\")\n",
    "\n",
    "    if num_pos_test >= 1 and num_pos_train >= 1:\n",
    "        # instantiate the progress bar\n",
    "        pbar = progressbar.ProgressBar(max_value=ITERATIONS)\n",
    "\n",
    "        # main training loop\n",
    "        for iteration in range(ITERATIONS):\n",
    "            params = {}\n",
    "\n",
    "            # start the iteration for each classifier (resets predictions, generates params)\n",
    "            params[\"plp\"] = plp_classifer.start_iteration()\n",
    "            params[\"skp\"] = skp_classifier.start_iteration()\n",
    "            params[\"pp\"] = pp_classifier.start_iteration()\n",
    "            params[\"fpt\"] = fpt_classifier.start_iteration()\n",
    "            params[\"fsk\"] = fsk_classifier.start_iteration()\n",
    "\n",
    "            # empty predictions array\n",
    "            train_preds = []\n",
    "\n",
    "            plp_preds = plp_classifer.classify_samples(X_train)\n",
    "            skp_preds = skp_classifier.classify_samples(X_train)\n",
    "            pp_preds = pp_classifier.classify_samples(X_train)\n",
    "            fpt_preds = fpt_classifier.classify_samples(X_train)\n",
    "            fsk_preds = fsk_classifier.classify_samples(X_train)\n",
    "            for i, pred in enumerate(plp_preds):\n",
    "                train_pred = get_prediction(\n",
    "                    pred[1], skp_preds[i][1], pp_preds[i][1], fpt_preds[i][1], fsk_preds[i][1]\n",
    "                )\n",
    "                train_preds.append(train_pred)\n",
    "\n",
    "            ######## GET SCORES ########\n",
    "            bal_acc = balanced_accuracy_score(\n",
    "                [row[2] for row in y_train],\n",
    "                [row for row in train_preds],\n",
    "            )\n",
    "\n",
    "            acc = accuracy_score(\n",
    "                [row[2] for row in y_train],\n",
    "                [row for row in train_preds],\n",
    "            )\n",
    "\n",
    "            f1_train = f1_score(\n",
    "                [row[2] for row in y_train], [row for row in train_preds], average=None\n",
    "            )\n",
    "\n",
    "            # print out acc in 10 even splits\n",
    "            if iteration and iteration % int(ITERATIONS / 10) == 0:\n",
    "                print(\"Iteration {} acc: {} \".format(iteration, acc), end=\"\")\n",
    "\n",
    "            # check acc, if better than max fold, save it\n",
    "            if acc > max_fold_metric:\n",
    "                max_fold_metric = acc\n",
    "                max_result = copy.deepcopy(train_preds)\n",
    "\n",
    "                # save params of classifiers\n",
    "                plp_classifer.got_best_result()\n",
    "                skp_classifier.got_best_result()\n",
    "                pp_classifier.got_best_results()\n",
    "                fpt_classifier.got_best_results()\n",
    "                fsk_classifier.got_best_results()\n",
    "\n",
    "            # call end of iteration, as we are at the end of an iteration\n",
    "            # allows individual classifiers to calc results\n",
    "            plp_classifer.end_of_iteration(y_train)\n",
    "            skp_classifier.end_of_iteration(y_train)\n",
    "            pp_classifier.end_of_iteration(y_train)\n",
    "            fpt_classifier.end_of_iteration(y_train)\n",
    "            fsk_classifier.end_of_iteration(y_train)\n",
    "\n",
    "            # update the progressbar\n",
    "            pbar.update(iteration)\n",
    "\n",
    "        # perform peak testing\n",
    "        test_preds = []\n",
    "        plp_preds = plp_classifer.classify_samples(X_test, True)\n",
    "        skp_preds = skp_classifier.classify_samples(X_test, True)\n",
    "        pp_preds = pp_classifier.classify_samples(X_test, True)\n",
    "        fpt_preds = fpt_classifier.classify_samples(X_test, True)\n",
    "        fsk_preds = fsk_classifier.classify_samples(X_test, True)\n",
    "\n",
    "        for i, pred in enumerate(plp_preds):\n",
    "            test_pred = get_prediction(\n",
    "                pred[1], skp_preds[i][1], pp_preds[i][1], fpt_preds[i][1], fsk_preds[i][1]\n",
    "            )\n",
    "            test_preds.append(test_pred)\n",
    "\n",
    "        ######## GET SCORES ########\n",
    "        # get confusion matrix\n",
    "        cfmx = confusion_matrix(\n",
    "            [row[2] for row in y_test],\n",
    "            [row for row in test_preds],\n",
    "            labels=DATA_LABELS,\n",
    "        )\n",
    "\n",
    "        # get acc score\n",
    "        acc_score = accuracy_score(\n",
    "            [row[2] for row in y_test],\n",
    "            [row for row in test_preds],\n",
    "        )\n",
    "\n",
    "        bal_acc = balanced_accuracy_score(\n",
    "            [row[2] for row in y_test],\n",
    "            [row for row in test_preds],\n",
    "        )\n",
    "\n",
    "        f1 = f1_score(\n",
    "            [row[2] for row in y_test],\n",
    "            [row for row in test_preds],\n",
    "            average=\"weighted\",\n",
    "        )\n",
    "\n",
    "        precision = precision_score(\n",
    "            [row[2] for row in y_test],\n",
    "            [row for row in test_preds],\n",
    "            average=\"weighted\",\n",
    "        )\n",
    "\n",
    "        print(f\"\\nSplit {split} test Scores: F1: {f1}  BA: {bal_acc}  ACC: {acc_score}\")\n",
    "\n",
    "        accumulated_cfmxs[split] = copy.deepcopy(cfmx)\n",
    "\n",
    "        accumulated_test_metrics[split] = {\n",
    "            \"f1\": f1,\n",
    "            \"acc\": acc_score,\n",
    "            \"ba\": bal_acc,\n",
    "            \"precision\": precision,\n",
    "        }\n",
    "\n",
    "        accumulated_test_results[split] = copy.deepcopy(test_preds)\n",
    "\n",
    "        # save the best params\n",
    "        accumulated_best_params[split] = {\n",
    "            \"PLP\": copy.deepcopy(plp_classifer.best_params),\n",
    "            \"SKP\": copy.deepcopy(skp_classifier.best_params),\n",
    "            \"PP\": copy.deepcopy(pp_classifier.best_params),\n",
    "            \"FPT\": copy.deepcopy(fpt_classifier.best_params),\n",
    "            \"FSK\": copy.deepcopy(fsk_classifier.best_params)\n",
    "        }\n",
    "\n",
    "        # increment split\n",
    "        split += 1\n",
    "\n",
    "# print a newline char for better display\n",
    "print(\"\\n\")\n",
    "\n",
    "overall_end_time = datetime.datetime.now()\n"
   ]
  },
  {
   "cell_type": "markdown",
   "metadata": {},
   "source": [
    "## Display Metrics\n"
   ]
  },
  {
   "cell_type": "code",
   "execution_count": 19,
   "metadata": {},
   "outputs": [
    {
     "name": "stdout",
     "output_type": "stream",
     "text": [
      "Mean Test F1:  0.29875315167771427\n",
      "Mean Test BA:  0.19434532356855322\n",
      "Mean Test Acc:  0.3775925925925926\n",
      "Mean Test Precision:  0.33624327749218674\n",
      "\n",
      "Params from split 1:\n",
      "\n",
      "For peak type PLP:\n",
      "max_basewidth, value: 4\n",
      "min_prominence, value: 9.331089105203517\n",
      "interference_x_proximity, value: 5\n",
      "interference_y_proximity, value: 1\n",
      "proximity_threshold, value: 17\n",
      "\n",
      "For peak type SKP:\n",
      "max_basewidth, value: 7\n",
      "min_prominence, value: 14.73309042610156\n",
      "downward_bases_threshold, value: 2\n",
      "proximity_threshold, value: 0\n",
      "\n",
      "For peak type PP:\n",
      "x, value: 69\n",
      "y, value: 83\n",
      "ratio_threshold, value: 16.81573877006575\n",
      "\n",
      "For peak type FPT:\n",
      "basewidth, value: 6\n",
      "prominence, value: 50\n",
      "prom_diff, value: 1.548029175945301\n",
      "\n",
      "For peak type FSK:\n",
      "basewidth, value: 1\n",
      "prominence, value: 201\n",
      "prom_diff, value: 1.8994480581316078\n",
      "\n",
      "Params from split 2:\n",
      "\n",
      "For peak type PLP:\n",
      "max_basewidth, value: 4\n",
      "min_prominence, value: 6.260612460424312\n",
      "interference_x_proximity, value: 6\n",
      "interference_y_proximity, value: 1\n",
      "proximity_threshold, value: 15\n",
      "\n",
      "For peak type SKP:\n",
      "max_basewidth, value: 8\n",
      "min_prominence, value: 11.129406168031444\n",
      "downward_bases_threshold, value: 2\n",
      "proximity_threshold, value: 13\n",
      "\n",
      "For peak type PP:\n",
      "x, value: 17\n",
      "y, value: 79\n",
      "ratio_threshold, value: 17.758684080210944\n",
      "\n",
      "For peak type FPT:\n",
      "basewidth, value: 7\n",
      "prominence, value: 210\n",
      "prom_diff, value: 1.382733821197594\n",
      "\n",
      "For peak type FSK:\n",
      "basewidth, value: 6\n",
      "prominence, value: 282\n",
      "prom_diff, value: 1.838504846319524\n",
      "\n",
      "Params from split 3:\n",
      "\n",
      "For peak type PLP:\n",
      "max_basewidth, value: 6\n",
      "min_prominence, value: 5.193547057480449\n",
      "interference_x_proximity, value: 8\n",
      "interference_y_proximity, value: 4\n",
      "proximity_threshold, value: 19\n",
      "\n",
      "For peak type SKP:\n",
      "max_basewidth, value: 9\n",
      "min_prominence, value: 16.21454654041841\n",
      "downward_bases_threshold, value: 3\n",
      "proximity_threshold, value: 19\n",
      "\n",
      "For peak type PP:\n",
      "x, value: 71\n",
      "y, value: 67\n",
      "ratio_threshold, value: 16.667512291626913\n",
      "\n",
      "For peak type FPT:\n",
      "basewidth, value: 6\n",
      "prominence, value: 121\n",
      "prom_diff, value: 0.12760621962084398\n",
      "\n",
      "For peak type FSK:\n",
      "basewidth, value: 10\n",
      "prominence, value: 173\n",
      "prom_diff, value: 1.999944086019324\n",
      "\n",
      "Params from split 4:\n",
      "\n",
      "For peak type PLP:\n",
      "max_basewidth, value: 6\n",
      "min_prominence, value: 5.684477936791361\n",
      "interference_x_proximity, value: 2\n",
      "interference_y_proximity, value: 2\n",
      "proximity_threshold, value: 11\n",
      "\n",
      "For peak type SKP:\n",
      "max_basewidth, value: 2\n",
      "min_prominence, value: 10.285231147072793\n",
      "downward_bases_threshold, value: 2\n",
      "proximity_threshold, value: 4\n",
      "\n",
      "For peak type PP:\n",
      "x, value: 82\n",
      "y, value: 86\n",
      "ratio_threshold, value: 17.87049487370111\n",
      "\n",
      "For peak type FPT:\n",
      "basewidth, value: 6\n",
      "prominence, value: 289\n",
      "prom_diff, value: 1.4981383175428928\n",
      "\n",
      "For peak type FSK:\n",
      "basewidth, value: 1\n",
      "prominence, value: 167\n",
      "prom_diff, value: 1.722737681003528\n",
      "\n",
      "Params from split 5:\n",
      "\n",
      "For peak type PLP:\n",
      "max_basewidth, value: 4\n",
      "min_prominence, value: 6.332689262740823\n",
      "interference_x_proximity, value: 0\n",
      "interference_y_proximity, value: 1\n",
      "proximity_threshold, value: 11\n",
      "\n",
      "For peak type SKP:\n",
      "max_basewidth, value: 9\n",
      "min_prominence, value: 11.85265517644901\n",
      "downward_bases_threshold, value: 0\n",
      "proximity_threshold, value: 17\n",
      "\n",
      "For peak type PP:\n",
      "x, value: 83\n",
      "y, value: 59\n",
      "ratio_threshold, value: 19.028254328071\n",
      "\n",
      "For peak type FPT:\n",
      "basewidth, value: 1\n",
      "prominence, value: 165\n",
      "prom_diff, value: 1.420398008105803\n",
      "\n",
      "For peak type FSK:\n",
      "basewidth, value: 9\n",
      "prominence, value: 139\n",
      "prom_diff, value: 0.1589790328386052\n"
     ]
    },
    {
     "data": {
      "image/png": "[encoded data removed]",
      "text/plain": [
       "<Figure size 720x504 with 2 Axes>"
      ]
     },
     "metadata": {},
     "output_type": "display_data"
    },
    {
     "data": {
      "image/png": "[encoded data removed]",
      "text/plain": [
       "<Figure size 720x504 with 2 Axes>"
      ]
     },
     "metadata": {},
     "output_type": "display_data"
    }
   ],
   "source": [
    "mean_f1 = 0\n",
    "mean_ba = 0\n",
    "mean_precision = 0\n",
    "mean_acc = 0\n",
    "\n",
    "for key in accumulated_test_metrics:\n",
    "    metrics = accumulated_test_metrics[key]\n",
    "\n",
    "    mean_f1 += metrics[\"f1\"]\n",
    "    mean_ba += metrics[\"ba\"]\n",
    "    mean_precision += metrics[\"precision\"]\n",
    "    mean_acc += metrics[\"acc\"]\n",
    "\n",
    "print(\"Mean Test F1: \", mean_f1 / len(accumulated_test_metrics))\n",
    "print(\"Mean Test BA: \", mean_ba / len(accumulated_test_metrics))\n",
    "print(\"Mean Test Acc: \", mean_acc / len(accumulated_test_metrics))\n",
    "print(\"Mean Test Precision: \", mean_precision / len(accumulated_test_metrics))\n",
    "\n",
    "for split in accumulated_best_params.keys():\n",
    "    print(f\"\\nParams from split {split}:\")\n",
    "    for peak in accumulated_best_params[split].keys():\n",
    "        print(f\"\\nFor peak type {peak}:\")\n",
    "\n",
    "        for param in accumulated_best_params[split][peak].keys():\n",
    "            print(f\"{param}, value: {accumulated_best_params[split][peak][param]}\")\n",
    "\n",
    "# print(\"Training time: \", overall_end_time - overall_start)\n",
    "\n",
    "mean_cfmx = np.zeros((len(DATA_LABELS), len(DATA_LABELS)))\n",
    "for key in accumulated_cfmxs.keys():\n",
    "    mean_cfmx += accumulated_cfmxs[key]\n",
    "\n",
    "mean_cfmx = mean_cfmx / len(accumulated_cfmxs)\n",
    "\n",
    "plt.figure(figsize=(10, 7))\n",
    "plt.title(label=\"fDOM Peak Detection Ratio Confusion Matrix\")\n",
    "\n",
    "sn.set(font_scale=1.5)\n",
    "\n",
    "sn.heatmap(\n",
    "    pd.DataFrame(\n",
    "        mean_cfmx.astype(\"float\") / mean_cfmx.sum(axis=1)[:, np.newaxis],\n",
    "        index=DATA_LABELS,\n",
    "        columns=DATA_LABELS,\n",
    "    ),\n",
    "    annot=True,\n",
    "    annot_kws={\"size\": 16},\n",
    ")\n",
    "\n",
    "plt.xlabel(\"Ground Truths\")\n",
    "plt.ylabel(\"Predictions\")\n",
    "plt.show()\n",
    "\n",
    "plt.figure(figsize=(10, 7))\n",
    "plt.title(label=\"fDOM Peak Detection Normal Confusion Matrix\")\n",
    "\n",
    "sn.set(font_scale=1.5)\n",
    "\n",
    "sn.heatmap(\n",
    "    pd.DataFrame(\n",
    "        mean_cfmx,\n",
    "        index=DATA_LABELS,\n",
    "        columns=DATA_LABELS,\n",
    "    ),\n",
    "    annot=True,\n",
    "    annot_kws={\"size\": 16},\n",
    ")\n",
    "\n",
    "plt.xlabel(\"Ground Truths\")\n",
    "plt.ylabel(\"Predictions\")\n",
    "plt.show()\n"
   ]
  },
  {
   "cell_type": "code",
   "execution_count": 17,
   "metadata": {},
   "outputs": [],
   "source": [
    "with open(\n",
    "    \"Anomaly_Detection/Multiclass_Detection/Experimental_Results/fdom_multiclass/best_params.pkl\",\n",
    "    \"wb\",\n",
    ") as pck_file:\n",
    "    pickle.dump(accumulated_best_params, pck_file)\n",
    "    pck_file.close()\n",
    "\n",
    "# Pickle test results\n",
    "with open(\n",
    "    \"Anomaly_Detection/Multiclass_Detection/Experimental_Results/fdom_multiclass/test_results.pkl\",\n",
    "    \"wb\",\n",
    ") as pck_file:\n",
    "    pickle.dump(accumulated_test_results, pck_file)\n",
    "    pck_file.close()\n",
    "\n",
    "# Pickle test metrics\n",
    "with open(\n",
    "    \"Anomaly_Detection/Multiclass_Detection/Experimental_Results/fdom_multiclass/test_metrics.pkl\",\n",
    "    \"wb\",\n",
    ") as pck_file:\n",
    "    pickle.dump(accumulated_test_metrics, pck_file)\n",
    "    pck_file.close()\n"
   ]
  },
  {
   "cell_type": "markdown",
   "metadata": {},
   "source": [
    "### Statistics from individual classifiers\n"
   ]
  },
  {
   "cell_type": "code",
   "execution_count": 18,
   "metadata": {},
   "outputs": [
    {
     "name": "stdout",
     "output_type": "stream",
     "text": [
      "PLP CLASSIFIER INFO:\n",
      "ACC: 0.600228759415901\n",
      "f1: 0.39111111111111113\n",
      "\n",
      "\n",
      "SKP CLASSIFIER INFO:\n",
      "ACC: 0.5934264347845032\n",
      "f1: 0.3862714508580343\n",
      "\n",
      "\n",
      "PP CLASSIFIER INFO:\n",
      "ACC: 0.5670052669132185\n",
      "f1: 0.555536421560186\n",
      "\n",
      "\n"
     ]
    }
   ],
   "source": [
    "# print accuracies\n",
    "print(\"PLP CLASSIFIER INFO:\")\n",
    "print(\"ACC: \" + str(plp_classifer.best_acc))\n",
    "print(\"f1: \" + str(plp_classifer.best_f1_score))\n",
    "print(\"\\n\")\n",
    "\n",
    "print(\"SKP CLASSIFIER INFO:\")\n",
    "print(\"ACC: \" + str(skp_classifier.best_acc))\n",
    "print(\"f1: \" + str(skp_classifier.best_f1_score))\n",
    "print(\"\\n\")\n",
    "\n",
    "print(\"PP CLASSIFIER INFO:\")\n",
    "print(\"ACC: \" + str(pp_classifier.best_acc))\n",
    "print(\"f1: \" + str(pp_classifier.best_f1_score))\n",
    "print(\"\\n\")\n"
   ]
  }
 ],
 "metadata": {
  "interpreter": {
   "hash": "8ed753961bdc37ee89b4275051722ceb8ec0b57b8793db9d189305c313070a7d"
  },
  "kernelspec": {
   "display_name": "Python 3.10.2 ('srrw')",
   "language": "python",
   "name": "python3"
  },
  "language_info": {
   "codemirror_mode": {
    "name": "ipython",
    "version": 3
   },
   "file_extension": ".py",
   "mimetype": "text/x-python",
   "name": "python",
   "nbconvert_exporter": "python",
   "pygments_lexer": "ipython3",
   "version": "3.10.2"
  },
  "orig_nbformat": 4
 },
 "nbformat": 4,
 "nbformat_minor": 2
}
