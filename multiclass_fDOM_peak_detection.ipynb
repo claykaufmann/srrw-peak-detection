{
 "cells": [
  {
   "cell_type": "markdown",
   "metadata": {},
   "source": [
    "# Multiclass Peak Detection in fDOM\n",
    "\n",
    "This file combines all of the fDOM detection scripts into a singular classifier, that detects all peak types. On top of this, it also leverages the augmented data created previously.\n",
    "\n",
    "## Structure\n",
    "\n",
    "The core structure of the project is to have all individual classifiers running, and then when one detects a peak, it alerts the overall classifier \"manager\", which then takes note of the peak that a classifier has detected as an anomaly peak.\n"
   ]
  },
  {
   "cell_type": "code",
   "execution_count": 1,
   "metadata": {},
   "outputs": [],
   "source": [
    "# Imports\n",
    "from sklearn.model_selection import TimeSeriesSplit\n",
    "import seaborn as sn\n",
    "from sklearn.metrics import (\n",
    "    confusion_matrix,\n",
    "    accuracy_score,\n",
    "    balanced_accuracy_score,\n",
    "    f1_score,\n",
    "    precision_score,\n",
    ")\n",
    "import pandas as pd\n",
    "import numpy as np\n",
    "import datetime\n",
    "import copy\n",
    "import matplotlib.pyplot as plt\n",
    "import pickle\n",
    "import progressbar\n",
    "\n",
    "import Tools.data_processing as dp\n",
    "import Tools.data_movement as dm\n",
    "from Tools.get_all_cands import get_all_cands_fDOM, get_all_truths_fDOM\n",
    "\n",
    "# import classifiers\n",
    "from Anomaly_Detection.Multiclass_Detection.fdom_classifiers.fDOM_PLP import (\n",
    "    fDOM_PLP_Classifier,\n",
    ")\n",
    "from Anomaly_Detection.Multiclass_Detection.fdom_classifiers.fDOM_FPT import (\n",
    "    fDOM_FPT_Classifier,\n",
    ")\n",
    "from Anomaly_Detection.Multiclass_Detection.fdom_classifiers.fDOM_FSK import (\n",
    "    fDOM_FSK_Classifier,\n",
    ")\n",
    "from Anomaly_Detection.Multiclass_Detection.fdom_classifiers.fDOM_PP import (\n",
    "    fDOM_PP_Classifier,\n",
    ")\n",
    "from Anomaly_Detection.Multiclass_Detection.fdom_classifiers.fDOM_SKP import (\n",
    "    fDOM_SKP_Classifier,\n",
    ")\n",
    "\n",
    "# disable warnings\n",
    "def warn(*args, **kwargs):\n",
    "    pass\n",
    "\n",
    "\n",
    "import warnings\n",
    "\n",
    "warnings.warn = warn\n"
   ]
  },
  {
   "cell_type": "markdown",
   "metadata": {},
   "source": [
    "## Training parameters and helper functions\n"
   ]
  },
  {
   "cell_type": "code",
   "execution_count": 2,
   "metadata": {},
   "outputs": [],
   "source": [
    "ITERATIONS = 4000\n",
    "NUM_SPLITS = 5\n",
    "AUGMENT_DATA_BEGIN_TIMESTAMP = 2459096.9583333335\n",
    "USE_AUGMENTED_DATA = True\n",
    "CLASS_BALANCED_ONLY = True\n",
    "\n",
    "# for confusion matrix\n",
    "DATA_LABELS = [\"PLP\", \"SKP\", \"PP\", \"FPT\", \"FSK\", \"NAP\"]\n",
    "\n",
    "# Useful functions\n",
    "def get_prediction(plp_pred, skp_pred, pp_pred, fpt_pred, fsk_pred):\n",
    "    \"\"\"\n",
    "    take the top level prediction based on peak precendence\n",
    "    \"\"\"\n",
    "    if skp_pred == \"SKP\":\n",
    "        return skp_pred\n",
    "\n",
    "    elif pp_pred == \"PP\":\n",
    "        return pp_pred\n",
    "\n",
    "    elif plp_pred == \"PLP\":\n",
    "        return plp_pred\n",
    "\n",
    "    elif fpt_pred == \"FPT\":\n",
    "        return fpt_pred\n",
    "\n",
    "    elif fsk_pred == \"FSK\":\n",
    "        return fsk_pred\n",
    "\n",
    "    else:\n",
    "        return \"NAP\"\n"
   ]
  },
  {
   "cell_type": "code",
   "execution_count": 3,
   "metadata": {},
   "outputs": [],
   "source": [
    "# Filenames\n",
    "fdom_raw_data = \"Data/converted_data/julian_format/fDOM_raw_10.1.2011-9.4.2020.csv\"\n",
    "stage_raw_data = \"Data/converted_data/julian_format/stage_10.1.11-1.1.19.csv\"\n",
    "turb_raw_data = \"Data/converted_data/julian_format/turbidity_raw_10.1.2011_9.4.2020.csv\"\n",
    "\n",
    "fdom_labeled = \"Data/labeled_data/ground_truths/fDOM/fDOM_all_julian_0k-300k.csv\"\n",
    "\n",
    "fdom_raw_augmented = \"Data/augmented_data/fdom/unlabeled/unlabeled_fdom.csv\"\n",
    "fdom_labeled_augmented = \"Data/augmented_data/fdom/labeled/labeled_fdom_peaks.csv\"\n",
    "\n",
    "turb_augmented_raw_data = \"Data/augmented_data/fdom/unlabeled/unlabeled_turb.csv\"\n",
    "\n",
    "stage_augmented_data_fn = \"Data/augmented_data/fdom/unlabeled/unlabeled_stage.csv\"\n",
    "\n",
    "# to get fsk/fpt peaks in augmented data\n",
    "fdom_fpt_lookup_path = \"Data/augmented_data/fdom/fpt_lookup.csv\"\n",
    "fdom_fsk_lookup_path = \"Data/augmented_data/fdom/fsk_lookup.csv\"\n"
   ]
  },
  {
   "cell_type": "code",
   "execution_count": 4,
   "metadata": {},
   "outputs": [],
   "source": [
    "# Load Data\n",
    "fDOM_data = dm.read_in_preprocessed_timeseries(fdom_raw_data)\n",
    "stage_data = dm.read_in_preprocessed_timeseries(stage_raw_data)\n",
    "turb_data = dm.read_in_preprocessed_timeseries(turb_raw_data)\n",
    "stage_data = dp.align_stage_to_fDOM(fDOM_data, stage_data)\n",
    "\n",
    "augmented_fdom_data = np.array(dm.read_in_timeseries(fdom_raw_augmented, True))\n",
    "augmented_turb_data = np.array(dm.read_in_timeseries(turb_augmented_raw_data, True))\n",
    "augmented_stage_data = np.array(dm.read_in_timeseries(stage_augmented_data_fn, True))\n"
   ]
  },
  {
   "cell_type": "markdown",
   "metadata": {},
   "source": [
    "## Get Candidates and truths\n"
   ]
  },
  {
   "cell_type": "code",
   "execution_count": 5,
   "metadata": {},
   "outputs": [
    {
     "name": "stdout",
     "output_type": "stream",
     "text": [
      "Total number of original data candidates: 1636\n"
     ]
    }
   ],
   "source": [
    "# get candidates from raw data\n",
    "cands = get_all_cands_fDOM(\n",
    "    fdom_raw_data,\n",
    "    fdom_labeled,\n",
    ")\n",
    "\n",
    "# get truths from raw data\n",
    "truths = get_all_truths_fDOM(fdom_labeled)\n",
    "\n",
    "# assert they are the same size\n",
    "assert truths.shape == cands.shape\n",
    "\n",
    "print(f\"Total number of original data candidates: {cands.shape[0]}\")\n"
   ]
  },
  {
   "cell_type": "markdown",
   "metadata": {},
   "source": [
    "### Augmented Data\n",
    "\n",
    "Make sure that `USE_AUGMENTED_DATA` == `True`, for this data to take effect\n"
   ]
  },
  {
   "cell_type": "code",
   "execution_count": 6,
   "metadata": {},
   "outputs": [
    {
     "name": "stdout",
     "output_type": "stream",
     "text": [
      "Total number of augmented candidates: 3764\n"
     ]
    }
   ],
   "source": [
    "if USE_AUGMENTED_DATA:\n",
    "    # get candidates from augmented data\n",
    "    cands_augmented = get_all_cands_fDOM(\n",
    "        fdom_raw_augmented,\n",
    "        fdom_labeled_augmented,\n",
    "        True,\n",
    "        fdom_fpt_lookup_path,\n",
    "        fdom_fsk_lookup_path,\n",
    "    )\n",
    "\n",
    "    truths_augmented = get_all_truths_fDOM(fdom_labeled_augmented, True)\n",
    "\n",
    "    # align the missing augmented data (FPT, NFPT, FSK, NFSK, some others)\n",
    "    truths_augmented = truths_augmented[\n",
    "        truths_augmented[\"idx_of_peak\"].isin(cands_augmented[\"idx_of_peak\"])\n",
    "    ]\n",
    "\n",
    "    assert truths_augmented.shape == cands_augmented.shape\n",
    "\n",
    "    print(f\"Total number of augmented candidates: {cands_augmented.shape[0]}\")\n",
    "\n",
    "    # concatenate two candidates and truths into single list\n",
    "    cands = pd.concat([cands, cands_augmented])\n",
    "    truths = pd.concat([truths, truths_augmented])\n",
    "\n",
    "    # concat augmented raw data to normal raw data, for classifier preprocessing\n",
    "    turb_data_total = np.concatenate((turb_data, augmented_turb_data))\n",
    "    fdom_total = np.concatenate((fDOM_data, augmented_fdom_data))\n",
    "    stage_total = np.concatenate((stage_data, augmented_stage_data))\n",
    "\n",
    "# if we aren't using augmented data, make sure classifiers have correct data being passed into them for preprocessing\n",
    "else:\n",
    "    turb_data_total = turb_data\n",
    "    fdom_total = fDOM_data\n",
    "    stage_total = stage_data\n"
   ]
  },
  {
   "cell_type": "markdown",
   "metadata": {},
   "source": [
    "## Alternatively, use only augmented data for pure class balanced training/testing\n"
   ]
  },
  {
   "cell_type": "code",
   "execution_count": 7,
   "metadata": {},
   "outputs": [
    {
     "name": "stdout",
     "output_type": "stream",
     "text": [
      "Total number of candidates: 3764\n"
     ]
    }
   ],
   "source": [
    "if CLASS_BALANCED_ONLY:\n",
    "    # get candidates from augmented data\n",
    "    cands = get_all_cands_fDOM(\n",
    "        fdom_raw_augmented,\n",
    "        fdom_labeled_augmented,\n",
    "        True,\n",
    "        fdom_fpt_lookup_path,\n",
    "        fdom_fsk_lookup_path,\n",
    "    )\n",
    "\n",
    "    truths = get_all_truths_fDOM(fdom_labeled_augmented, True)\n",
    "\n",
    "    # align the missing augmented data (FPT, NFPT, FSK, NFSK, some others)\n",
    "    truths = truths[truths[\"idx_of_peak\"].isin(cands[\"idx_of_peak\"])]\n",
    "\n",
    "    assert truths.shape == cands.shape\n",
    "\n",
    "    print(f\"Total number of candidates: {cands.shape[0]}\")\n",
    "\n",
    "    turb_data_total = augmented_turb_data\n",
    "    fdom_total = augmented_fdom_data\n",
    "    stage_total = augmented_stage_data\n"
   ]
  },
  {
   "cell_type": "code",
   "execution_count": 8,
   "metadata": {},
   "outputs": [
    {
     "name": "stdout",
     "output_type": "stream",
     "text": [
      "3764 candidates in provided data.\n"
     ]
    }
   ],
   "source": [
    "# Convert cands and truths into lists\n",
    "cands = cands.values.tolist()\n",
    "\n",
    "truths = truths.values.tolist()\n",
    "\n",
    "print(str(len(cands)) + \" candidates in provided data.\")\n"
   ]
  },
  {
   "cell_type": "code",
   "execution_count": 9,
   "metadata": {},
   "outputs": [],
   "source": [
    "train_cands = cands_augmented.values.tolist()\n",
    "train_truths = truths_augmented.values.tolist()\n"
   ]
  },
  {
   "cell_type": "markdown",
   "metadata": {},
   "source": [
    "## Create Classifiers\n"
   ]
  },
  {
   "cell_type": "code",
   "execution_count": 10,
   "metadata": {},
   "outputs": [],
   "source": [
    "plp_classifer = fDOM_PLP_Classifier(\n",
    "    fdom_total,\n",
    "    turb_data_total,\n",
    "    fdom_raw_data,\n",
    "    fdom_labeled,\n",
    "    fdom_raw_augmented,\n",
    "    fdom_labeled_augmented,\n",
    ")\n"
   ]
  },
  {
   "cell_type": "code",
   "execution_count": 11,
   "metadata": {},
   "outputs": [],
   "source": [
    "skp_classifier = fDOM_SKP_Classifier(\n",
    "    fdom_total, fdom_raw_data, fdom_labeled, fdom_raw_augmented, fdom_labeled_augmented\n",
    ")\n"
   ]
  },
  {
   "cell_type": "code",
   "execution_count": 12,
   "metadata": {},
   "outputs": [],
   "source": [
    "pp_classifier = fDOM_PP_Classifier(\n",
    "    fdom_total, stage_total, AUGMENT_DATA_BEGIN_TIMESTAMP\n",
    ")\n"
   ]
  },
  {
   "cell_type": "code",
   "execution_count": 13,
   "metadata": {},
   "outputs": [],
   "source": [
    "fpt_classifier = fDOM_FPT_Classifier(fdom_total)\n"
   ]
  },
  {
   "cell_type": "code",
   "execution_count": 14,
   "metadata": {},
   "outputs": [],
   "source": [
    "fsk_classifier = fDOM_FSK_Classifier(fdom_total)\n"
   ]
  },
  {
   "cell_type": "markdown",
   "metadata": {},
   "source": [
    "## Training Loop\n"
   ]
  },
  {
   "cell_type": "code",
   "execution_count": 15,
   "metadata": {},
   "outputs": [
    {
     "name": "stderr",
     "output_type": "stream",
     "text": [
      "  0% (24 of 4000) |                      | Elapsed Time: 0:00:00 ETA:   0:00:16"
     ]
    },
    {
     "name": "stdout",
     "output_type": "stream",
     "text": [
      "\n",
      "Split:  1\n",
      "Num Pos in Test: 544\n",
      "Num Pos in Train: 540\n"
     ]
    },
    {
     "name": "stderr",
     "output_type": "stream",
     "text": [
      " 10% (431 of 4000) |##                   | Elapsed Time: 0:00:01 ETA:   0:00:14"
     ]
    },
    {
     "name": "stdout",
     "output_type": "stream",
     "text": [
      "Iteration 400 acc: 0.12559618441971382 "
     ]
    },
    {
     "name": "stderr",
     "output_type": "stream",
     "text": [
      " 20% (827 of 4000) |####                 | Elapsed Time: 0:00:03 ETA:   0:00:13"
     ]
    },
    {
     "name": "stdout",
     "output_type": "stream",
     "text": [
      "Iteration 800 acc: 0.14149443561208266 "
     ]
    },
    {
     "name": "stderr",
     "output_type": "stream",
     "text": [
      " 31% (1241 of 4000) |######              | Elapsed Time: 0:00:05 ETA:   0:00:11"
     ]
    },
    {
     "name": "stdout",
     "output_type": "stream",
     "text": [
      "Iteration 1200 acc: 0.13990461049284578 "
     ]
    },
    {
     "name": "stderr",
     "output_type": "stream",
     "text": [
      " 40% (1638 of 4000) |########            | Elapsed Time: 0:00:06 ETA:   0:00:09"
     ]
    },
    {
     "name": "stdout",
     "output_type": "stream",
     "text": [
      "Iteration 1600 acc: 0.14149443561208266 "
     ]
    },
    {
     "name": "stderr",
     "output_type": "stream",
     "text": [
      " 51% (2040 of 4000) |##########          | Elapsed Time: 0:00:08 ETA:   0:00:07"
     ]
    },
    {
     "name": "stdout",
     "output_type": "stream",
     "text": [
      "Iteration 2000 acc: 0.12559618441971382 "
     ]
    },
    {
     "name": "stderr",
     "output_type": "stream",
     "text": [
      " 60% (2427 of 4000) |############        | Elapsed Time: 0:00:09 ETA:   0:00:06"
     ]
    },
    {
     "name": "stdout",
     "output_type": "stream",
     "text": [
      "Iteration 2400 acc: 0.14149443561208266 "
     ]
    },
    {
     "name": "stderr",
     "output_type": "stream",
     "text": [
      " 71% (2850 of 4000) |##############      | Elapsed Time: 0:00:11 ETA:   0:00:04"
     ]
    },
    {
     "name": "stdout",
     "output_type": "stream",
     "text": [
      "Iteration 2800 acc: 0.10492845786963434 "
     ]
    },
    {
     "name": "stderr",
     "output_type": "stream",
     "text": [
      " 80% (3237 of 4000) |################    | Elapsed Time: 0:00:13 ETA:   0:00:03"
     ]
    },
    {
     "name": "stdout",
     "output_type": "stream",
     "text": [
      "Iteration 3200 acc: 0.1383147853736089 "
     ]
    },
    {
     "name": "stderr",
     "output_type": "stream",
     "text": [
      " 90% (3636 of 4000) |##################  | Elapsed Time: 0:00:14 ETA:   0:00:01"
     ]
    },
    {
     "name": "stdout",
     "output_type": "stream",
     "text": [
      "Iteration 3600 acc: 0.12241653418124006 "
     ]
    },
    {
     "name": "stderr",
     "output_type": "stream",
     "text": [
      "  0% (13 of 4000) |                      | Elapsed Time: 0:00:00 ETA:   0:00:31"
     ]
    },
    {
     "name": "stdout",
     "output_type": "stream",
     "text": [
      "[[  0   0   0   0   0  97]\n",
      " [  0   0  23   0   0  60]\n",
      " [  0   0   0   0   0  87]\n",
      " [  0   0   0   0   0 139]\n",
      " [  0   0   0   0   0 138]\n",
      " [  0   0   0   0   0  83]]\n",
      "\n",
      "Split 1 test Scores: F1: 0.031986145063598516  BA: 0.16666666666666666  ACC: 0.13237639553429026\n",
      "\n",
      "Split:  2\n",
      "Num Pos in Test: 543\n",
      "Num Pos in Train: 1084\n"
     ]
    },
    {
     "name": "stderr",
     "output_type": "stream",
     "text": [
      " 10% (419 of 4000) |##                   | Elapsed Time: 0:00:03 ETA:   0:00:28"
     ]
    },
    {
     "name": "stdout",
     "output_type": "stream",
     "text": [
      "Iteration 400 acc: 0.13694267515923567 "
     ]
    },
    {
     "name": "stderr",
     "output_type": "stream",
     "text": [
      " 20% (824 of 4000) |####                 | Elapsed Time: 0:00:06 ETA:   0:00:25"
     ]
    },
    {
     "name": "stdout",
     "output_type": "stream",
     "text": [
      "Iteration 800 acc: 0.13455414012738853 "
     ]
    },
    {
     "name": "stderr",
     "output_type": "stream",
     "text": [
      " 30% (1213 of 4000) |######              | Elapsed Time: 0:00:10 ETA:   0:00:25"
     ]
    },
    {
     "name": "stdout",
     "output_type": "stream",
     "text": [
      "Iteration 1200 acc: 0.13694267515923567 "
     ]
    },
    {
     "name": "stderr",
     "output_type": "stream",
     "text": [
      " 40% (1621 of 4000) |########            | Elapsed Time: 0:00:13 ETA:   0:00:22"
     ]
    },
    {
     "name": "stdout",
     "output_type": "stream",
     "text": [
      "Iteration 1600 acc: 0.13614649681528662 "
     ]
    },
    {
     "name": "stderr",
     "output_type": "stream",
     "text": [
      " 50% (2001 of 4000) |##########          | Elapsed Time: 0:00:17 ETA:   0:00:17"
     ]
    },
    {
     "name": "stdout",
     "output_type": "stream",
     "text": [
      "Iteration 2000 acc: 0.11226114649681529 "
     ]
    },
    {
     "name": "stderr",
     "output_type": "stream",
     "text": [
      " 60% (2417 of 4000) |############        | Elapsed Time: 0:00:21 ETA:   0:00:15"
     ]
    },
    {
     "name": "stdout",
     "output_type": "stream",
     "text": [
      "Iteration 2400 acc: 0.13694267515923567 "
     ]
    },
    {
     "name": "stderr",
     "output_type": "stream",
     "text": [
      " 70% (2821 of 4000) |##############      | Elapsed Time: 0:00:25 ETA:   0:00:11"
     ]
    },
    {
     "name": "stdout",
     "output_type": "stream",
     "text": [
      "Iteration 2800 acc: 0.1337579617834395 "
     ]
    },
    {
     "name": "stderr",
     "output_type": "stream",
     "text": [
      " 79% (3199 of 4000) |###############     | Elapsed Time: 0:00:29 ETA:   0:00:07"
     ]
    },
    {
     "name": "stdout",
     "output_type": "stream",
     "text": [
      "Iteration 3200 acc: 0.1393312101910828 "
     ]
    },
    {
     "name": "stderr",
     "output_type": "stream",
     "text": [
      " 90% (3620 of 4000) |##################  | Elapsed Time: 0:00:33 ETA:   0:00:03"
     ]
    },
    {
     "name": "stdout",
     "output_type": "stream",
     "text": [
      "Iteration 3600 acc: 0.12579617834394904 "
     ]
    },
    {
     "name": "stderr",
     "output_type": "stream",
     "text": [
      "  0% (9 of 4000) |                       | Elapsed Time: 0:00:00 ETA:   0:00:48"
     ]
    },
    {
     "name": "stdout",
     "output_type": "stream",
     "text": [
      "[[  0   0  91   0   0   0]\n",
      " [  0   0  74   0   0   0]\n",
      " [  0   0  94   0   0   1]\n",
      " [  0   0   0   0   0 141]\n",
      " [  0   0   0   0   0 142]\n",
      " [  0   0  80   0   0   4]]\n",
      "\n",
      "Split 2 test Scores: F1: 0.06851439449062538  BA: 0.17284878863826234  ACC: 0.15629984051036683\n",
      "\n",
      "Split:  3\n",
      "Num Pos in Test: 539\n",
      "Num Pos in Train: 1627\n"
     ]
    },
    {
     "name": "stderr",
     "output_type": "stream",
     "text": [
      " 10% (415 of 4000) |##                   | Elapsed Time: 0:00:07 ETA:   0:01:09"
     ]
    },
    {
     "name": "stdout",
     "output_type": "stream",
     "text": [
      "Iteration 400 acc: 0.13489113117365906 "
     ]
    },
    {
     "name": "stderr",
     "output_type": "stream",
     "text": [
      " 20% (817 of 4000) |####                 | Elapsed Time: 0:00:14 ETA:   0:00:52"
     ]
    },
    {
     "name": "stdout",
     "output_type": "stream",
     "text": [
      "Iteration 800 acc: 0.06001062134891131 "
     ]
    },
    {
     "name": "stderr",
     "output_type": "stream",
     "text": [
      " 30% (1201 of 4000) |######              | Elapsed Time: 0:00:22 ETA:   0:00:48"
     ]
    },
    {
     "name": "stdout",
     "output_type": "stream",
     "text": [
      "Iteration 1200 acc: 0.12161444503451939 "
     ]
    },
    {
     "name": "stderr",
     "output_type": "stream",
     "text": [
      " 40% (1616 of 4000) |########            | Elapsed Time: 0:00:30 ETA:   0:00:41"
     ]
    },
    {
     "name": "stdout",
     "output_type": "stream",
     "text": [
      "Iteration 1600 acc: 0.1051513542219862 "
     ]
    },
    {
     "name": "stderr",
     "output_type": "stream",
     "text": [
      " 49% (1999 of 4000) |#########           | Elapsed Time: 0:00:38 ETA:   0:00:39"
     ]
    },
    {
     "name": "stdout",
     "output_type": "stream",
     "text": [
      "Iteration 2000 acc: 0.13595326606479022 "
     ]
    },
    {
     "name": "stderr",
     "output_type": "stream",
     "text": [
      " 60% (2412 of 4000) |############        | Elapsed Time: 0:00:47 ETA:   0:00:30"
     ]
    },
    {
     "name": "stdout",
     "output_type": "stream",
     "text": [
      "Iteration 2400 acc: 0.13595326606479022 "
     ]
    },
    {
     "name": "stderr",
     "output_type": "stream",
     "text": [
      " 70% (2800 of 4000) |##############      | Elapsed Time: 0:00:55 ETA:   0:00:23"
     ]
    },
    {
     "name": "stdout",
     "output_type": "stream",
     "text": [
      "Iteration 2800 acc: 0.13382899628252787 "
     ]
    },
    {
     "name": "stderr",
     "output_type": "stream",
     "text": [
      " 80% (3216 of 4000) |################    | Elapsed Time: 0:01:04 ETA:   0:00:16"
     ]
    },
    {
     "name": "stdout",
     "output_type": "stream",
     "text": [
      "Iteration 3200 acc: 0.13595326606479022 "
     ]
    },
    {
     "name": "stderr",
     "output_type": "stream",
     "text": [
      " 90% (3604 of 4000) |##################  | Elapsed Time: 0:01:12 ETA:   0:00:08"
     ]
    },
    {
     "name": "stdout",
     "output_type": "stream",
     "text": [
      "Iteration 3600 acc: 0.13117365905469994 "
     ]
    },
    {
     "name": "stderr",
     "output_type": "stream",
     "text": [
      "  0% (7 of 4000) |                       | Elapsed Time: 0:00:00 ETA:   0:01:02"
     ]
    },
    {
     "name": "stdout",
     "output_type": "stream",
     "text": [
      "[[  0   0  98   0   0   0]\n",
      " [  0   0  85   0   0   0]\n",
      " [  0   0  77   0   0   3]\n",
      " [  0   0   0   0   0 138]\n",
      " [  0   0   0   0   0 138]\n",
      " [  0   0  86   0   0   2]]\n",
      "\n",
      "Split 3 test Scores: F1: 0.04764612014788298  BA: 0.16420454545454546  ACC: 0.12599681020733652\n",
      "\n",
      "Split:  4\n",
      "Num Pos in Test: 544\n",
      "Num Pos in Train: 2166\n"
     ]
    },
    {
     "name": "stderr",
     "output_type": "stream",
     "text": [
      " 10% (404 of 4000) |##                   | Elapsed Time: 0:00:14 ETA:   0:01:49"
     ]
    },
    {
     "name": "stdout",
     "output_type": "stream",
     "text": [
      "Iteration 400 acc: 0.12828685258964143 "
     ]
    },
    {
     "name": "stderr",
     "output_type": "stream",
     "text": [
      " 20% (808 of 4000) |####                 | Elapsed Time: 0:00:30 ETA:   0:02:11"
     ]
    },
    {
     "name": "stdout",
     "output_type": "stream",
     "text": [
      "Iteration 800 acc: 0.09362549800796813 "
     ]
    },
    {
     "name": "stderr",
     "output_type": "stream",
     "text": [
      " 30% (1202 of 4000) |######              | Elapsed Time: 0:00:45 ETA:   0:01:36"
     ]
    },
    {
     "name": "stdout",
     "output_type": "stream",
     "text": [
      "Iteration 1200 acc: 0.13545816733067728 "
     ]
    },
    {
     "name": "stderr",
     "output_type": "stream",
     "text": [
      " 40% (1612 of 4000) |########            | Elapsed Time: 0:01:01 ETA:   0:01:25"
     ]
    },
    {
     "name": "stdout",
     "output_type": "stream",
     "text": [
      "Iteration 1600 acc: 0.13545816733067728 "
     ]
    },
    {
     "name": "stderr",
     "output_type": "stream",
     "text": [
      " 50% (2001 of 4000) |##########          | Elapsed Time: 0:01:18 ETA:   0:01:18"
     ]
    },
    {
     "name": "stdout",
     "output_type": "stream",
     "text": [
      "Iteration 2000 acc: 0.13187250996015937 "
     ]
    },
    {
     "name": "stderr",
     "output_type": "stream",
     "text": [
      " 60% (2411 of 4000) |############        | Elapsed Time: 0:01:36 ETA:   0:01:14"
     ]
    },
    {
     "name": "stdout",
     "output_type": "stream",
     "text": [
      "Iteration 2400 acc: 0.13665338645418326 "
     ]
    },
    {
     "name": "stderr",
     "output_type": "stream",
     "text": [
      " 69% (2798 of 4000) |#############       | Elapsed Time: 0:01:53 ETA:   0:00:56"
     ]
    },
    {
     "name": "stdout",
     "output_type": "stream",
     "text": [
      "Iteration 2800 acc: 0.13187250996015937 "
     ]
    },
    {
     "name": "stderr",
     "output_type": "stream",
     "text": [
      " 80% (3206 of 4000) |################    | Elapsed Time: 0:02:13 ETA:   0:00:39"
     ]
    },
    {
     "name": "stdout",
     "output_type": "stream",
     "text": [
      "Iteration 3200 acc: 0.1362549800796813 "
     ]
    },
    {
     "name": "stderr",
     "output_type": "stream",
     "text": [
      " 90% (3600 of 4000) |##################  | Elapsed Time: 0:02:32 ETA:   0:00:18"
     ]
    },
    {
     "name": "stdout",
     "output_type": "stream",
     "text": [
      "Iteration 3600 acc: 0.1350597609561753 "
     ]
    },
    {
     "name": "stderr",
     "output_type": "stream",
     "text": [
      "  0% (5 of 4000) |                       | Elapsed Time: 0:00:00 ETA:   0:01:23"
     ]
    },
    {
     "name": "stdout",
     "output_type": "stream",
     "text": [
      "[[  0   0  98   0   0   0]\n",
      " [  0   0  75   0   0   0]\n",
      " [  0   0  92   0   0   0]\n",
      " [  0   0   0   0   0 139]\n",
      " [  0   0   0   0   0 140]\n",
      " [  0   0  77   0   0   6]]\n",
      "\n",
      "Split 4 test Scores: F1: 0.06652492828398933  BA: 0.178714859437751  ACC: 0.15629984051036683\n",
      "\n",
      "Split:  5\n",
      "Num Pos in Test: 544\n",
      "Num Pos in Train: 2710\n"
     ]
    },
    {
     "name": "stderr",
     "output_type": "stream",
     "text": [
      " 10% (406 of 4000) |##                   | Elapsed Time: 0:00:27 ETA:   0:04:32"
     ]
    },
    {
     "name": "stdout",
     "output_type": "stream",
     "text": [
      "Iteration 400 acc: 0.13420465412814792 "
     ]
    },
    {
     "name": "stderr",
     "output_type": "stream",
     "text": [
      " 20% (801 of 4000) |####                 | Elapsed Time: 0:00:55 ETA:   0:04:01"
     ]
    },
    {
     "name": "stdout",
     "output_type": "stream",
     "text": [
      "Iteration 800 acc: 0.12464137711189034 "
     ]
    },
    {
     "name": "stderr",
     "output_type": "stream",
     "text": [
      " 30% (1204 of 4000) |######              | Elapsed Time: 0:01:24 ETA:   0:03:30"
     ]
    },
    {
     "name": "stdout",
     "output_type": "stream",
     "text": [
      "Iteration 1200 acc: 0.13611730953139942 "
     ]
    },
    {
     "name": "stderr",
     "output_type": "stream",
     "text": [
      " 40% (1603 of 4000) |########            | Elapsed Time: 0:01:55 ETA:   0:03:08"
     ]
    },
    {
     "name": "stdout",
     "output_type": "stream",
     "text": [
      "Iteration 1600 acc: 0.13292955052598024 "
     ]
    },
    {
     "name": "stderr",
     "output_type": "stream",
     "text": [
      " 50% (2002 of 4000) |##########          | Elapsed Time: 0:02:27 ETA:   0:02:41"
     ]
    },
    {
     "name": "stdout",
     "output_type": "stream",
     "text": [
      "Iteration 2000 acc: 0.09340133885878228 "
     ]
    },
    {
     "name": "stderr",
     "output_type": "stream",
     "text": [
      " 60% (2401 of 4000) |############        | Elapsed Time: 0:03:01 ETA:   0:02:17"
     ]
    },
    {
     "name": "stdout",
     "output_type": "stream",
     "text": [
      "Iteration 2400 acc: 0.1354797577303156 "
     ]
    },
    {
     "name": "stderr",
     "output_type": "stream",
     "text": [
      " 70% (2800 of 4000) |##############      | Elapsed Time: 0:03:35 ETA:   0:01:41"
     ]
    },
    {
     "name": "stdout",
     "output_type": "stream",
     "text": [
      "Iteration 2800 acc: 0.13484220592923174 "
     ]
    },
    {
     "name": "stderr",
     "output_type": "stream",
     "text": [
      " 80% (3206 of 4000) |################    | Elapsed Time: 0:04:10 ETA:   0:01:29"
     ]
    },
    {
     "name": "stdout",
     "output_type": "stream",
     "text": [
      "Iteration 3200 acc: 0.1310168951227287 "
     ]
    },
    {
     "name": "stderr",
     "output_type": "stream",
     "text": [
      " 90% (3605 of 4000) |##################  | Elapsed Time: 0:04:45 ETA:   0:00:45"
     ]
    },
    {
     "name": "stdout",
     "output_type": "stream",
     "text": [
      "Iteration 3600 acc: 0.10487727127829136 "
     ]
    },
    {
     "name": "stderr",
     "output_type": "stream",
     "text": [
      " 99% (3999 of 4000) |################### | Elapsed Time: 0:05:22 ETA:   0:00:00"
     ]
    },
    {
     "name": "stdout",
     "output_type": "stream",
     "text": [
      "[[  0   0  94   0   0   0]\n",
      " [  0   0  74   0   0   0]\n",
      " [  0   0  94   0   0   0]\n",
      " [  0   0   0   0   0 142]\n",
      " [  0   0   0   0   0 140]\n",
      " [  0   0  77   0   0   6]]\n",
      "\n",
      "Split 5 test Scores: F1: 0.06937411346730868  BA: 0.178714859437751  ACC: 0.1594896331738437\n",
      "\n",
      "\n"
     ]
    }
   ],
   "source": [
    "accumulated_test_metrics = {}\n",
    "\n",
    "accumulated_test_results = {}\n",
    "\n",
    "accumulated_best_params = {}\n",
    "\n",
    "accumulated_cfmxs = {}\n",
    "\n",
    "discovered_labels = []\n",
    "\n",
    "# split data\n",
    "tss = TimeSeriesSplit(NUM_SPLITS)\n",
    "\n",
    "overall_start = datetime.datetime.now()\n",
    "\n",
    "split = 1\n",
    "divide_by_zero_errs = 0\n",
    "\n",
    "for train_val_indices, test_indices in tss.split(cands):\n",
    "    X_train, y_train = [cands[i] for i in train_val_indices], [\n",
    "        truths[i] for i in train_val_indices\n",
    "    ]\n",
    "\n",
    "    X_test, y_test = [cands[i] for i in test_indices], [truths[i] for i in test_indices]\n",
    "\n",
    "    max_fold_metric = 0\n",
    "    max_result = None\n",
    "\n",
    "    # print out info for user\n",
    "    print(\"\\nSplit: \", split)\n",
    "    split_start = datetime.datetime.now()\n",
    "    num_pos_test = len(list(filter(lambda x: x[2] != \"NAP\", y_test)))\n",
    "    num_pos_train = len(list(filter(lambda x: x[2] != \"NAP\", y_train)))\n",
    "\n",
    "    print(f\"Num Pos in Test: {num_pos_test}\")\n",
    "    print(f\"Num Pos in Train: {num_pos_train}\")\n",
    "\n",
    "    if num_pos_test >= 1 and num_pos_train >= 1:\n",
    "        # instantiate the progress bar\n",
    "        pbar = progressbar.ProgressBar(max_value=ITERATIONS)\n",
    "\n",
    "        # main training loop\n",
    "        for iteration in range(ITERATIONS):\n",
    "            params = {}\n",
    "\n",
    "            # start the iteration for each classifier (resets predictions, generates params)\n",
    "            params[\"plp\"] = plp_classifer.start_iteration()\n",
    "            params[\"skp\"] = skp_classifier.start_iteration()\n",
    "            params[\"pp\"] = pp_classifier.start_iteration()\n",
    "            params[\"fpt\"] = fpt_classifier.start_iteration()\n",
    "            params[\"fsk\"] = fsk_classifier.start_iteration()\n",
    "\n",
    "            # empty predictions array\n",
    "            train_preds = []\n",
    "\n",
    "            plp_preds = plp_classifer.classify_samples(X_train)\n",
    "            # skp_preds = skp_classifier.classify_samples(X_train)\n",
    "            pp_preds = pp_classifier.classify_samples(X_train)\n",
    "            # fpt_preds = fpt_classifier.classify_samples(X_train)\n",
    "            # fsk_preds = fsk_classifier.classify_samples(X_train)\n",
    "            for i, pred in enumerate(plp_preds):\n",
    "                # train_pred = get_prediction(\n",
    "                #     pred[1], skp_preds[i][1], pp_preds[i][1], fpt_preds[i][1], fsk_preds[i][1]\n",
    "                # )\n",
    "\n",
    "                # HACK: SINGLE CLASSIFIER TEST SECTION REMOVE IN PROD ENV\n",
    "                train_pred = pp_preds[i][1]\n",
    "\n",
    "                train_preds.append(train_pred)\n",
    "\n",
    "            ######## GET SCORES ########\n",
    "            bal_acc = balanced_accuracy_score(\n",
    "                [row[2] for row in y_train],\n",
    "                [row for row in train_preds],\n",
    "            )\n",
    "\n",
    "            acc = accuracy_score(\n",
    "                [row[2] for row in y_train],\n",
    "                [row for row in train_preds],\n",
    "            )\n",
    "\n",
    "            f1_train = f1_score(\n",
    "                [row[2] for row in y_train], [row for row in train_preds], average=None\n",
    "            )\n",
    "\n",
    "            # print out acc in 10 even splits\n",
    "            if iteration and iteration % int(ITERATIONS / 10) == 0:\n",
    "                print(\"Iteration {} acc: {} \".format(iteration, acc), end=\"\")\n",
    "\n",
    "            # check acc, if better than max fold, save it\n",
    "            if acc > max_fold_metric:\n",
    "                max_fold_metric = acc\n",
    "                max_result = copy.deepcopy(train_preds)\n",
    "\n",
    "                # save params of classifiers\n",
    "                plp_classifer.got_best_result()\n",
    "                skp_classifier.got_best_result()\n",
    "                pp_classifier.got_best_results()\n",
    "                fpt_classifier.got_best_results()\n",
    "                fsk_classifier.got_best_results()\n",
    "\n",
    "            # call end of iteration, as we are at the end of an iteration\n",
    "            # allows individual classifiers to calc results\n",
    "            plp_classifer.end_of_iteration(y_train)\n",
    "            # skp_classifier.end_of_iteration(y_train)\n",
    "            pp_classifier.end_of_iteration(y_train)\n",
    "            # fpt_classifier.end_of_iteration(y_train)\n",
    "            # fsk_classifier.end_of_iteration(y_train)\n",
    "\n",
    "            # TODO make confusion matrix on training data\n",
    "            \n",
    "\n",
    "            # update the progressbar\n",
    "            pbar.update(iteration)\n",
    "\n",
    "        # perform peak testing\n",
    "        test_preds = []\n",
    "        plp_preds = plp_classifer.classify_samples(X_test, True)\n",
    "        # skp_preds = skp_classifier.classify_samples(X_test, True)\n",
    "        pp_preds = pp_classifier.classify_samples(X_test, True)\n",
    "        # fpt_preds = fpt_classifier.classify_samples(X_test, True)\n",
    "        # fsk_preds = fsk_classifier.classify_samples(X_test, True)\n",
    "\n",
    "        for i, pred in enumerate(plp_preds):\n",
    "            # test_pred = get_prediction(\n",
    "            #     pred[1], skp_preds[i][1], pp_preds[i][1], fpt_preds[i][1], fsk_preds[i][1]\n",
    "            # )\n",
    "\n",
    "            test_pred = pp_preds[i][1]\n",
    "\n",
    "            test_preds.append(test_pred)\n",
    "\n",
    "\n",
    "        ######## GET SCORES ########\n",
    "        # get confusion matrix\n",
    "        cfmx = confusion_matrix(\n",
    "            [row[2] for row in y_test],\n",
    "            [row for row in test_preds],\n",
    "            labels=DATA_LABELS,\n",
    "        )\n",
    "\n",
    "        print(cfmx)\n",
    "\n",
    "        # get acc score\n",
    "        acc_score = accuracy_score(\n",
    "            [row[2] for row in y_test],\n",
    "            [row for row in test_preds],\n",
    "        )\n",
    "\n",
    "        bal_acc = balanced_accuracy_score(\n",
    "            [row[2] for row in y_test],\n",
    "            [row for row in test_preds],\n",
    "        )\n",
    "\n",
    "        f1 = f1_score(\n",
    "            [row[2] for row in y_test],\n",
    "            [row for row in test_preds],\n",
    "            average=\"weighted\",\n",
    "        )\n",
    "\n",
    "        precision = precision_score(\n",
    "            [row[2] for row in y_test],\n",
    "            [row for row in test_preds],\n",
    "            average=\"weighted\",\n",
    "        )\n",
    "\n",
    "        print(f\"\\nSplit {split} test Scores: F1: {f1}  BA: {bal_acc}  ACC: {acc_score}\")\n",
    "\n",
    "        accumulated_cfmxs[split] = copy.deepcopy(cfmx)\n",
    "\n",
    "        accumulated_test_metrics[split] = {\n",
    "            \"f1\": f1,\n",
    "            \"acc\": acc_score,\n",
    "            \"ba\": bal_acc,\n",
    "            \"precision\": precision,\n",
    "        }\n",
    "\n",
    "        accumulated_test_results[split] = copy.deepcopy(test_preds)\n",
    "\n",
    "        # save the best params\n",
    "        accumulated_best_params[split] = {\n",
    "            \"PLP\": copy.deepcopy(plp_classifer.best_params),\n",
    "            \"SKP\": copy.deepcopy(skp_classifier.best_params),\n",
    "            \"PP\": copy.deepcopy(pp_classifier.best_params),\n",
    "            \"FPT\": copy.deepcopy(fpt_classifier.best_params),\n",
    "            \"FSK\": copy.deepcopy(fsk_classifier.best_params)\n",
    "        }\n",
    "\n",
    "        # increment split\n",
    "        split += 1\n",
    "\n",
    "# print a newline char for better display\n",
    "print(\"\\n\")\n",
    "\n",
    "overall_end_time = datetime.datetime.now()\n"
   ]
  },
  {
   "cell_type": "markdown",
   "metadata": {},
   "source": [
    "## Display Metrics\n"
   ]
  },
  {
   "cell_type": "code",
   "execution_count": 30,
   "metadata": {},
   "outputs": [
    {
     "name": "stdout",
     "output_type": "stream",
     "text": [
      "Mean Test F1:  0.05680914029068098\n",
      "Mean Test BA:  0.17222994392699528\n",
      "Mean Test Acc:  0.14609250398724083\n",
      "Mean Test Precision:  0.035609011572197084\n",
      "\n",
      "Params from split 1:\n",
      "\n",
      "For peak type PLP:\n",
      "max_basewidth, value: 1\n",
      "min_prominence, value: 5.45066227754899\n",
      "interference_x_proximity, value: 8\n",
      "interference_y_proximity, value: 8\n",
      "proximity_threshold, value: 2\n",
      "\n",
      "For peak type SKP:\n",
      "max_basewidth, value: 8\n",
      "min_prominence, value: 17.011709856564796\n",
      "downward_bases_threshold, value: 4\n",
      "proximity_threshold, value: 15\n",
      "\n",
      "For peak type PP:\n",
      "x, value: 27\n",
      "y, value: 15\n",
      "ratio_threshold, value: 17.34341679311343\n",
      "\n",
      "For peak type FPT:\n",
      "basewidth, value: 10\n",
      "prominence, value: 180\n",
      "prom_diff, value: 1.715684899482849\n",
      "\n",
      "For peak type FSK:\n",
      "basewidth, value: 3\n",
      "prominence, value: 290\n",
      "prom_diff, value: 0.4238808096517908\n",
      "\n",
      "Params from split 2:\n",
      "\n",
      "For peak type PLP:\n",
      "max_basewidth, value: 10\n",
      "min_prominence, value: 18.976217369734037\n",
      "interference_x_proximity, value: 2\n",
      "interference_y_proximity, value: 3\n",
      "proximity_threshold, value: 5\n",
      "\n",
      "For peak type SKP:\n",
      "max_basewidth, value: 4\n",
      "min_prominence, value: 12.096367128775245\n",
      "downward_bases_threshold, value: 1\n",
      "proximity_threshold, value: 7\n",
      "\n",
      "For peak type PP:\n",
      "x, value: 97\n",
      "y, value: 5\n",
      "ratio_threshold, value: 0.2579845492612387\n",
      "\n",
      "For peak type FPT:\n",
      "basewidth, value: 5\n",
      "prominence, value: 230\n",
      "prom_diff, value: 1.0315375376148896\n",
      "\n",
      "For peak type FSK:\n",
      "basewidth, value: 8\n",
      "prominence, value: 259\n",
      "prom_diff, value: 0.32975326039635044\n",
      "\n",
      "Params from split 3:\n",
      "\n",
      "For peak type PLP:\n",
      "max_basewidth, value: 7\n",
      "min_prominence, value: 16.99984471032162\n",
      "interference_x_proximity, value: 0\n",
      "interference_y_proximity, value: 5\n",
      "proximity_threshold, value: 5\n",
      "\n",
      "For peak type SKP:\n",
      "max_basewidth, value: 4\n",
      "min_prominence, value: 14.922777769423943\n",
      "downward_bases_threshold, value: 3\n",
      "proximity_threshold, value: 12\n",
      "\n",
      "For peak type PP:\n",
      "x, value: 0\n",
      "y, value: 78\n",
      "ratio_threshold, value: 0.251693448652599\n",
      "\n",
      "For peak type FPT:\n",
      "basewidth, value: 2\n",
      "prominence, value: 45\n",
      "prom_diff, value: 1.9019377280206167\n",
      "\n",
      "For peak type FSK:\n",
      "basewidth, value: 1\n",
      "prominence, value: 265\n",
      "prom_diff, value: 1.2104510771717651\n",
      "\n",
      "Params from split 4:\n",
      "\n",
      "For peak type PLP:\n",
      "max_basewidth, value: 3\n",
      "min_prominence, value: 16.290454236389387\n",
      "interference_x_proximity, value: 5\n",
      "interference_y_proximity, value: 2\n",
      "proximity_threshold, value: 9\n",
      "\n",
      "For peak type SKP:\n",
      "max_basewidth, value: 6\n",
      "min_prominence, value: 13.014507703677934\n",
      "downward_bases_threshold, value: 0\n",
      "proximity_threshold, value: 19\n",
      "\n",
      "For peak type PP:\n",
      "x, value: 50\n",
      "y, value: 3\n",
      "ratio_threshold, value: 0.23673061504828619\n",
      "\n",
      "For peak type FPT:\n",
      "basewidth, value: 7\n",
      "prominence, value: 24\n",
      "prom_diff, value: 1.922795396157054\n",
      "\n",
      "For peak type FSK:\n",
      "basewidth, value: 5\n",
      "prominence, value: 211\n",
      "prom_diff, value: 0.30841421473295\n",
      "\n",
      "Params from split 5:\n",
      "\n",
      "For peak type PLP:\n",
      "max_basewidth, value: 5\n",
      "min_prominence, value: 9.836919801720143\n",
      "interference_x_proximity, value: 2\n",
      "interference_y_proximity, value: 4\n",
      "proximity_threshold, value: 14\n",
      "\n",
      "For peak type SKP:\n",
      "max_basewidth, value: 6\n",
      "min_prominence, value: 16.466281591528485\n",
      "downward_bases_threshold, value: 2\n",
      "proximity_threshold, value: 14\n",
      "\n",
      "For peak type PP:\n",
      "x, value: 35\n",
      "y, value: 43\n",
      "ratio_threshold, value: 0.23673431961315217\n",
      "\n",
      "For peak type FPT:\n",
      "basewidth, value: 3\n",
      "prominence, value: 204\n",
      "prom_diff, value: 1.918534528297963\n",
      "\n",
      "For peak type FSK:\n",
      "basewidth, value: 7\n",
      "prominence, value: 131\n",
      "prom_diff, value: 1.0263578729109828\n",
      "['0\\n', '0\\n', '76\\n', '0\\n', '0\\n', '19\\n', '0\\n', '0\\n', '66\\n', '0\\n', '0\\n', '12\\n', '0\\n', '0\\n', '71\\n', '0\\n', '0\\n', '18\\n', '0\\n', '0\\n', '0\\n', '0\\n', '0\\n', '140\\n', '0\\n', '0\\n', '0\\n', '0\\n', '0\\n', '140\\n', '0\\n', '0\\n', '64\\n', '0\\n', '0\\n', '20\\n']\n",
      "['0.00%', '0.00%', '12.15%', '0.00%', '0.00%', '3.09%', '0.00%', '0.00%', '10.56%', '0.00%', '0.00%', '1.91%', '0.00%', '0.00%', '11.39%', '0.00%', '0.00%', '2.90%', '0.00%', '0.00%', '0.00%', '0.00%', '0.00%', '22.30%', '0.00%', '0.00%', '0.00%', '0.00%', '0.00%', '22.26%', '0.00%', '0.00%', '10.21%', '0.00%', '0.00%', '3.22%']\n"
     ]
    },
    {
     "data": {
      "image/png": "[encoded data removed]",
      "text/plain": [
       "<Figure size 720x504 with 1 Axes>"
      ]
     },
     "metadata": {},
     "output_type": "display_data"
    }
   ],
   "source": [
    "mean_f1 = 0\n",
    "mean_ba = 0\n",
    "mean_precision = 0\n",
    "mean_acc = 0\n",
    "\n",
    "for key in accumulated_test_metrics:\n",
    "    metrics = accumulated_test_metrics[key]\n",
    "\n",
    "    mean_f1 += metrics[\"f1\"]\n",
    "    mean_ba += metrics[\"ba\"]\n",
    "    mean_precision += metrics[\"precision\"]\n",
    "    mean_acc += metrics[\"acc\"]\n",
    "\n",
    "print(\"Mean Test F1: \", mean_f1 / len(accumulated_test_metrics))\n",
    "print(\"Mean Test BA: \", mean_ba / len(accumulated_test_metrics))\n",
    "print(\"Mean Test Acc: \", mean_acc / len(accumulated_test_metrics))\n",
    "print(\"Mean Test Precision: \", mean_precision / len(accumulated_test_metrics))\n",
    "\n",
    "for split in accumulated_best_params.keys():\n",
    "    print(f\"\\nParams from split {split}:\")\n",
    "    for peak in accumulated_best_params[split].keys():\n",
    "        print(f\"\\nFor peak type {peak}:\")\n",
    "\n",
    "        for param in accumulated_best_params[split][peak].keys():\n",
    "            print(f\"{param}, value: {accumulated_best_params[split][peak][param]}\")\n",
    "\n",
    "# print(\"Training time: \", overall_end_time - overall_start)\n",
    "\n",
    "mean_cfmx = np.zeros((len(DATA_LABELS), len(DATA_LABELS)))\n",
    "for key in accumulated_cfmxs.keys():\n",
    "    mean_cfmx += accumulated_cfmxs[key]\n",
    "\n",
    "mean_cfmx = mean_cfmx / len(accumulated_cfmxs)\n",
    "\n",
    "plt.figure(figsize=(10, 7))\n",
    "plt.title(label=\"fDOM Peak Detection Confusion Matrix\")\n",
    "\n",
    "sn.set(font_scale=1.5)\n",
    "\n",
    "group_counts = [\"{0:0.0f}\\n\".format(value) for value in mean_cfmx.flatten()]\n",
    "group_percentages = [\"{0:.2%}\".format(value) for value in mean_cfmx.flatten()/np.sum(mean_cfmx)]\n",
    "\n",
    "print(group_counts)\n",
    "print(group_percentages)\n",
    "\n",
    "box_labels = [f\"{v2}{v3}\".strip() for v2, v3 in zip(group_counts,group_percentages)]\n",
    "box_labels = np.asarray(box_labels).reshape(mean_cfmx.shape[0],mean_cfmx.shape[1])\n",
    "\n",
    "sn.heatmap(\n",
    "    mean_cfmx.astype(\"float\"),\n",
    "    annot=box_labels,\n",
    "    xticklabels=DATA_LABELS,\n",
    "    yticklabels=DATA_LABELS,\n",
    "    fmt=\"\",\n",
    "    cbar=False,\n",
    "    annot_kws ={\"size\": 14},\n",
    ")\n",
    "\n",
    "plt.xlabel(\"Predictions\")\n",
    "plt.ylabel(\"Ground Truths\")\n",
    "plt.show()\n"
   ]
  },
  {
   "cell_type": "code",
   "execution_count": null,
   "metadata": {},
   "outputs": [],
   "source": [
    "with open(\n",
    "    \"Anomaly_Detection/Multiclass_Detection/Experimental_Results/fdom/best_params.pkl\",\n",
    "    \"wb\",\n",
    ") as pck_file:\n",
    "    pickle.dump(accumulated_best_params, pck_file)\n",
    "    pck_file.close()\n",
    "\n",
    "# Pickle test results\n",
    "with open(\n",
    "    \"Anomaly_Detection/Multiclass_Detection/Experimental_Results/fdom/test_results.pkl\",\n",
    "    \"wb\",\n",
    ") as pck_file:\n",
    "    pickle.dump(accumulated_test_results, pck_file)\n",
    "    pck_file.close()\n",
    "\n",
    "# Pickle test metrics\n",
    "with open(\n",
    "    \"Anomaly_Detection/Multiclass_Detection/Experimental_Results/fdom/test_metrics.pkl\",\n",
    "    \"wb\",\n",
    ") as pck_file:\n",
    "    pickle.dump(accumulated_test_metrics, pck_file)\n",
    "    pck_file.close()\n"
   ]
  },
  {
   "cell_type": "markdown",
   "metadata": {},
   "source": [
    "### Statistics from individual classifiers\n"
   ]
  },
  {
   "cell_type": "code",
   "execution_count": null,
   "metadata": {},
   "outputs": [
    {
     "name": "stdout",
     "output_type": "stream",
     "text": [
      "PLP CLASSIFIER INFO:\n",
      "ACC: 0.5867249271743653\n",
      "f1: 0.4201438848920863\n",
      "\n",
      "\n",
      "SKP CLASSIFIER INFO:\n",
      "ACC: 0\n",
      "f1: 0\n",
      "\n",
      "\n",
      "PP CLASSIFIER INFO:\n",
      "ACC: 0.5902413649604661\n",
      "f1: 0.6020066889632107\n",
      "\n",
      "\n",
      "FPT CLASSIFIER INFO:\n",
      "ACC: 0\n",
      "f1: 0\n",
      "\n",
      "\n",
      "FSK CLASSIFIER INFO:\n",
      "ACC: 0\n",
      "f1: 0\n",
      "\n",
      "\n"
     ]
    }
   ],
   "source": [
    "# print accuracies\n",
    "print(\"PLP CLASSIFIER INFO:\")\n",
    "print(\"ACC: \" + str(plp_classifer.best_acc))\n",
    "print(\"f1: \" + str(plp_classifer.best_f1_score))\n",
    "print(\"\\n\")\n",
    "\n",
    "print(\"SKP CLASSIFIER INFO:\")\n",
    "print(\"ACC: \" + str(skp_classifier.best_acc))\n",
    "print(\"f1: \" + str(skp_classifier.best_f1_score))\n",
    "print(\"\\n\")\n",
    "\n",
    "print(\"PP CLASSIFIER INFO:\")\n",
    "print(\"ACC: \" + str(pp_classifier.best_acc))\n",
    "print(\"f1: \" + str(pp_classifier.best_f1_score))\n",
    "print(\"\\n\")\n",
    "\n",
    "print(\"FPT CLASSIFIER INFO:\")\n",
    "print(\"ACC: \" + str(fpt_classifier.best_acc))\n",
    "print(\"f1: \" + str(fpt_classifier.best_f1_score))\n",
    "print(\"\\n\")\n",
    "\n",
    "print(\"FSK CLASSIFIER INFO:\")\n",
    "print(\"ACC: \" + str(fsk_classifier.best_acc))\n",
    "print(\"f1: \" + str(fsk_classifier.best_f1_score))\n",
    "print(\"\\n\")\n"
   ]
  }
 ],
 "metadata": {
  "interpreter": {
   "hash": "8ed753961bdc37ee89b4275051722ceb8ec0b57b8793db9d189305c313070a7d"
  },
  "kernelspec": {
   "display_name": "Python 3.10.2 ('srrw')",
   "language": "python",
   "name": "python3"
  },
  "language_info": {
   "codemirror_mode": {
    "name": "ipython",
    "version": 3
   },
   "file_extension": ".py",
   "mimetype": "text/x-python",
   "name": "python",
   "nbconvert_exporter": "python",
   "pygments_lexer": "ipython3",
   "version": "3.10.2"
  },
  "orig_nbformat": 4
 },
 "nbformat": 4,
 "nbformat_minor": 2
}
