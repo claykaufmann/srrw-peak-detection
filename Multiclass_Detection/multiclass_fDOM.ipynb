{
 "cells": [
  {
   "cell_type": "markdown",
   "metadata": {},
   "source": [
    "# Multiclass Peak Detection in fDOM\n",
    "\n",
    "This file combines all of the fDOM detection scripts into a singular classifier, that detects all peak types. On top of this, it also leverages the augmented data created previously.\n",
    "\n",
    "## Structure\n",
    "\n",
    "The core structure of the project is to have all individual classifiers running, and then when one detects a peak, it alerts the overall classifier \"manager\", which then takes note of the peak that a classifier has detected as an anomaly peak.\n"
   ]
  },
  {
   "cell_type": "code",
   "execution_count": 1,
   "metadata": {},
   "outputs": [],
   "source": [
    "# Imports\n",
    "import scipy.io as sio\n",
    "from sklearn.model_selection import TimeSeriesSplit\n",
    "import seaborn as sn\n",
    "from sklearn.metrics import (\n",
    "    confusion_matrix,\n",
    "    accuracy_score,\n",
    "    balanced_accuracy_score,\n",
    "    f1_score,\n",
    "    precision_score,\n",
    "    classification_report,\n",
    ")\n",
    "import pandas as pd\n",
    "import numpy as np\n",
    "import datetime\n",
    "import sys\n",
    "import copy\n",
    "import matplotlib.pyplot as plt\n",
    "\n",
    "sys.path.insert(1, \"../\")\n",
    "import Tools.data_processing as dp\n",
    "import Tools.data_movement as dm\n",
    "from get_cands import get_all_cands_fDOM, get_all_truths_fDOM\n",
    "\n",
    "# import classifiers\n",
    "from fdom_classifiers.fDOM_PLP import fDOM_PLP_Classifier\n",
    "from fdom_classifiers.fDOM_FPT import fDOM_FPT_Classifier\n",
    "from fdom_classifiers.fDOM_FSK import fDOM_FSK_Classifier\n",
    "from fdom_classifiers.fDOM_PP import fDOM_PP_Classifier\n",
    "from fdom_classifiers.fDOM_SKP import fDOM_SKP_Classifier\n"
   ]
  },
  {
   "cell_type": "code",
   "execution_count": 2,
   "metadata": {},
   "outputs": [],
   "source": [
    "# TODO: REMOVE THIS WHEN FINISHED MODIFYING\n",
    "%load_ext autoreload\n",
    "%autoreload 2"
   ]
  },
  {
   "cell_type": "markdown",
   "metadata": {},
   "source": [
    "## Training parameters and helper functions\n"
   ]
  },
  {
   "cell_type": "code",
   "execution_count": 3,
   "metadata": {},
   "outputs": [],
   "source": [
    "ITERATIONS = 7000\n",
    "NUM_SPLITS = 5\n",
    "AUGMENT_DATA_BEGIN_TIMESTAMP = 2459096.9583333335\n",
    "USE_AUGMENTED_DATA = True\n",
    "\n",
    "# for confusion matrix\n",
    "DATA_LABELS = [\"PLP\", \"FPT\", \"FSK\", \"SKP\", \"PP\", \"NAP\"]\n",
    "\n",
    "# Useful functions\n",
    "def get_prediction(plp_pred, skp_pred=None, pp_pred=None, fsk_pred=None, fpt_pred=None):\n",
    "    \"\"\"\n",
    "    take the top level prediction based on peak precendence\n",
    "    \"\"\"\n",
    "    if plp_pred == \"PLP\":\n",
    "        return plp_pred\n",
    "\n",
    "    elif pp_pred == \"PP\":\n",
    "        return pp_pred\n",
    "\n",
    "    elif skp_pred == \"SKP\":\n",
    "        return skp_pred\n",
    "\n",
    "    elif fsk_pred == \"FSK\":\n",
    "        return fsk_pred\n",
    "        \n",
    "    elif fpt_pred == \"FPT\":\n",
    "        return fpt_pred\n",
    "\n",
    "    else:\n",
    "        return \"NAP\""
   ]
  },
  {
   "cell_type": "code",
   "execution_count": 4,
   "metadata": {},
   "outputs": [],
   "source": [
    "# Filenames\n",
    "fdom_raw_data = \"../Data/converted_data/julian_format/fDOM_raw_10.1.2011-9.4.2020.csv\"\n",
    "stage_raw_data = \"../Data/converted_data/julian_format/stage_10.1.11-1.1.19.csv\"\n",
    "turb_raw_data = \"../Data/converted_data/julian_format/turbidity_raw_10.1.2011_9.4.2020.csv\"\n",
    "\n",
    "fdom_labeled = \"../Data/labeled_data/ground_truths/fDOM/fDOM_all_julian_0k-300k.csv\"\n",
    "\n",
    "fdom_raw_augmented = \"../Data/augmented_data/fdom/unlabeled/unlabeled_fdom.csv\"\n",
    "fdom_labeled_augmented = \"../Data/augmented_data/fdom/labeled/labeled_fdom_peaks.csv\"\n",
    "\n",
    "turb_augmented_raw_data = \"../Data/augmented_data/fdom/unlabeled/unlabeled_turb.csv\"\n",
    "\n",
    "stage_augmented_data_fn = \"../Data/augmented_data/fdom/unlabeled/unlabeled_stage.csv\""
   ]
  },
  {
   "cell_type": "code",
   "execution_count": 5,
   "metadata": {},
   "outputs": [],
   "source": [
    "# Load Data\n",
    "fDOM_data = dm.read_in_preprocessed_timeseries(fdom_raw_data)\n",
    "stage_data = dm.read_in_preprocessed_timeseries(stage_raw_data)\n",
    "turb_data = dm.read_in_preprocessed_timeseries(turb_raw_data)\n",
    "stage_data = dp.align_stage_to_fDOM(fDOM_data, stage_data)\n",
    "\n",
    "augmented_fdom_data = np.array(dm.read_in_timeseries(fdom_raw_augmented, True))\n",
    "augmented_turb_data = np.array(dm.read_in_timeseries(turb_augmented_raw_data, True))\n",
    "augmented_stage_data = np.array(dm.read_in_timeseries(stage_augmented_data_fn, True))\n"
   ]
  },
  {
   "cell_type": "markdown",
   "metadata": {},
   "source": [
    "## Get Candidates and truths"
   ]
  },
  {
   "cell_type": "code",
   "execution_count": 6,
   "metadata": {},
   "outputs": [
    {
     "name": "stderr",
     "output_type": "stream",
     "text": [
      "/Users/claykaufmann/Projects/srrw-anomaly-detection/Multiclass_Detection/../Tools/get_candidates.py:221: PeakPropertyWarning: some peaks have a prominence of 0\n",
      "  peaks, props = find_peaks(\n",
      "/Users/claykaufmann/Projects/srrw-anomaly-detection/Multiclass_Detection/../Tools/get_candidates.py:335: PeakPropertyWarning: some peaks have a prominence of 0\n",
      "  peaks, props = find_peaks(\n"
     ]
    },
    {
     "name": "stdout",
     "output_type": "stream",
     "text": [
      "(1636, 4)\n"
     ]
    }
   ],
   "source": [
    "# get candidates from raw data\n",
    "cands = get_all_cands_fDOM(\n",
    "    fdom_raw_data,\n",
    "    fdom_labeled,\n",
    ")\n",
    "\n",
    "# get truths from raw data\n",
    "truths = get_all_truths_fDOM(fdom_labeled)\n",
    "\n",
    "print(truths.shape)\n",
    "\n",
    "# assert they are the same size\n",
    "assert truths.shape == cands.shape\n"
   ]
  },
  {
   "cell_type": "markdown",
   "metadata": {},
   "source": [
    "### Augmented Data\n",
    "Make sure that `USE_AUGMENTED_DATA` == `True`, for this data to take effect"
   ]
  },
  {
   "cell_type": "code",
   "execution_count": 7,
   "metadata": {},
   "outputs": [
    {
     "name": "stdout",
     "output_type": "stream",
     "text": [
      "(676, 4)\n",
      "(676, 4)\n"
     ]
    }
   ],
   "source": [
    "if USE_AUGMENTED_DATA:\n",
    "    # get candidates from augmented data\n",
    "    cands_augmented = get_all_cands_fDOM(\n",
    "        fdom_raw_augmented,\n",
    "        fdom_labeled_augmented,\n",
    "        True,\n",
    "    )\n",
    "\n",
    "    truths_augmented = get_all_truths_fDOM(fdom_labeled_augmented, True)\n",
    "\n",
    "    # align the missing augmented data (FPT, NFPT, FSK, NFSK, some others)\n",
    "    truths_augmented = truths_augmented[\n",
    "        truths_augmented[\"idx_of_peak\"].isin(cands_augmented[\"idx_of_peak\"])\n",
    "    ]\n",
    "\n",
    "    assert truths_augmented.shape == cands_augmented.shape\n",
    "\n",
    "    print(f\"Total number of augmented candidates: {cands.shape[0]}\")\n",
    "\n",
    "    # concatenate two candidates and truths into single list\n",
    "    cands = pd.concat([cands, cands_augmented])\n",
    "    truths = pd.concat([truths, truths_augmented])\n",
    "\n",
    "    # concat augmented raw data to normal raw data, for classifier preprocessing\n",
    "    turb_data_total = np.concatenate((turb_data, augmented_turb_data))\n",
    "    fdom_total = np.concatenate((fDOM_data, augmented_fdom_data))\n",
    "    stage_total = np.concatenate((stage_data, augmented_stage_data))\n",
    "\n",
    "# if we aren't using augmented data, make sure classifiers have correct data being passed into them for preprocessing\n",
    "else:\n",
    "    turb_data_total = turb_data\n",
    "    fdom_total = fDOM_data\n",
    "    stage_total = stage_data\n"
   ]
  },
  {
   "cell_type": "code",
   "execution_count": 9,
   "metadata": {},
   "outputs": [
    {
     "name": "stdout",
     "output_type": "stream",
     "text": [
      "2312 candidates in provided data.\n"
     ]
    }
   ],
   "source": [
    "# Convert cands and truths into lists\n",
    "cands = cands.values.tolist()\n",
    "\n",
    "truths = truths.values.tolist()\n",
    "\n",
    "print(str(len(cands)) + \" candidates in provided data.\")"
   ]
  },
  {
   "cell_type": "markdown",
   "metadata": {},
   "source": [
    "## Create Classifiers\n"
   ]
  },
  {
   "cell_type": "code",
   "execution_count": 10,
   "metadata": {},
   "outputs": [
    {
     "name": "stderr",
     "output_type": "stream",
     "text": [
      "/Users/claykaufmann/Projects/srrw-anomaly-detection/Multiclass_Detection/../Tools/get_candidates.py:221: PeakPropertyWarning: some peaks have a prominence of 0\n",
      "  peaks, props = find_peaks(\n",
      "/Users/claykaufmann/Projects/srrw-anomaly-detection/Multiclass_Detection/../Tools/get_candidates.py:335: PeakPropertyWarning: some peaks have a prominence of 0\n",
      "  peaks, props = find_peaks(\n"
     ]
    }
   ],
   "source": [
    "plp_classifer = fDOM_PLP_Classifier(\n",
    "    fDOM_data,\n",
    "    turb_data_total,\n",
    "    fdom_raw_data,\n",
    "    fdom_labeled,\n",
    "    fdom_raw_augmented,\n",
    "    fdom_labeled_augmented\n",
    ")\n"
   ]
  },
  {
   "cell_type": "code",
   "execution_count": 11,
   "metadata": {},
   "outputs": [
    {
     "name": "stderr",
     "output_type": "stream",
     "text": [
      "/Users/claykaufmann/Projects/srrw-anomaly-detection/Multiclass_Detection/../Tools/get_candidates.py:221: PeakPropertyWarning: some peaks have a prominence of 0\n",
      "  peaks, props = find_peaks(\n",
      "/Users/claykaufmann/Projects/srrw-anomaly-detection/Multiclass_Detection/../Tools/get_candidates.py:335: PeakPropertyWarning: some peaks have a prominence of 0\n",
      "  peaks, props = find_peaks(\n",
      "/Users/claykaufmann/Projects/srrw-anomaly-detection/Multiclass_Detection/fdom_classifiers/fDOM_SKP.py:257: PeakPropertyWarning: some peaks have a prominence of 0\n",
      "  downward_peaks, _ = find_peaks(\n"
     ]
    }
   ],
   "source": [
    "skp_classifier = fDOM_SKP_Classifier(\n",
    "    fdom_total,\n",
    "    fdom_raw_data,\n",
    "    fdom_labeled,\n",
    "    fdom_raw_augmented,\n",
    "    fdom_labeled_augmented\n",
    ")"
   ]
  },
  {
   "cell_type": "code",
   "execution_count": 12,
   "metadata": {},
   "outputs": [],
   "source": [
    "pp_classifier = fDOM_PP_Classifier(\n",
    "    fdom_total,\n",
    "    stage_total, # CHANGED TO BE ENTURE STAGE, this could help\n",
    "    AUGMENT_DATA_BEGIN_TIMESTAMP\n",
    ")"
   ]
  },
  {
   "cell_type": "code",
   "execution_count": 13,
   "metadata": {},
   "outputs": [],
   "source": [
    "# fpt_classifier = fDOM_FPT_Classifier()"
   ]
  },
  {
   "cell_type": "code",
   "execution_count": 14,
   "metadata": {},
   "outputs": [],
   "source": [
    "# fsK_classifier = fDOM_FSK_Classifier()"
   ]
  },
  {
   "cell_type": "markdown",
   "metadata": {},
   "source": [
    "## Training Loop"
   ]
  },
  {
   "cell_type": "code",
   "execution_count": 15,
   "metadata": {},
   "outputs": [
    {
     "name": "stdout",
     "output_type": "stream",
     "text": [
      "\n",
      "Split:  1\n",
      "Num Pos in Test: 21\n",
      "Num Pos in Train: 33\n",
      " 700/7000  1400/7000  2100/7000  2800/7000  3500/7000  4200/7000  4900/7000  5600/7000  6300/7000 PLP CLASSIFIED IN TESTING\n",
      "PLP CLASSIFIED IN TESTING\n",
      "PLP CLASSIFIED IN TESTING\n",
      "PP CLASSIFIED IN TESTING\n",
      "PLP CLASSIFIED IN TESTING\n",
      "PP CLASSIFIED IN TESTING\n",
      "PP CLASSIFIED IN TESTING\n",
      "PP CLASSIFIED IN TESTING\n",
      "PP CLASSIFIED IN TESTING\n",
      "PLP CLASSIFIED IN TESTING\n",
      "\n",
      "Split: 1  F1: 0.9246753246753247  BA: 0.1956043956043956  ACC: 0.9246753246753247\n",
      "{'f1': 0.9246753246753247, 'acc': 0.9246753246753247, 'ba': 0.1956043956043956, 'precision': 0.9246753246753247}\n",
      "\n",
      "Split:  2\n",
      "Num Pos in Test: 23\n",
      "Num Pos in Train: 54\n",
      " 700/7000  1400/7000  2100/7000  2800/7000  3500/7000  4200/7000  4900/7000  5600/7000  6300/7000 PLP CLASSIFIED IN TESTING\n",
      "PLP CLASSIFIED IN TESTING\n",
      "PP CLASSIFIED IN TESTING\n",
      "PP CLASSIFIED IN TESTING\n",
      "PP CLASSIFIED IN TESTING\n",
      "PP CLASSIFIED IN TESTING\n",
      "PP CLASSIFIED IN TESTING\n",
      "PLP CLASSIFIED IN TESTING\n",
      "PP CLASSIFIED IN TESTING\n",
      "PLP CLASSIFIED IN TESTING\n",
      "PLP CLASSIFIED IN TESTING\n",
      "PP CLASSIFIED IN TESTING\n",
      "\n",
      "Split: 2  F1: 0.935064935064935  BA: 0.2706554495228528  ACC: 0.935064935064935\n",
      "{'f1': 0.935064935064935, 'acc': 0.935064935064935, 'ba': 0.2706554495228528, 'precision': 0.935064935064935}\n",
      "\n",
      "Split:  3\n",
      "Num Pos in Test: 37\n",
      "Num Pos in Train: 77\n",
      " 700/7000  1400/7000  2100/7000  2800/7000  3500/7000  4200/7000  4900/7000  5600/7000  6300/7000 PLP CLASSIFIED IN TESTING\n",
      "PLP CLASSIFIED IN TESTING\n",
      "PP CLASSIFIED IN TESTING\n",
      "PLP CLASSIFIED IN TESTING\n",
      "PLP CLASSIFIED IN TESTING\n",
      "PLP CLASSIFIED IN TESTING\n",
      "PLP CLASSIFIED IN TESTING\n",
      "PP CLASSIFIED IN TESTING\n",
      "PLP CLASSIFIED IN TESTING\n",
      "PLP CLASSIFIED IN TESTING\n",
      "PLP CLASSIFIED IN TESTING\n",
      "PP CLASSIFIED IN TESTING\n",
      "PLP CLASSIFIED IN TESTING\n",
      "PLP CLASSIFIED IN TESTING\n",
      "PP CLASSIFIED IN TESTING\n",
      "PP CLASSIFIED IN TESTING\n",
      "PLP CLASSIFIED IN TESTING\n",
      "PLP CLASSIFIED IN TESTING\n",
      "PP CLASSIFIED IN TESTING\n",
      "\n",
      "Split: 3  F1: 0.8623376623376623  BA: 0.1908045977011494  ACC: 0.8623376623376623\n",
      "{'f1': 0.8623376623376623, 'acc': 0.8623376623376623, 'ba': 0.1908045977011494, 'precision': 0.8623376623376623}\n",
      "\n",
      "Split:  4\n",
      "Num Pos in Test: 155\n",
      "Num Pos in Train: 114\n",
      " 700/7000  1400/7000  2100/7000  2800/7000  3500/7000  4200/7000  4900/7000  5600/7000  6300/7000 PP CLASSIFIED IN TESTING\n",
      "PP CLASSIFIED IN TESTING\n",
      "PP CLASSIFIED IN TESTING\n",
      "PP CLASSIFIED IN TESTING\n",
      "PLP CLASSIFIED IN TESTING\n",
      "PP CLASSIFIED IN TESTING\n",
      "PP CLASSIFIED IN TESTING\n",
      "PP CLASSIFIED IN TESTING\n",
      "PLP CLASSIFIED IN TESTING\n",
      "PP CLASSIFIED IN TESTING\n",
      "PLP CLASSIFIED IN TESTING\n",
      "PLP CLASSIFIED IN TESTING\n",
      "PP CLASSIFIED IN TESTING\n",
      "PLP CLASSIFIED IN TESTING\n",
      "PLP CLASSIFIED IN TESTING\n",
      "PP CLASSIFIED IN TESTING\n",
      "PP CLASSIFIED IN TESTING\n",
      "PP CLASSIFIED IN TESTING\n",
      "PLP CLASSIFIED IN TESTING\n",
      "PP CLASSIFIED IN TESTING\n",
      "PLP CLASSIFIED IN TESTING\n",
      "PLP CLASSIFIED IN TESTING\n",
      "PP CLASSIFIED IN TESTING\n",
      "PP CLASSIFIED IN TESTING\n",
      "PLP CLASSIFIED IN TESTING\n",
      "PLP CLASSIFIED IN TESTING\n",
      "PLP CLASSIFIED IN TESTING\n",
      "\n",
      "Split: 4  F1: 0.6025974025974026  BA: 0.26635490394337713  ACC: 0.6025974025974026\n",
      "{'f1': 0.6025974025974026, 'acc': 0.6025974025974026, 'ba': 0.26635490394337713, 'precision': 0.6025974025974026}\n",
      "\n",
      "Split:  5\n",
      "Num Pos in Test: 204\n",
      "Num Pos in Train: 269\n",
      " 700/7000  1400/7000  2100/7000  2800/7000  3500/7000  4200/7000  4900/7000  5600/7000  6300/7000 PLP CLASSIFIED IN TESTING\n",
      "PLP CLASSIFIED IN TESTING\n",
      "PP CLASSIFIED IN TESTING\n",
      "PP CLASSIFIED IN TESTING\n",
      "PLP CLASSIFIED IN TESTING\n",
      "PP CLASSIFIED IN TESTING\n",
      "PP CLASSIFIED IN TESTING\n",
      "PLP CLASSIFIED IN TESTING\n",
      "PP CLASSIFIED IN TESTING\n",
      "PLP CLASSIFIED IN TESTING\n",
      "PLP CLASSIFIED IN TESTING\n",
      "PP CLASSIFIED IN TESTING\n",
      "PP CLASSIFIED IN TESTING\n",
      "PP CLASSIFIED IN TESTING\n",
      "PP CLASSIFIED IN TESTING\n",
      "PP CLASSIFIED IN TESTING\n",
      "PP CLASSIFIED IN TESTING\n",
      "PLP CLASSIFIED IN TESTING\n",
      "PLP CLASSIFIED IN TESTING\n",
      "PP CLASSIFIED IN TESTING\n",
      "PP CLASSIFIED IN TESTING\n",
      "PLP CLASSIFIED IN TESTING\n",
      "PLP CLASSIFIED IN TESTING\n",
      "PP CLASSIFIED IN TESTING\n",
      "PP CLASSIFIED IN TESTING\n",
      "PLP CLASSIFIED IN TESTING\n",
      "PP CLASSIFIED IN TESTING\n",
      "PLP CLASSIFIED IN TESTING\n",
      "PLP CLASSIFIED IN TESTING\n",
      "PP CLASSIFIED IN TESTING\n",
      "PP CLASSIFIED IN TESTING\n",
      "PP CLASSIFIED IN TESTING\n",
      "PLP CLASSIFIED IN TESTING\n",
      "\n",
      "Split: 5  F1: 0.4753246753246753  BA: 0.2604166666666667  ACC: 0.4753246753246753\n",
      "{'f1': 0.4753246753246753, 'acc': 0.4753246753246753, 'ba': 0.2604166666666667, 'precision': 0.4753246753246753}\n",
      "\n",
      "\n"
     ]
    }
   ],
   "source": [
    "accumulated_test_metrics = {}\n",
    "\n",
    "accumulated_test_results = {}\n",
    "\n",
    "accumulated_best_params = {}\n",
    "\n",
    "accumulated_cfmxs = {}\n",
    "\n",
    "best_params = {}\n",
    "\n",
    "# split data\n",
    "train_test_split_indices = TimeSeriesSplit(NUM_SPLITS).split(cands)\n",
    "\n",
    "overall_start = datetime.datetime.now()\n",
    "\n",
    "split = 1\n",
    "divide_by_zero_errs = 0\n",
    "\n",
    "for train_val_indices, test_indices in train_test_split_indices:\n",
    "    X_train, y_train = [cands[i] for i in train_val_indices], [\n",
    "        truths[i] for i in train_val_indices\n",
    "    ]\n",
    "\n",
    "    X_test, y_test = [cands[i] for i in test_indices], [truths[i] for i in test_indices]\n",
    "\n",
    "    max_fold_metric = 0\n",
    "    max_result = None\n",
    "\n",
    "    print(\"\\nSplit: \", split)\n",
    "\n",
    "    split_start = datetime.datetime.now()\n",
    "\n",
    "    # TODO: check on these two lines, unsure what they really do\n",
    "    num_pos_test = len(list(filter(lambda x: x[2] != \"NAP\", y_test)))\n",
    "    num_pos_train = len(list(filter(lambda x: x[2] != \"NAP\", y_train)))\n",
    "\n",
    "    print(f\"Num Pos in Test: {num_pos_test}\")\n",
    "    print(f\"Num Pos in Train: {num_pos_train}\")\n",
    "\n",
    "    if num_pos_test >= 1 and num_pos_train >= 1:\n",
    "\n",
    "        # main training loop\n",
    "        for iteration in range(ITERATIONS):\n",
    "            # start the iteration for each classifier (resets predictions, generates params)\n",
    "            plp_classifer.start_iteration()\n",
    "            skp_classifier.start_iteration()\n",
    "            pp_classifier.start_iteration()\n",
    "\n",
    "            # reset results\n",
    "            train_preds = []\n",
    "\n",
    "            # iterate over list of peaks\n",
    "            for i, peak in enumerate(X_train):\n",
    "                plp_result = plp_classifer.classify_sample(i, peak)\n",
    "                skp_result = skp_classifier.classify_sample(i, peak)\n",
    "                pp_result = pp_classifier.classify_sample(i, peak)\n",
    "\n",
    "                # append to results data structure, the index of peak, and all of the results\n",
    "                pred = get_prediction(plp_result, skp_result, pp_result)\n",
    "                train_preds.append([peak[0], pred])\n",
    "\n",
    "            # print out info for user\n",
    "            if iteration and iteration % int(ITERATIONS / 10) == 0:\n",
    "                print(\" {}/{} \".format(iteration, ITERATIONS), end=\"\")\n",
    "\n",
    "            # test predictions\n",
    "            # FIXME: the balanced acc is extremely low for some reason\n",
    "            bal_acc = balanced_accuracy_score(\n",
    "                [row[2] for row in y_train],\n",
    "                [row[1] for row in train_preds],\n",
    "            )\n",
    "\n",
    "            acc = accuracy_score(\n",
    "                [row[2] for row in y_train],\n",
    "                [row[1] for row in train_preds],\n",
    "            )\n",
    "\n",
    "            # check acc\n",
    "            if bal_acc > max_fold_metric:\n",
    "                max_fold_metric = acc\n",
    "                max_result = copy.deepcopy(train_preds)\n",
    "\n",
    "                # save params of classifiers\n",
    "                plp_classifer.got_best_result()\n",
    "                skp_classifier.got_best_result()\n",
    "                pp_classifier.got_best_results()\n",
    "\n",
    "                # save the best params\n",
    "                best_params[\"PLP\"] = plp_classifer.best_params\n",
    "                best_params[\"SKP\"] = skp_classifier.best_params\n",
    "                best_params[\"PP\"] = pp_classifier.best_params\n",
    "\n",
    "\n",
    "            # call end of iteration, as we are at the end of an iteration\n",
    "            # allows individual classifiers to calc results\n",
    "            plp_classifer.end_of_iteration(y_train)\n",
    "            skp_classifier.end_of_iteration(y_train)\n",
    "            pp_classifier.end_of_iteration(y_train)\n",
    "\n",
    "        # perform peak testing\n",
    "        test_preds = []\n",
    "\n",
    "        for i, peak in enumerate(X_test):\n",
    "            # classify all samples\n",
    "            plp_result = plp_classifer.classify_sample(i, peak, True)\n",
    "            skp_result = skp_classifier.classify_sample(i, peak, True)\n",
    "            pp_result = pp_classifier.classify_sample(i, peak, True)\n",
    "\n",
    "            # if any samples are anomaly peak, we need to use them\n",
    "            pred = get_prediction(plp_result, skp_result, pp_result)\n",
    "\n",
    "            # append to results data structure, the index of peak, and the prediction\n",
    "            test_preds.append([peak[0], pred])\n",
    "\n",
    "        # get confusion matrix\n",
    "        cfmx = confusion_matrix(\n",
    "            [row[2] for row in y_test],\n",
    "            [row[1] for row in test_preds],\n",
    "            labels=DATA_LABELS,\n",
    "        )\n",
    "\n",
    "        # get acc score\n",
    "        acc_score = accuracy_score(\n",
    "            [row[2] for row in y_test],\n",
    "            [row[1] for row in test_preds],\n",
    "        )\n",
    "\n",
    "        bal_acc = balanced_accuracy_score(\n",
    "            [row[2] for row in y_test],\n",
    "            [row[1] for row in test_preds],\n",
    "        )\n",
    "\n",
    "        f1 = f1_score(\n",
    "            [row[2] for row in y_test],\n",
    "            [row[1] for row in test_preds],\n",
    "            average='micro' # TODO: ensure this is the right one to use\n",
    "        )\n",
    "\n",
    "        precision = precision_score(\n",
    "            [row[2] for row in y_test],\n",
    "            [row[1] for row in test_preds],\n",
    "            average='micro' # TODO: ensure this is the right one to use\n",
    "        )\n",
    "\n",
    "        print(f\"\\nSplit: {split}  F1: {f1}  BA: {bal_acc}  ACC: {acc_score}\")\n",
    "\n",
    "\n",
    "        accumulated_cfmxs[split] = copy.deepcopy(cfmx)\n",
    "\n",
    "        accumulated_test_metrics[split] = {\n",
    "            \"f1\": f1,\n",
    "            \"acc\": acc_score,\n",
    "            \"ba\": bal_acc,\n",
    "            \"precision\": precision,\n",
    "        }\n",
    "\n",
    "        accumulated_test_results[split] = copy.deepcopy(test_preds)\n",
    "\n",
    "        # TODO: modify this to work correctly\n",
    "        accumulated_best_params = \"\"\n",
    "\n",
    "        print(accumulated_test_metrics[split])\n",
    "\n",
    "        # increment split\n",
    "        split += 1\n",
    "\n",
    "# print a newline char for better display\n",
    "print(\"\\n\")\n",
    "\n",
    "overall_end_time = datetime.datetime.now()"
   ]
  },
  {
   "cell_type": "markdown",
   "metadata": {},
   "source": [
    "## Display Metrics\n"
   ]
  },
  {
   "cell_type": "code",
   "execution_count": 24,
   "metadata": {},
   "outputs": [
    {
     "name": "stdout",
     "output_type": "stream",
     "text": [
      "Mean Test F1:  0.76\n",
      "Mean Test BA:  0.2367672026876883\n",
      "Mean Test Acc:  0.76\n",
      "Mean Test Precision:  0.76\n",
      "Training time:  0:15:10.830045\n"
     ]
    },
    {
     "data": {
      "image/png": "[encoded data removed]",
      "text/plain": [
       "<Figure size 720x504 with 2 Axes>"
      ]
     },
     "metadata": {},
     "output_type": "display_data"
    },
    {
     "data": {
      "image/png": "[encoded data removed]",
      "text/plain": [
       "<Figure size 720x504 with 2 Axes>"
      ]
     },
     "metadata": {},
     "output_type": "display_data"
    }
   ],
   "source": [
    "mean_f1 = 0\n",
    "mean_ba = 0\n",
    "mean_precision = 0\n",
    "mean_acc = 0\n",
    "\n",
    "for key in accumulated_test_metrics:\n",
    "    metrics = accumulated_test_metrics[key]\n",
    "\n",
    "    mean_f1 += metrics[\"f1\"]\n",
    "    mean_ba += metrics[\"ba\"]\n",
    "    mean_precision += metrics[\"precision\"]\n",
    "    mean_acc += metrics[\"acc\"]\n",
    "\n",
    "print(\"Mean Test F1: \", mean_f1 / len(accumulated_test_metrics))\n",
    "print(\"Mean Test BA: \", mean_ba / len(accumulated_test_metrics))\n",
    "print(\"Mean Test Acc: \", mean_acc / len(accumulated_test_metrics))\n",
    "print(\"Mean Test Precision: \", mean_precision / len(accumulated_test_metrics))\n",
    "\n",
    "print(\"Training time: \", overall_end_time - overall_start)\n",
    "\n",
    "mean_cfmx = np.zeros((6, 6))\n",
    "for key in accumulated_cfmxs.keys():\n",
    "    mean_cfmx += accumulated_cfmxs[key]\n",
    "\n",
    "mean_cfmx = mean_cfmx / len(accumulated_cfmxs)\n",
    "\n",
    "plt.figure(figsize=(10, 7))\n",
    "plt.title(label=\"fDOM Peak Detection Average Confusion Matrix\")\n",
    "\n",
    "sn.set(font_scale=1.5)\n",
    "\n",
    "sn.heatmap(\n",
    "    pd.DataFrame(\n",
    "        mean_cfmx.astype(\"float\") / mean_cfmx.sum(axis=1)[:, np.newaxis],\n",
    "        index=DATA_LABELS,\n",
    "        columns=DATA_LABELS,\n",
    "    ),\n",
    "    annot=True,\n",
    "    annot_kws={\"size\": 16},\n",
    ")\n",
    "\n",
    "plt.xlabel(\"Ground Truths\")\n",
    "plt.ylabel(\"Predictions\")\n",
    "plt.show()\n",
    "\n",
    "plt.figure(figsize=(10, 7))\n",
    "plt.title(label=\"fDOM Peak Detection Confusion Matrix\")\n",
    "\n",
    "sn.set(font_scale=1.5)\n",
    "\n",
    "sn.heatmap(\n",
    "    pd.DataFrame(\n",
    "        mean_cfmx,\n",
    "        index=DATA_LABELS,\n",
    "        columns=DATA_LABELS,\n",
    "    ),\n",
    "    annot=True,\n",
    "    annot_kws={\"size\": 16},\n",
    ")\n",
    "\n",
    "plt.xlabel(\"Ground Truths\")\n",
    "plt.ylabel(\"Predictions\")\n",
    "plt.show()\n"
   ]
  },
  {
   "cell_type": "code",
   "execution_count": 17,
   "metadata": {},
   "outputs": [],
   "source": [
    "# Pickle statistics"
   ]
  },
  {
   "cell_type": "markdown",
   "metadata": {},
   "source": [
    "### Statistics from individual classifiers"
   ]
  },
  {
   "cell_type": "code",
   "execution_count": 23,
   "metadata": {},
   "outputs": [
    {
     "name": "stdout",
     "output_type": "stream",
     "text": [
      "PLP CLASSIFIER INFO:\n",
      "ACC: 0.6846560846560846\n",
      "f1: 0.4827586206896552\n",
      "\n",
      "\n",
      "SKP CLASSIFIER INFO:\n",
      "ACC: 0.6925865800865801\n",
      "f1: 0.41545893719806765\n",
      "\n",
      "\n",
      "PP CLASSIFIER INFO:\n",
      "ACC: 0.6568783068783068\n",
      "f1: 0.357429718875502\n",
      "\n",
      "\n"
     ]
    }
   ],
   "source": [
    "# print accuracies\n",
    "print(\"PLP CLASSIFIER INFO:\")\n",
    "print(\"ACC: \" + str(plp_classifer.best_acc))\n",
    "print(\"f1: \" + str(plp_classifer.best_f1_score))\n",
    "print(\"\\n\")\n",
    "\n",
    "print(\"SKP CLASSIFIER INFO:\")\n",
    "print(\"ACC: \" + str(skp_classifier.best_acc))\n",
    "print(\"f1: \" + str(skp_classifier.best_f1_score))\n",
    "print(\"\\n\")\n",
    "\n",
    "print(\"PP CLASSIFIER INFO:\")\n",
    "print(\"ACC: \" + str(pp_classifier.best_acc))\n",
    "print(\"f1: \" + str(pp_classifier.best_f1_score))\n",
    "print(\"\\n\")\n"
   ]
  }
 ],
 "metadata": {
  "interpreter": {
   "hash": "8ed753961bdc37ee89b4275051722ceb8ec0b57b8793db9d189305c313070a7d"
  },
  "kernelspec": {
   "display_name": "Python 3.10.2 ('srrw')",
   "language": "python",
   "name": "python3"
  },
  "language_info": {
   "codemirror_mode": {
    "name": "ipython",
    "version": 3
   },
   "file_extension": ".py",
   "mimetype": "text/x-python",
   "name": "python",
   "nbconvert_exporter": "python",
   "pygments_lexer": "ipython3",
   "version": "3.10.2"
  },
  "orig_nbformat": 4
 },
 "nbformat": 4,
 "nbformat_minor": 2
}
