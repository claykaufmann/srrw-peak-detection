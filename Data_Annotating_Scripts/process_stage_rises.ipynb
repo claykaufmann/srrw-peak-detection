{
 "cells": [
  {
   "cell_type": "code",
   "execution_count": 1,
   "id": "afc1a46c-2bbc-423c-baa7-3931a9b4d892",
   "metadata": {},
   "outputs": [],
   "source": [
    "# Read in data \n",
    "import datetime\n",
    "import csv\n",
    "import dateutil.parser\n",
    "\n",
    "file1 = \"/Users/zachfogg/Desktop/Stage_rise_labeling/stage_rise_0-100k-well_labeled.csv\"\n",
    "file2 = \"/Users/zachfogg/Desktop/Stage_rise_labeling/stage_rise_100-200k-well_labeled.csv\"\n",
    "file3 = \"/Users/zachfogg/Desktop/Stage_rise_labeling/stage_rise_200-300k-well_labeled.csv\"\n",
    "\n",
    "with open(file1, newline = '' ) as f1, open(file2, newline = '') as f2, open(file3, newline = '') as f3:\n",
    "    reader = csv.reader(f1,delimiter = ',')\n",
    "    reader2 = csv.reader(f2,delimiter = ',')\n",
    "    reader3 = csv.reader(f3, delimiter = ',')\n",
    "    next(reader, None)\n",
    "    next(reader2, None)\n",
    "    next(reader3, None)\n",
    "    \n",
    "    data = []\n",
    "    \n",
    "    for i,row in enumerate(reader):\n",
    "        if i%3 == 1:\n",
    "            data.append([dateutil.parser.isoparse(row[1][:-5]),float(row[2])])\n",
    "    for i,row in enumerate(reader2):\n",
    "        if i%3 == 1 and row[3] == 'label_1':\n",
    "            data.append([dateutil.parser.isoparse(row[1][:-5]),float(row[2])])\n",
    "    for i,row in enumerate(reader3):\n",
    "        if i%3 == 1 and row[3] == 'label_1':\n",
    "            data.append([dateutil.parser.isoparse(row[1][:-5]),float(row[2])])\n",
    "\n",
    "    f1.close()\n",
    "    f2.close()\n",
    "    f3.close()"
   ]
  },
  {
   "cell_type": "code",
   "execution_count": 56,
   "id": "51423fb6-17a5-4f2e-ae94-9c116326edef",
   "metadata": {},
   "outputs": [
    {
     "name": "stdout",
     "output_type": "stream",
     "text": [
      "2012-04-26 22:30:00  ,  2012-04-27 00:15:00\n",
      "2012-05-01 04:30:00  ,  2012-05-01 08:30:00\n",
      "2012-05-04 01:15:00  ,  2012-05-04 02:00:00\n",
      "2012-05-04 09:30:00  ,  2012-05-04 09:45:00\n",
      "2012-05-08 07:15:00  ,  2012-05-08 11:00:00\n",
      "2012-05-08 13:15:00  ,  2012-05-08 16:15:00\n",
      "2012-05-09 10:45:00  ,  2012-05-09 11:30:00\n",
      "2012-05-10 06:45:00  ,  2012-05-10 08:00:00\n",
      "2012-05-15 07:45:00  ,  2012-05-15 08:30:00\n",
      "2012-05-15 11:15:00  ,  2012-05-15 13:45:00\n"
     ]
    }
   ],
   "source": [
    "# delta30 = datetime.timedelta(minutes=30)\n",
    "\n",
    "# for i in range(len(data)-1):\n",
    "#     if data[i][0] + delta30 == data[i+1][0]:\n",
    "#         print(data[i][0], \"  \", data[i+1][0])\n",
    "\n",
    "for i in range(10):\n",
    "    print(starts[i][0], \" , \",ends[i][0])"
   ]
  },
  {
   "cell_type": "code",
   "execution_count": 2,
   "id": "a9ad4443-44cf-4bc1-8ecf-64758b1659a3",
   "metadata": {},
   "outputs": [],
   "source": [
    "# Determine start and end of each rise \n",
    "delta15 = datetime.timedelta(minutes=15)\n",
    "\n",
    "starts = []\n",
    "ends = []\n",
    "\n",
    "starts.append(data[0])\n",
    "for i in range(1,len(data)-1):\n",
    "    # If time is more than 15 min from previous, then start\n",
    "    if data[i-1][0] + delta15 < data[i][0]:\n",
    "        starts.append(data[i])\n",
    "    elif data[i+1][0] - delta15 > data[i][0]:\n",
    "        ends.append(data[i])\n",
    "ends.append(data[-1])\n",
    "\n",
    "# Verify \n",
    "if len(starts) != len(ends):\n",
    "    print(len(starts), \" \", len(ends))"
   ]
  },
  {
   "cell_type": "code",
   "execution_count": 3,
   "id": "f819deeb-6f2a-457c-af13-9aa16d490497",
   "metadata": {},
   "outputs": [],
   "source": [
    "# Write out data to file: start_time, end_time  <-- julian time \n",
    "out_f = \"/Users/zachfogg/Desktop/DB-SRRW/Data/manual_annotating_data/processed_data/stage_rises_0k-300k.csv\"\n",
    "with open(out_f,\"w\", newline = \"\") as out_file:\n",
    "    writer = csv.writer(out_file)\n",
    "    for i in range(len(starts)):\n",
    "        writer.writerow([starts[i][0],ends[i][0]])\n",
    "    out_file.close()"
   ]
  },
  {
   "cell_type": "code",
   "execution_count": 30,
   "id": "8124f34b-0660-4aef-b16c-ef460bf9050e",
   "metadata": {},
   "outputs": [],
   "source": []
  }
 ],
 "metadata": {
  "kernelspec": {
   "display_name": "Python 3 (ipykernel)",
   "language": "python",
   "name": "python3"
  },
  "language_info": {
   "codemirror_mode": {
    "name": "ipython",
    "version": 3
   },
   "file_extension": ".py",
   "mimetype": "text/x-python",
   "name": "python",
   "nbconvert_exporter": "python",
   "pygments_lexer": "ipython3",
   "version": "3.9.6"
  }
 },
 "nbformat": 4,
 "nbformat_minor": 5
}
