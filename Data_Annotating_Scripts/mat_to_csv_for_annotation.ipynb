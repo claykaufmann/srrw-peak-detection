{
 "cells": [
  {
   "cell_type": "code",
   "execution_count": 1,
   "id": "b5d0369d-5d07-481e-bb27-01cf21bb4919",
   "metadata": {},
   "outputs": [],
   "source": [
    "import scipy.io as sio\n",
    "import datetime\n",
    "import csv"
   ]
  },
  {
   "cell_type": "code",
   "execution_count": 11,
   "id": "ee248e73-cd13-43b0-8b74-4957bc796a1e",
   "metadata": {},
   "outputs": [],
   "source": [
    "# Formatted, unlabeled data. Formatted to be compatible with TrainSet tool. \n",
    "fDOM_fname = '../Data/data_annotating/non_formatted/fDOM_raw_10.1.12-7.13.20.txt' # 271008 entries\n",
    "turb_fname = '../Data/data_annotating/non_formatted/turb_10.1.12-7.13.20.txt' # \n",
    "stage_fname = '../Data/data_annotating/non_formatted/stage_10.1.12-7.13.20.txt' # 272883\n",
    "fDOM_cor_fname = '../Data/data_annotating/non_formatted/fDOM_corrected_10.1.12-7.13.20.txt'"
   ]
  },
  {
   "cell_type": "code",
   "execution_count": null,
   "id": "e1417604-eeac-4002-bc3b-87102ec042c3",
   "metadata": {},
   "outputs": [],
   "source": []
  },
  {
   "cell_type": "code",
   "execution_count": 12,
   "id": "0bcad417-0a91-46b8-b719-b7a088a7ad49",
   "metadata": {},
   "outputs": [],
   "source": [
    "# Read in and preprocess data: Convert timestamps to datetime objects and values to floats\n",
    "with open(fDOM_fname, newline ='') as fDOM_file, open(turb_fname, newline ='') as turb_file, open(stage_fname, newline='') as stage_file:\n",
    "    fDOM_reader = csv.reader(fDOM_file,delimiter = ',')\n",
    "    stage_reader = csv.reader(stage_file,delimiter = ',')\n",
    "    # Preprocess data to adjust entries that are one second off\n",
    "    count = 0\n",
    "    stage_data = []\n",
    "    for row in stage_reader:\n",
    "        try:\n",
    "            time = datetime.datetime.strptime(row[0],'%d-%b-%Y %H:%M:%S')\n",
    "        except: # Date was in a second format\n",
    "            time = datetime.datetime.strptime(row[0],'%d-%b-%Y')\n",
    "        if time.second != 0:\n",
    "            time_delta = datetime.timedelta(seconds=1)\n",
    "            time = time + time_delta\n",
    "        if time.minute not in [0,15,30,45]:\n",
    "            print('Minute: {} at i = {}'.format(time.minute, count))\n",
    "        count +=1\n",
    "        stage_data.append([time, (\"%.17f\" % float(row[1])).rstrip('0').rstrip('.')])\n",
    "\n",
    "    count = 0 \n",
    "    fDOM_data = []\n",
    "    \n",
    "    for row in fDOM_reader:\n",
    "        try:\n",
    "            time = datetime.datetime.strptime(row[0],'%d-%b-%Y %H:%M:%S')\n",
    "        except: # Date was in a second format\n",
    "            time = datetime.datetime.strptime(row[0],'%d-%b-%Y')\n",
    "        if time.second != 0:\n",
    "            time_delta = datetime.timedelta(seconds=1)\n",
    "            time = time + time_delta\n",
    "        if time.minute not in [0,15,30,45]:\n",
    "            print('Minute: {} at i = {}'.format(time.minute, count))\n",
    "        count +=1\n",
    "        fDOM_data.append([time, (\"%.17f\" % float(row[1])).rstrip('0').rstrip('.')])\n",
    "    \n",
    "    turb_data = []\n",
    "    prev_val = 0 # track previous value so that when an encoding error occurs we just use the previous value\n",
    "    for i, line in enumerate(turb_file,1):\n",
    "        vars = line.strip().split(',')\n",
    "        # Correct encoding erros \n",
    "        if vars[1] == '\\x00':\n",
    "            vars[1] = prev_val\n",
    "        # Correct times off by one second\n",
    "        try:\n",
    "            time = datetime.datetime.strptime(vars[0],'%d-%b-%Y %H:%M:%S')\n",
    "        except: # Date was in a second format\n",
    "            time = datetime.datetime.strptime(vars[0],'%d-%b-%Y')\n",
    "        if time.second != 0:\n",
    "            time_delta = datetime.timedelta(seconds=1)\n",
    "            time = time + time_delta\n",
    "        if time.minute not in [0,15,30,45]:\n",
    "            pass\n",
    "#             print('Minute: {} at i = {}'.format(time.minute, i))\n",
    "        # Save data \n",
    "        try: \n",
    "            turb_data.append([time, (\"%.17f\" % float(vars[1])).rstrip('0').rstrip('.')])\n",
    "        except ValueError:\n",
    "            # print('i: {}, val: {} '.format(i,vars[1]))\n",
    "            # print(\"Appending Prev Val: {}\".format(prev_val))\n",
    "            turb_data.append([time,float(prev_val)])\n",
    "            continue # we don't want to assign prev_val to a faulty value\n",
    "        prev_val = vars[1]\n",
    "fDOM_file.close()\n",
    "fDOM_c_file.close()\n",
    "turb_file.close()\n",
    "stage_file.close()"
   ]
  },
  {
   "cell_type": "code",
   "execution_count": 26,
   "id": "04c0fea7-6b0d-4d48-953e-8fc88be35656",
   "metadata": {},
   "outputs": [],
   "source": [
    "with open(fDOM_cor_fname, newline='') as fDOM_c_file:\n",
    "    fDOM_cor_data = []\n",
    "    fDOM_cor_reader = csv.reader(fDOM_c_file,delimiter = ',')\n",
    "    prev_val = 0\n",
    "    for row in fDOM_cor_reader:\n",
    "        try:\n",
    "            time = datetime.datetime.strptime(row[0],'%d-%b-%Y %H:%M:%S')\n",
    "        except: # Date was in a second format\n",
    "            time = datetime.datetime.strptime(row[0],'%d-%b-%Y')\n",
    "        if time.second != 0:\n",
    "            time_delta = datetime.timedelta(seconds=1)\n",
    "            time = time + time_delta\n",
    "        if time.minute not in [0,15,30,45]:\n",
    "#             print('Minute: {} at i = {}'.format(time.minute, count))\n",
    "            pass\n",
    "#             continue\n",
    "        try: \n",
    "            fDOM_cor_data.append([time, (\"%.17f\" % float(row[1])).rstrip('0').rstrip('.')])\n",
    "            prev_val = row[1]\n",
    "        except ValueError:\n",
    "            fDOM_cor_data.append([time, (\"%.17f\" % float(prev_val)).rstrip('0').rstrip('.')])\n",
    "            "
   ]
  },
  {
   "cell_type": "code",
   "execution_count": 34,
   "id": "bc9b3715-48a8-4e67-af65-943eef228d49",
   "metadata": {},
   "outputs": [
    {
     "name": "stdout",
     "output_type": "stream",
     "text": [
      "276997\n",
      "271008\n",
      "[datetime.datetime(2015, 6, 16, 11, 0), '45.43619999999999948']\n"
     ]
    }
   ],
   "source": [
    "print(len(fDOM_cor_data))\n",
    "print(len(fDOM_data))\n",
    "print(len(fDOM_corrected_filtered))\n",
    "print(fDOM_corrected_filtered[-1])"
   ]
  },
  {
   "cell_type": "code",
   "execution_count": 35,
   "id": "62e58b1a-0f7c-42f8-90e1-b7fbe197d4f5",
   "metadata": {},
   "outputs": [
    {
     "ename": "IndexError",
     "evalue": "list index out of range",
     "output_type": "error",
     "traceback": [
      "\u001b[0;31m---------------------------------------------------------------------------\u001b[0m",
      "\u001b[0;31mIndexError\u001b[0m                                Traceback (most recent call last)",
      "\u001b[0;32m<ipython-input-35-d0be1b944748>\u001b[0m in \u001b[0;36m<module>\u001b[0;34m\u001b[0m\n\u001b[1;32m     18\u001b[0m     \u001b[0mturb_filtered\u001b[0m\u001b[0;34m.\u001b[0m\u001b[0mappend\u001b[0m\u001b[0;34m(\u001b[0m\u001b[0mturb_data\u001b[0m\u001b[0;34m[\u001b[0m\u001b[0mj\u001b[0m\u001b[0;34m]\u001b[0m\u001b[0;34m)\u001b[0m\u001b[0;34m\u001b[0m\u001b[0;34m\u001b[0m\u001b[0m\n\u001b[1;32m     19\u001b[0m     \u001b[0mj\u001b[0m \u001b[0;34m=\u001b[0m \u001b[0mi\u001b[0m\u001b[0;34m\u001b[0m\u001b[0;34m\u001b[0m\u001b[0m\n\u001b[0;32m---> 20\u001b[0;31m     \u001b[0;32mwhile\u001b[0m \u001b[0mfDOM_time\u001b[0m \u001b[0;34m!=\u001b[0m \u001b[0mfDOM_cor_data\u001b[0m\u001b[0;34m[\u001b[0m\u001b[0mj\u001b[0m\u001b[0;34m]\u001b[0m\u001b[0;34m[\u001b[0m\u001b[0;36m0\u001b[0m\u001b[0;34m]\u001b[0m\u001b[0;34m:\u001b[0m\u001b[0;34m\u001b[0m\u001b[0;34m\u001b[0m\u001b[0m\n\u001b[0m\u001b[1;32m     21\u001b[0m         \u001b[0mj\u001b[0m\u001b[0;34m+=\u001b[0m\u001b[0;36m1\u001b[0m\u001b[0;34m\u001b[0m\u001b[0;34m\u001b[0m\u001b[0m\n\u001b[1;32m     22\u001b[0m     \u001b[0mfDOM_corrected_filtered\u001b[0m\u001b[0;34m.\u001b[0m\u001b[0mappend\u001b[0m\u001b[0;34m(\u001b[0m\u001b[0mfDOM_cor_data\u001b[0m\u001b[0;34m[\u001b[0m\u001b[0mj\u001b[0m\u001b[0;34m]\u001b[0m\u001b[0;34m)\u001b[0m\u001b[0;34m\u001b[0m\u001b[0;34m\u001b[0m\u001b[0m\n",
      "\u001b[0;31mIndexError\u001b[0m: list index out of range"
     ]
    }
   ],
   "source": [
    "# Align entries of all timeseries by time. \n",
    "delta = datetime.timedelta(minutes=15)\n",
    "\n",
    "time_corrected_fDOM = []\n",
    "# fDOM has large swaths of missing data: only add stage and turb that has matching dates\n",
    "stage_filtered = []\n",
    "turb_filtered = []\n",
    "fDOM_corrected_filtered = []\n",
    "for i in range(len(fDOM_data)):\n",
    "    fDOM_time = fDOM_data[i][0]\n",
    "    j = i\n",
    "    while fDOM_time != stage_data[j][0]:\n",
    "        j+=1\n",
    "    stage_filtered.append(stage_data[j])\n",
    "    j = i\n",
    "    while fDOM_time != turb_data[j][0]:\n",
    "        j+=1\n",
    "    turb_filtered.append(turb_data[j])\n",
    "    j = i\n",
    "    while fDOM_time != fDOM_cor_data[j][0]:\n",
    "        j+=1\n",
    "    fDOM_corrected_filtered.append(fDOM_cor_data[j])\n",
    "    if not(fDOM_time == stage_filtered[i][0] == turb_filtered[i][0]):\n",
    "        print('Error: ',i)\n",
    "print('{}. {}. {} '.format(fDOM_data[100], stage_filtered[100], turb_filtered[100]))"
   ]
  },
  {
   "cell_type": "code",
   "execution_count": 18,
   "id": "b15f7887-e010-4aa9-a4ea-c097689a3a68",
   "metadata": {},
   "outputs": [
    {
     "name": "stdout",
     "output_type": "stream",
     "text": [
      "[datetime.datetime(2020, 3, 20, 20, 45), 35.98333]. [datetime.datetime(2020, 3, 20, 20, 45), 0.5177273]. [datetime.datetime(2020, 3, 20, 20, 45), -4.500798] \n",
      "271008\n"
     ]
    }
   ],
   "source": [
    "print('{}. {}. {} '.format(fDOM_data[260000], stage_filtered[260000], turb_filtered[260000], fDOM_))\n",
    "print(len(stage_filtered))"
   ]
  },
  {
   "cell_type": "code",
   "execution_count": 5,
   "id": "6b5f83d1-c6e8-48d0-b18e-bd9be40b00ba",
   "metadata": {},
   "outputs": [],
   "source": [
    "stage_data = stage_filtered\n",
    "turb_data = turb_filtered\n",
    "fDOM_cor_data = fDOM_corrected_filtered"
   ]
  },
  {
   "cell_type": "code",
   "execution_count": 6,
   "id": "074ff3a0-f8e9-4357-828f-4cd32d1acde9",
   "metadata": {},
   "outputs": [],
   "source": [
    "delta = datetime.timedelta(minutes=15)\n",
    "lower_limit = 100000 # limit number of entries written out. TrainSet can't quite handle the all 270k records\n",
    "upper_limit = 200000\n",
    "write_fname = '../Data/data_anotating/non_annotated_csv/timeseriesCorr_0-100000k.csv'\n",
    "with open(write_fname,'w',newline='') as outfile:\n",
    "    writer = csv.writer(outfile,delimiter=',')\n",
    "    writer.writerow(['series', 'timestamp', 'value', 'label'])\n",
    "    for i in range(len(fDOM_data)):\n",
    "        if i <= lower_limit or i>=upper_limit:\n",
    "            break \n",
    "        fDOM_time = fDOM_data[i][0] \n",
    "        stage_time = stage_data[i][0]\n",
    "        turb_time = turb_data[i][0]\n",
    "        fDOM_cor_time = fDOM_cor_data[i][0]\n",
    "        # Make sure that all timestamps are the same\n",
    "        if not(fDOM_time == stage_time == turb_time):\n",
    "            print('Error: {}'.format(i))\n",
    "            print('fDOM: {}'.format(fDOM_time))\n",
    "            print('Stage: {}'.format(stage_time))\n",
    "            print('Turb: {}'.format(turb_time))\n",
    "        \n",
    "        # Append in specific order \n",
    "        fDOM_time = fDOM_time.isoformat() + '.000Z'\n",
    "        stage_time = stage_time.isoformat() + '.000Z'\n",
    "        turb_time = turb_time.isoformat() + '.000Z'\n",
    "        fDOM_cor_time = fDOM_cor_time.isoformat() + '.000Z'\n",
    "        \n",
    "        writer.writerow(['fDOM', fDOM_time, fDOM_data[i][1],''])\n",
    "        writer.writerow(['Stage', stage_time, stage_data[i][1],''])\n",
    "        writer.writerow(['Turbidity',turb_time, turb_data[i][1], ''])\n",
    "        writer.writerow(['fDOM_Cor', fDOM_cor_time, fDOM_cor_data[i][1], ''])\n",
    "outfile.close()"
   ]
  },
  {
   "cell_type": "code",
   "execution_count": 14,
   "id": "4ae7ba7c-6735-4b49-9fa7-e2b53687f3b9",
   "metadata": {},
   "outputs": [],
   "source": []
  },
  {
   "cell_type": "code",
   "execution_count": 8,
   "id": "e3011056-cad4-4ac7-a0a9-b9c98708ea17",
   "metadata": {},
   "outputs": [
    {
     "name": "stdout",
     "output_type": "stream",
     "text": [
      "i: 0 Curr: 2012-10-01 03:45:00  Prev: 2020-07-13 12:30:00\n",
      "i: 6848 Curr: 2012-12-11 12:00:00  Prev: 2012-12-11 11:30:00\n",
      "i: 55908 Curr: 2014-05-06 13:45:00  Prev: 2014-05-06 12:45:00\n",
      "i: 88646 Curr: 2015-04-12 14:30:00  Prev: 2015-04-12 14:00:00\n",
      "i: 99053 Curr: 2015-08-12 00:00:00  Prev: 2015-07-30 00:00:00\n",
      "i: 105153 Curr: 2015-10-14 13:45:00  Prev: 2015-10-14 12:45:00\n",
      "i: 105601 Curr: 2015-10-19 13:45:00  Prev: 2015-10-19 05:30:00\n",
      "i: 131240 Curr: 2016-07-12 15:45:00  Prev: 2016-07-12 15:15:00\n",
      "i: 164929 Curr: 2017-06-28 14:15:00  Prev: 2017-06-28 13:45:00\n",
      "i: 165701 Curr: 2017-07-06 15:30:00  Prev: 2017-07-06 15:00:00\n",
      "i: 166458 Curr: 2017-07-14 13:00:00  Prev: 2017-07-14 12:30:00\n",
      "i: 168254 Curr: 2017-08-02 11:45:00  Prev: 2017-08-02 05:45:00\n",
      "i: 175142 Curr: 2017-10-13 16:00:00  Prev: 2017-10-13 05:30:00\n",
      "i: 175406 Curr: 2017-10-21 15:30:00  Prev: 2017-10-16 09:45:00\n",
      "i: 177595 Curr: 2017-11-13 11:00:00  Prev: 2017-11-13 10:30:00\n",
      "i: 191331 Curr: 2018-04-05 13:15:00  Prev: 2018-04-05 12:45:00\n",
      "i: 248451 Curr: 2019-11-21 13:30:00  Prev: 2019-11-21 13:00:00\n"
     ]
    }
   ],
   "source": [
    "# Observe where data in missing in fDOM\n",
    "for i in range(len(fDOM_data)):\n",
    "    curr = fDOM_data[i][0]\n",
    "    prev = fDOM_data[i-1][0]\n",
    "    if prev + delta != curr:\n",
    "        print(\"i: {} Curr: {}  Prev: {}\".format(i,curr,prev))"
   ]
  },
  {
   "cell_type": "code",
   "execution_count": null,
   "id": "32936d20-6e7c-444d-900b-481b01c8d9d2",
   "metadata": {},
   "outputs": [],
   "source": []
  }
 ],
 "metadata": {
  "kernelspec": {
   "display_name": "Python 3 (ipykernel)",
   "language": "python",
   "name": "python3"
  },
  "language_info": {
   "codemirror_mode": {
    "name": "ipython",
    "version": 3
   },
   "file_extension": ".py",
   "mimetype": "text/x-python",
   "name": "python",
   "nbconvert_exporter": "python",
   "pygments_lexer": "ipython3",
   "version": "3.9.6"
  }
 },
 "nbformat": 4,
 "nbformat_minor": 5
}
