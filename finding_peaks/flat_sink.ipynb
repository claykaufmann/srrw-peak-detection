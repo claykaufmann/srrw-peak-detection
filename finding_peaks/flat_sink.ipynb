{
 "cells": [
  {
   "cell_type": "markdown",
   "metadata": {},
   "source": [
    "# Finding Flat Sinks in fDOM and turbidity"
   ]
  },
  {
   "cell_type": "code",
   "execution_count": 1,
   "metadata": {},
   "outputs": [],
   "source": [
    "# Imports\n",
    "import pandas as pd\n",
    "import math\n",
    "import copy\n",
    "import sys\n",
    "sys.path.insert(1, '../')\n",
    "from Tools import auxiliary_functions\n",
    "import Tools.data_movement as dm\n",
    "import Tools.data_processing as dp\n",
    "\n",
    "# better print options for checking dataframes\n",
    "pd.set_option('display.max_rows', None)\n",
    "pd.set_option('display.max_columns', None)\n",
    "pd.set_option('display.width', 1000)\n",
    "pd.set_option('display.colheader_justify', 'center')\n",
    "pd.set_option('display.precision', 10)"
   ]
  },
  {
   "cell_type": "code",
   "execution_count": 2,
   "metadata": {},
   "outputs": [],
   "source": [
    "# load in data\n",
    "fDOM_data = dm.read_in_preprocessed_timeseries('../Data/converted_data/julian_format/fDOM_raw_10.1.2011-9.4.2020.csv')\n",
    "turb_data = dm.read_in_preprocessed_timeseries('../Data/converted_data/julian_format/turbidity_raw_10.1.2011_9.4.2020.csv')\n",
    "stage_data = dm.read_in_preprocessed_timeseries('../Data/converted_data/julian_format/stage_10.1.11-1.1.19.csv')\n",
    "stage_data = dp.align_stage_to_fDOM(fDOM_data, stage_data)"
   ]
  },
  {
   "cell_type": "markdown",
   "metadata": {},
   "source": [
    "## fDOM Flat Sinks\n",
    "Manually found at:\n",
    "1. idx 85747 -> 86462 (2014-04-16 -> 2014-04-23)\n",
    "2. 242619 -> 242628 (2018-10-25 -> 2018-10-25)"
   ]
  },
  {
   "cell_type": "code",
   "execution_count": 10,
   "metadata": {},
   "outputs": [
    {
     "name": "stdout",
     "output_type": "stream",
     "text": [
      "   timestamp_of_peak  value_of_peak label_of_peak  idx_of_peak\n",
      "0    2456947.65625     21.32691384        FSK         85747   \n"
     ]
    }
   ],
   "source": [
    "# put manually found points into a dataframe\n",
    "cands = [[85747, 85747, 86462]]\n",
    "cands_df = pd.DataFrame(cands)\n",
    "\n",
    "cands_df.columns = [\"idx_of_peak\", \"left_base\", \"right_base\"]\n",
    "cands_df = cands_df.set_index(\"idx_of_peak\")\n",
    "\n",
    "fdom_df = pd.DataFrame(fDOM_data)\n",
    "fdom_df.columns = [\"timestamp_of_peak\", \"value_of_peak\"]\n",
    "\n",
    "\n",
    "fdom_df = cands_df.join(fdom_df)\n",
    "\n",
    "final_fdom_df = fdom_df.reset_index()\n",
    "\n",
    "del final_fdom_df[\"left_base\"]\n",
    "del final_fdom_df[\"right_base\"]\n",
    "\n",
    "final_fdom_df[\"label_of_peak\"] = \"FSK\"\n",
    "\n",
    "final_fdom_df = final_fdom_df.reindex(\n",
    "    columns=[\"timestamp_of_peak\", \"value_of_peak\", \"label_of_peak\", \"idx_of_peak\"]\n",
    ")\n",
    "\n",
    "print(final_fdom_df)\n",
    "\n",
    "csv_path_julian_fdom = \"../Data/labeled_data/ground_truths/fDOM/fDOM_FSK/julian_time/fDOM_FSK_0k-300k.csv\"\n",
    "csv_path_datetime_fdom = \"../Data/labeled_data/ground_truths/fDOM/fDOM_FSK/datetime/fDOM_FSK_0k-300k.csv\"\n",
    "\n",
    "datetime_df = copy.deepcopy(final_fdom_df)\n",
    "\n",
    "for i, row in datetime_df.iterrows():\n",
    "    jul_time = datetime_df.loc[i, \"timestamp_of_peak\"]\n",
    "\n",
    "    dt = dp.julian_to_datetime(jul_time)\n",
    "    dt = dt.isoformat()\n",
    "\n",
    "    datetime_df.loc[i, \"timestamp_of_peak\"] = dt\n",
    "\n",
    "final_fdom_df = final_fdom_df.set_index(\"timestamp_of_peak\")\n",
    "datetime_df = datetime_df.set_index(\"timestamp_of_peak\")\n",
    "final_fdom_df.to_csv(csv_path_julian_fdom)\n",
    "datetime_df.to_csv(csv_path_datetime_fdom)"
   ]
  },
  {
   "cell_type": "markdown",
   "metadata": {},
   "source": [
    "## Turbidity Flat Sinks\n",
    "None manually found"
   ]
  }
 ],
 "metadata": {
  "interpreter": {
   "hash": "8ed753961bdc37ee89b4275051722ceb8ec0b57b8793db9d189305c313070a7d"
  },
  "kernelspec": {
   "display_name": "Python 3.10.2 ('srrw')",
   "language": "python",
   "name": "python3"
  },
  "language_info": {
   "codemirror_mode": {
    "name": "ipython",
    "version": 3
   },
   "file_extension": ".py",
   "mimetype": "text/x-python",
   "name": "python",
   "nbconvert_exporter": "python",
   "pygments_lexer": "ipython3",
   "version": "3.10.2"
  },
  "orig_nbformat": 4
 },
 "nbformat": 4,
 "nbformat_minor": 2
}
