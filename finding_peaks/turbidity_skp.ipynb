{
 "cells": [
  {
   "cell_type": "markdown",
   "metadata": {},
   "source": [
    "# Finding Turbidity Skyrocketing Peaks\n",
    "Using the same technique as in fDOM, but for turbidity, the change is a higher minimum prominence."
   ]
  },
  {
   "cell_type": "code",
   "execution_count": 73,
   "metadata": {},
   "outputs": [],
   "source": [
    "import scipy.io as sio\n",
    "from scipy.signal import find_peaks\n",
    "import pandas as pd\n",
    "import numpy as np\n",
    "import copy\n",
    "import sys\n",
    "sys.path.insert(1,'../')\n",
    "from Tools.auxiliary_functions import get_candidates, detect_flat_plat, detect_stage_rises\n",
    "import Tools.data_processing as dp\n",
    "import Tools.data_movement as dm\n",
    "import math\n",
    "\n",
    "# better print options for checking dataframes\n",
    "pd.set_option('display.max_rows', None)\n",
    "pd.set_option('display.max_columns', None)\n",
    "pd.set_option('display.width', 1000)\n",
    "pd.set_option('display.colheader_justify', 'center')\n",
    "pd.set_option('display.precision', 10)"
   ]
  },
  {
   "cell_type": "markdown",
   "metadata": {},
   "source": [
    "## Load in Data"
   ]
  },
  {
   "cell_type": "code",
   "execution_count": 74,
   "metadata": {},
   "outputs": [],
   "source": [
    "turb_data = dm.read_in_preprocessed_timeseries('../Data/converted_data/julian_format/turbidity_raw_10.1.2011_9.4.2020.csv')"
   ]
  },
  {
   "cell_type": "markdown",
   "metadata": {},
   "source": [
    "## Collect Candidate Peaks"
   ]
  },
  {
   "cell_type": "code",
   "execution_count": 75,
   "metadata": {},
   "outputs": [],
   "source": [
    "prominence_range = [20, None]  # higher than that of fDOM\n",
    "width_range = [None, None]\n",
    "wlen = 100\n",
    "distance = 1\n",
    "rel_height = 0.6\n",
    "\n",
    "# Get list of all peaks that could possibly be plummeting peaks\n",
    "peaks, props = find_peaks(\n",
    "    turb_data[:, 1],\n",
    "    height=(None, None),\n",
    "    threshold=(None, None),\n",
    "    distance=distance,\n",
    "    prominence=prominence_range,\n",
    "    width=width_range,\n",
    "    wlen=wlen,\n",
    "    rel_height=rel_height,\n",
    ")\n",
    "\n",
    "# Form candidate set from returned information\n",
    "cands = [\n",
    "    [\n",
    "        peak,\n",
    "        math.floor(props[\"left_ips\"][i]),\n",
    "        math.ceil(props[\"right_ips\"][i]),\n",
    "        props[\"prominences\"][i],\n",
    "    ]\n",
    "    for i, peak in enumerate(peaks)\n",
    "]\n",
    "\n",
    "cands_df = pd.DataFrame(cands)\n",
    "cands_df.columns = [\"idx_of_peak\", \"left_ips\", \"right_ips\", \"prominence\"]\n",
    "\n",
    "cands_df = cands_df.set_index(\"idx_of_peak\")\n",
    "\n",
    "# print(cands_df)"
   ]
  },
  {
   "cell_type": "markdown",
   "metadata": {},
   "source": [
    "## Merge raw data with candidates on peak index"
   ]
  },
  {
   "cell_type": "code",
   "execution_count": 76,
   "metadata": {},
   "outputs": [],
   "source": [
    "# create dataframe of raw turb data\n",
    "raw_turb_df = pd.DataFrame(turb_data)\n",
    "raw_turb_df.columns = [\"timestamp_of_peak\", \"value_of_peak\"]\n",
    "\n",
    "# match on index of peak\n",
    "total_df = cands_df.join(raw_turb_df)\n",
    "\n",
    "# reset index to re-add idx of peak column\n",
    "total_df = total_df.reset_index()\n",
    "\n",
    "# drop left ips, right ips and prominence\n",
    "del total_df['left_ips']\n",
    "del total_df['right_ips']\n",
    "del total_df['prominence']\n",
    "\n",
    "# set default label value for all to be NSKP\n",
    "total_df['label_of_peak'] = \"NSKP\"\n",
    "\n",
    "# reorder cols\n",
    "total_df = total_df.reindex(columns=[\"timestamp_of_peak\", \"value_of_peak\", \"label_of_peak\", \"idx_of_peak\"])\n",
    "\n",
    "# print final df\n",
    "# print(total_df)\n"
   ]
  },
  {
   "cell_type": "markdown",
   "metadata": {},
   "source": [
    "## Create julian and datetime formats"
   ]
  },
  {
   "cell_type": "code",
   "execution_count": null,
   "metadata": {},
   "outputs": [],
   "source": [
    "# rename to julian time df\n",
    "final_julian_df = copy.deepcopy(total_df)\n",
    "\n",
    "# create datetime df\n",
    "final_datetime_df = copy.deepcopy(total_df)\n",
    "\n",
    "# convert julian times to datetimes\n"
   ]
  },
  {
   "cell_type": "markdown",
   "metadata": {},
   "source": [
    "## Output to CSV"
   ]
  },
  {
   "cell_type": "code",
   "execution_count": 77,
   "metadata": {},
   "outputs": [],
   "source": [
    "# set df index to be timestamp of peak\n",
    "final_julian_df = final_julian_df.set_index(\"timestamp_of_peak\")\n",
    "final_datetime_df = final_datetime_df.set_index(\"timestamp_of_peak\")\n",
    "\n",
    "# set path\n",
    "csv_path_julian = \"../Data/labeled_data/ground_truths/turb/turb_skp/julian_time/turb_skp_0k-300k.csv\"\n",
    "csv_path_datetime = \"../Data/labeled_data/ground_truths/turb/turb_skp/datetime/turb_skp_0k-300k.csv\"\n",
    "\n",
    "# write to csv\n",
    "final_julian_df.to_csv(csv_path_julian)\n",
    "final_datetime_df.to_csv(csv_path_datetime)"
   ]
  }
 ],
 "metadata": {
  "interpreter": {
   "hash": "8ed753961bdc37ee89b4275051722ceb8ec0b57b8793db9d189305c313070a7d"
  },
  "kernelspec": {
   "display_name": "Python 3.10.2 ('srrw')",
   "language": "python",
   "name": "python3"
  },
  "language_info": {
   "codemirror_mode": {
    "name": "ipython",
    "version": 3
   },
   "file_extension": ".py",
   "mimetype": "text/x-python",
   "name": "python",
   "nbconvert_exporter": "python",
   "pygments_lexer": "ipython3",
   "version": "3.10.2"
  },
  "orig_nbformat": 4
 },
 "nbformat": 4,
 "nbformat_minor": 2
}
