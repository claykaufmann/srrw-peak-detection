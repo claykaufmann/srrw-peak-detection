{
 "cells": [
  {
   "cell_type": "markdown",
   "metadata": {},
   "source": [
    "# Finding Flat Plateaus and Sinks in fDOM and turbidity\n",
    "This will be used to label flat plateaus in the data."
   ]
  },
  {
   "cell_type": "code",
   "execution_count": 11,
   "metadata": {},
   "outputs": [],
   "source": [
    "# Imports\n",
    "import pandas as pd\n",
    "\n",
    "import sys\n",
    "sys.path.insert(1, '../')\n",
    "from Tools import auxiliary_functions\n",
    "import Tools.data_movement as dm\n",
    "import Tools.data_processing as dp"
   ]
  },
  {
   "cell_type": "code",
   "execution_count": 12,
   "metadata": {},
   "outputs": [],
   "source": [
    "# load in data\n",
    "fDOM_data = dm.read_in_preprocessed_timeseries('../Data/converted_data/julian_format/fDOM_raw_10.1.2011-9.4.2020.csv')\n",
    "turb_data = dm.read_in_preprocessed_timeseries('../Data/converted_data/julian_format/turbidity_raw_10.1.2011_9.4.2020.csv')\n",
    "stage_data = dm.read_in_preprocessed_timeseries('../Data/converted_data/julian_format/stage_10.1.11-1.1.19.csv')\n",
    "stage_data = dp.align_stage_to_fDOM(fDOM_data, stage_data)"
   ]
  },
  {
   "cell_type": "markdown",
   "metadata": {},
   "source": [
    "## fDOM Plateaus\n",
    "We need to come up with a function that will find plateaus  \n",
    "Zach wrote a rudimentary one, needs work\n",
    "\n",
    "The dataframe this section produces, the index of the peak is the left base (AKA START OF PEAK)\n"
   ]
  },
  {
   "cell_type": "markdown",
   "metadata": {},
   "source": [
    "### Get candidates"
   ]
  },
  {
   "cell_type": "code",
   "execution_count": 75,
   "metadata": {},
   "outputs": [],
   "source": [
    "# Base function attempt\n",
    "cands = auxiliary_functions.detect_flat_plat(fDOM_data, 100, 40)\n",
    "\n",
    "indices = []\n",
    "for i in range(cands.shape[0]):\n",
    "    if cands[i] == 1:\n",
    "        indices.append(i)\n"
   ]
  },
  {
   "cell_type": "markdown",
   "metadata": {},
   "source": [
    "### Create dataframes"
   ]
  },
  {
   "cell_type": "code",
   "execution_count": 73,
   "metadata": {},
   "outputs": [
    {
     "name": "stdout",
     "output_type": "stream",
     "text": [
      "    timestamp_of_peak  value_of_peak label_of_peak  idx_of_peak\n",
      "0        2.456144e+06      40.556854          NFPT       9766.0\n",
      "1        2.456549e+06      52.613096          NFPT      47438.0\n",
      "2        2.457324e+06      41.105690          NFPT     118793.0\n",
      "3        2.457359e+06      40.080440          NFPT     122122.0\n",
      "4        2.457618e+06      63.514980          NFPT     146954.0\n",
      "5        2.457683e+06      47.797440          NFPT     153248.0\n",
      "6        2.457690e+06      41.411180          NFPT     153898.0\n",
      "7        2.458051e+06      53.279340          NFPT     188037.0\n",
      "8        2.458056e+06      41.736000          NFPT     188525.0\n",
      "9        2.458060e+06      40.254510          NFPT     188820.0\n",
      "10       2.458301e+06      47.258600          NFPT     211972.0\n",
      "11       2.458326e+06      52.316060          NFPT     214407.0\n",
      "12       2.458328e+06      44.353900          NFPT     214617.0\n",
      "13       2.458373e+06      40.143810          NFPT     218882.0\n",
      "14       2.458383e+06      43.556160          NFPT     219865.0\n",
      "15       2.458387e+06      42.605740          NFPT     220269.0\n",
      "16       2.458388e+06      57.320080          NFPT     220379.0\n",
      "17       2.458394e+06      40.422450          NFPT     220889.0\n",
      "18       2.458403e+06      40.590390          NFPT     221773.0\n",
      "19       2.458407e+06      41.533190          NFPT     222208.0\n",
      "20       2.458424e+06      40.815610          NFPT     223853.0\n",
      "21       2.458474e+06      40.460630          NFPT     228624.0\n"
     ]
    }
   ],
   "source": [
    "# Create dataframe\n",
    "# get the beginning and ending of each plateau\n",
    "last_val = -1\n",
    "start_idx = -1\n",
    "end_idx = -1\n",
    "\n",
    "start_indices = []\n",
    "end_indices = []\n",
    "\n",
    "for idx, val in enumerate(indices):\n",
    "    if val != last_val + 1:\n",
    "        # we are now in a new peak, save stuff\n",
    "        start_idx = val\n",
    "        start_indices.append(start_idx)\n",
    "\n",
    "        end_idx = last_val\n",
    "        end_indices.append(end_idx)\n",
    "\n",
    "    elif idx + 1 == len(indices):\n",
    "        end_indices.append(val)\n",
    "\n",
    "    # set last val\n",
    "    last_val = val\n",
    "\n",
    "# drop first index in end indices\n",
    "del end_indices[0]\n",
    "\n",
    "cands = [[]]\n",
    "for i in range(len(start_indices)):\n",
    "    cands.append([start_indices[i], start_indices[i], end_indices[i]])\n",
    "\n",
    "# create dataframe\n",
    "cands_df_fdom = pd.DataFrame(cands)\n",
    "cands_df_fdom.columns = [\"idx_of_peak\", \"left_base\", \"right_base\"]\n",
    "\n",
    "# drop first row\n",
    "cands_df_fdom = cands_df_fdom.drop([0])\n",
    "\n",
    "# set index\n",
    "cands_df_fdom = cands_df_fdom.set_index(\"idx_of_peak\")\n",
    "\n",
    "# merge raw data with candidates on peak index\n",
    "raw_fdom_df = pd.DataFrame(fDOM_data)\n",
    "raw_fdom_df.columns = [\"timestamp_of_peak\", \"value_of_peak\"]\n",
    "total_df_fdom = cands_df_fdom.join(raw_fdom_df)\n",
    "\n",
    "# reset index\n",
    "total_df_fdom = total_df_fdom.reset_index()\n",
    "\n",
    "# drop unneedeed cols\n",
    "del total_df_fdom['left_base']\n",
    "del total_df_fdom['right_base']\n",
    "\n",
    "total_df_fdom['label_of_peak'] = \"NFPT\" # set label to be not a flat plateau\n",
    "\n",
    "total_df_fdom = total_df_fdom.reindex(columns=['timestamp_of_peak', 'value_of_peak', 'label_of_peak', \"idx_of_peak\"])\n",
    "\n",
    "print(total_df_fdom)"
   ]
  },
  {
   "cell_type": "markdown",
   "metadata": {},
   "source": [
    "## Turbidity Plateaus"
   ]
  },
  {
   "cell_type": "markdown",
   "metadata": {},
   "source": [
    "### Get candidate list"
   ]
  },
  {
   "cell_type": "code",
   "execution_count": 14,
   "metadata": {},
   "outputs": [
    {
     "name": "stdout",
     "output_type": "stream",
     "text": [
      "33362\n",
      "67634\n",
      "103251\n",
      "195717\n",
      "200138\n"
     ]
    }
   ],
   "source": [
    "# Base function attempt\n",
    "cands = auxiliary_functions.detect_flat_plat(turb_data, 100, 40)\n",
    "\n",
    "turb_flat_plat_indxs = []\n",
    "for i in range(cands.shape[0]):\n",
    "    if cands[i] == 1:\n",
    "        turb_flat_plat_indxs.append(i)\n"
   ]
  },
  {
   "cell_type": "markdown",
   "metadata": {},
   "source": [
    "### Create dataframes"
   ]
  },
  {
   "cell_type": "code",
   "execution_count": 74,
   "metadata": {},
   "outputs": [
    {
     "name": "stdout",
     "output_type": "stream",
     "text": [
      "   timestamp_of_peak  value_of_peak label_of_peak  idx_of_peak\n",
      "0       2.456402e+06      68.036460          NFPT      33361.0\n",
      "1       2.456759e+06      41.796162          NFPT      67634.0\n",
      "2       2.457130e+06      93.759808          NFPT     103251.0\n",
      "3       2.458131e+06      51.682730          NFPT     195717.0\n",
      "4       2.458177e+06      40.715600          NFPT     200138.0\n"
     ]
    }
   ],
   "source": [
    "# create dataframe\n",
    "last_val = -1\n",
    "start_idx = -1\n",
    "end_idx = -1\n",
    "\n",
    "start_indices = []\n",
    "end_indices = []\n",
    "\n",
    "for idx, val in enumerate(turb_flat_plat_indxs):\n",
    "    if val != last_val + 1:\n",
    "        # we are now in a new peak, save stuff\n",
    "        start_idx = val\n",
    "        start_indices.append(start_idx)\n",
    "\n",
    "        end_idx = last_val\n",
    "        end_indices.append(end_idx)\n",
    "\n",
    "    elif idx + 1 == len(turb_flat_plat_indxs):\n",
    "        end_indices.append(val)\n",
    "\n",
    "    # set last val\n",
    "    last_val = val\n",
    "\n",
    "# drop first index in end indices\n",
    "del end_indices[0]\n",
    "\n",
    "cands = [[]]\n",
    "for i in range(len(start_indices)):\n",
    "    cands.append([start_indices[i], start_indices[i], end_indices[i]])\n",
    "\n",
    "# create dataframe\n",
    "cands_df_turb = pd.DataFrame(cands)\n",
    "cands_df_turb.columns = [\"idx_of_peak\", \"left_base\", \"right_base\"]\n",
    "\n",
    "# drop first row\n",
    "cands_df_turb = cands_df_turb.drop([0])\n",
    "\n",
    "# set index\n",
    "cands_df_turb = cands_df_turb.set_index(\"idx_of_peak\")\n",
    "\n",
    "# merge raw data with candidates on peak index\n",
    "raw_turb_df = pd.DataFrame(turb_data)\n",
    "raw_turb_df.columns = [\"timestamp_of_peak\", \"value_of_peak\"]\n",
    "total_df_turb = cands_df_turb.join(raw_turb_df)\n",
    "\n",
    "# reset index\n",
    "total_df_turb = total_df_turb.reset_index()\n",
    "\n",
    "# drop unneedeed cols\n",
    "del total_df_turb['left_base']\n",
    "del total_df_turb['right_base']\n",
    "\n",
    "total_df_turb['label_of_peak'] = \"NFPT\" # set label to be not a flat plateau\n",
    "\n",
    "total_df_turb = total_df_turb.reindex(columns=['timestamp_of_peak', 'value_of_peak', 'label_of_peak', \"idx_of_peak\"])\n",
    "\n",
    "print(total_df_turb)"
   ]
  },
  {
   "cell_type": "markdown",
   "metadata": {},
   "source": [
    "### Create julian and datetime formats"
   ]
  },
  {
   "cell_type": "code",
   "execution_count": null,
   "metadata": {},
   "outputs": [],
   "source": [
    "# create julian time df\n",
    "\n",
    "# create datetime df\n",
    "\n",
    "# convert time\n"
   ]
  },
  {
   "cell_type": "markdown",
   "metadata": {},
   "source": [
    "## Output to CSV"
   ]
  },
  {
   "cell_type": "code",
   "execution_count": null,
   "metadata": {},
   "outputs": [],
   "source": []
  }
 ],
 "metadata": {
  "interpreter": {
   "hash": "8ed753961bdc37ee89b4275051722ceb8ec0b57b8793db9d189305c313070a7d"
  },
  "kernelspec": {
   "display_name": "Python 3.10.2 ('srrw')",
   "language": "python",
   "name": "python3"
  },
  "language_info": {
   "codemirror_mode": {
    "name": "ipython",
    "version": 3
   },
   "file_extension": ".py",
   "mimetype": "text/x-python",
   "name": "python",
   "nbconvert_exporter": "python",
   "pygments_lexer": "ipython3",
   "version": "3.10.2"
  },
  "orig_nbformat": 4
 },
 "nbformat": 4,
 "nbformat_minor": 2
}
