{
 "cells": [
  {
   "cell_type": "markdown",
   "metadata": {},
   "source": [
    "# Finding Flat Plateaus and Sinks in fDOM and turbidity\n",
    "This will be used to label flat plateaus in the data."
   ]
  },
  {
   "cell_type": "code",
   "execution_count": null,
   "metadata": {},
   "outputs": [],
   "source": [
    "# Imports\n",
    "import pandas as pd\n",
    "\n",
    "import sys\n",
    "sys.path.insert(1, '../')\n",
    "from Tools import auxiliary_functions"
   ]
  },
  {
   "cell_type": "markdown",
   "metadata": {},
   "source": [
    "## fDOM Plateaus\n",
    "We need to come up with a function that will find plateaus\n",
    "Zach wrote a rudimentary one, needs work"
   ]
  }
 ],
 "metadata": {
  "language_info": {
   "name": "python"
  },
  "orig_nbformat": 4
 },
 "nbformat": 4,
 "nbformat_minor": 2
}
