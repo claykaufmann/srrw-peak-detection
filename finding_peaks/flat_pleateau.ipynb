{
 "cells": [
  {
   "cell_type": "markdown",
   "metadata": {},
   "source": [
    "# Finding Flat Plateaus in fDOM and turbidity\n",
    "This will be used to label flat plateaus in the data.\n",
    "\n",
    "NOTE: fDOM version not currently functional"
   ]
  },
  {
   "cell_type": "code",
   "execution_count": 1,
   "metadata": {},
   "outputs": [],
   "source": [
    "# Imports\n",
    "import pandas as pd\n",
    "import math\n",
    "import copy\n",
    "import sys\n",
    "sys.path.insert(1, '../')\n",
    "from Tools import auxiliary_functions\n",
    "import Tools.data_movement as dm\n",
    "import Tools.data_processing as dp\n",
    "\n",
    "# better print options for checking dataframes\n",
    "pd.set_option('display.max_rows', None)\n",
    "pd.set_option('display.max_columns', None)\n",
    "pd.set_option('display.width', 1000)\n",
    "pd.set_option('display.colheader_justify', 'center')\n",
    "pd.set_option('display.precision', 10)"
   ]
  },
  {
   "cell_type": "code",
   "execution_count": 2,
   "metadata": {},
   "outputs": [],
   "source": [
    "# load in data\n",
    "fDOM_data = dm.read_in_preprocessed_timeseries('../Data/converted_data/julian_format/fDOM_raw_10.1.2011-9.4.2020.csv')\n",
    "turb_data = dm.read_in_preprocessed_timeseries('../Data/converted_data/julian_format/turbidity_raw_10.1.2011_9.4.2020.csv')\n",
    "stage_data = dm.read_in_preprocessed_timeseries('../Data/converted_data/julian_format/stage_10.1.11-1.1.19.csv')\n",
    "stage_data = dp.align_stage_to_fDOM(fDOM_data, stage_data)"
   ]
  },
  {
   "cell_type": "markdown",
   "metadata": {},
   "source": [
    "## fDOM Plateaus\n",
    "We need to come up with a function that will find plateaus  \n",
    "Zach wrote a rudimentary one, needs work\n",
    "\n",
    "Manual searching for plateaus in fDOM:  \n",
    "1. idx 212951 -> 213211\n",
    "\n",
    "Close candidate, but not a plateau:\n",
    "1. idx 219005 -> 219578"
   ]
  },
  {
   "cell_type": "code",
   "execution_count": 3,
   "metadata": {},
   "outputs": [
    {
     "name": "stdout",
     "output_type": "stream",
     "text": [
      "             left_base  right_base\n",
      "idx_of_peak                       \n",
      "219005        219005      219578  \n",
      "212951        212951      213211  \n"
     ]
    }
   ],
   "source": [
    "# Put manually found points into a dataframe\n",
    "cands_manual = [[219005, 219005, 219578], [212951, 212951, 213211]]\n",
    "\n",
    "cands_manual_df = pd.DataFrame(cands_manual)\n",
    "cands_manual_df.columns = [\"idx_of_peak\", \"left_base\", \"right_base\"]\n",
    "\n",
    "cands_manual_df = cands_manual_df.set_index(\"idx_of_peak\")\n",
    "\n",
    "print(cands_manual_df)"
   ]
  },
  {
   "cell_type": "code",
   "execution_count": 4,
   "metadata": {},
   "outputs": [
    {
     "name": "stdout",
     "output_type": "stream",
     "text": [
      "   timestamp_of_peak  value_of_peak label_of_peak  idx_of_peak\n",
      "0    2458373.9375       38.57122          FPT        219005   \n",
      "1    2458310.8750       24.53630          FPT        212951   \n"
     ]
    },
    {
     "ename": "KeyError",
     "evalue": "'timestamp_of_peak'",
     "output_type": "error",
     "traceback": [
      "\u001b[0;31m---------------------------------------------------------------------------\u001b[0m",
      "\u001b[0;31mKeyError\u001b[0m                                  Traceback (most recent call last)",
      "File \u001b[0;32m/opt/homebrew/Caskroom/miniforge/base/envs/srrw/lib/python3.10/site-packages/pandas/core/indexes/base.py:3621\u001b[0m, in \u001b[0;36mIndex.get_loc\u001b[0;34m(self, key, method, tolerance)\u001b[0m\n\u001b[1;32m   <a href='file:///opt/homebrew/Caskroom/miniforge/base/envs/srrw/lib/python3.10/site-packages/pandas/core/indexes/base.py?line=3619'>3620</a>\u001b[0m \u001b[39mtry\u001b[39;00m:\n\u001b[0;32m-> <a href='file:///opt/homebrew/Caskroom/miniforge/base/envs/srrw/lib/python3.10/site-packages/pandas/core/indexes/base.py?line=3620'>3621</a>\u001b[0m     \u001b[39mreturn\u001b[39;00m \u001b[39mself\u001b[39;49m\u001b[39m.\u001b[39;49m_engine\u001b[39m.\u001b[39;49mget_loc(casted_key)\n\u001b[1;32m   <a href='file:///opt/homebrew/Caskroom/miniforge/base/envs/srrw/lib/python3.10/site-packages/pandas/core/indexes/base.py?line=3621'>3622</a>\u001b[0m \u001b[39mexcept\u001b[39;00m \u001b[39mKeyError\u001b[39;00m \u001b[39mas\u001b[39;00m err:\n",
      "File \u001b[0;32m/opt/homebrew/Caskroom/miniforge/base/envs/srrw/lib/python3.10/site-packages/pandas/_libs/index.pyx:136\u001b[0m, in \u001b[0;36mpandas._libs.index.IndexEngine.get_loc\u001b[0;34m()\u001b[0m\n",
      "File \u001b[0;32m/opt/homebrew/Caskroom/miniforge/base/envs/srrw/lib/python3.10/site-packages/pandas/_libs/index.pyx:163\u001b[0m, in \u001b[0;36mpandas._libs.index.IndexEngine.get_loc\u001b[0;34m()\u001b[0m\n",
      "File \u001b[0;32mpandas/_libs/hashtable_class_helper.pxi:5198\u001b[0m, in \u001b[0;36mpandas._libs.hashtable.PyObjectHashTable.get_item\u001b[0;34m()\u001b[0m\n",
      "File \u001b[0;32mpandas/_libs/hashtable_class_helper.pxi:5206\u001b[0m, in \u001b[0;36mpandas._libs.hashtable.PyObjectHashTable.get_item\u001b[0;34m()\u001b[0m\n",
      "\u001b[0;31mKeyError\u001b[0m: 'timestamp_of_peak'",
      "\nThe above exception was the direct cause of the following exception:\n",
      "\u001b[0;31mKeyError\u001b[0m                                  Traceback (most recent call last)",
      "\u001b[1;32m/Users/claykaufmann/Projects/srrw-anomaly-detection/finding_peaks/flat_pleateau.ipynb Cell 6'\u001b[0m in \u001b[0;36m<module>\u001b[0;34m\u001b[0m\n\u001b[1;32m     <a href='vscode-notebook-cell:/Users/claykaufmann/Projects/srrw-anomaly-detection/finding_peaks/flat_pleateau.ipynb#ch0000022?line=22'>23</a>\u001b[0m datetime_df \u001b[39m=\u001b[39m copy\u001b[39m.\u001b[39mdeepcopy(final_fdom_df)\n\u001b[1;32m     <a href='vscode-notebook-cell:/Users/claykaufmann/Projects/srrw-anomaly-detection/finding_peaks/flat_pleateau.ipynb#ch0000022?line=24'>25</a>\u001b[0m \u001b[39mfor\u001b[39;00m i, row \u001b[39min\u001b[39;00m datetime_df\u001b[39m.\u001b[39miterrows():\n\u001b[0;32m---> <a href='vscode-notebook-cell:/Users/claykaufmann/Projects/srrw-anomaly-detection/finding_peaks/flat_pleateau.ipynb#ch0000022?line=25'>26</a>\u001b[0m     jul_time \u001b[39m=\u001b[39m datetime_df\u001b[39m.\u001b[39;49mloc[i, \u001b[39m\"\u001b[39;49m\u001b[39mtimestamp_of_peak\u001b[39;49m\u001b[39m\"\u001b[39;49m]\n\u001b[1;32m     <a href='vscode-notebook-cell:/Users/claykaufmann/Projects/srrw-anomaly-detection/finding_peaks/flat_pleateau.ipynb#ch0000022?line=27'>28</a>\u001b[0m     dt \u001b[39m=\u001b[39m dp\u001b[39m.\u001b[39mjulian_to_datetime(jul_time)\n\u001b[1;32m     <a href='vscode-notebook-cell:/Users/claykaufmann/Projects/srrw-anomaly-detection/finding_peaks/flat_pleateau.ipynb#ch0000022?line=28'>29</a>\u001b[0m     dt \u001b[39m=\u001b[39m dt\u001b[39m.\u001b[39misoformat()\n",
      "File \u001b[0;32m/opt/homebrew/Caskroom/miniforge/base/envs/srrw/lib/python3.10/site-packages/pandas/core/indexing.py:960\u001b[0m, in \u001b[0;36m_LocationIndexer.__getitem__\u001b[0;34m(self, key)\u001b[0m\n\u001b[1;32m    <a href='file:///opt/homebrew/Caskroom/miniforge/base/envs/srrw/lib/python3.10/site-packages/pandas/core/indexing.py?line=957'>958</a>\u001b[0m     key \u001b[39m=\u001b[39m \u001b[39mtuple\u001b[39m(com\u001b[39m.\u001b[39mapply_if_callable(x, \u001b[39mself\u001b[39m\u001b[39m.\u001b[39mobj) \u001b[39mfor\u001b[39;00m x \u001b[39min\u001b[39;00m key)\n\u001b[1;32m    <a href='file:///opt/homebrew/Caskroom/miniforge/base/envs/srrw/lib/python3.10/site-packages/pandas/core/indexing.py?line=958'>959</a>\u001b[0m     \u001b[39mif\u001b[39;00m \u001b[39mself\u001b[39m\u001b[39m.\u001b[39m_is_scalar_access(key):\n\u001b[0;32m--> <a href='file:///opt/homebrew/Caskroom/miniforge/base/envs/srrw/lib/python3.10/site-packages/pandas/core/indexing.py?line=959'>960</a>\u001b[0m         \u001b[39mreturn\u001b[39;00m \u001b[39mself\u001b[39;49m\u001b[39m.\u001b[39;49mobj\u001b[39m.\u001b[39;49m_get_value(\u001b[39m*\u001b[39;49mkey, takeable\u001b[39m=\u001b[39;49m\u001b[39mself\u001b[39;49m\u001b[39m.\u001b[39;49m_takeable)\n\u001b[1;32m    <a href='file:///opt/homebrew/Caskroom/miniforge/base/envs/srrw/lib/python3.10/site-packages/pandas/core/indexing.py?line=960'>961</a>\u001b[0m     \u001b[39mreturn\u001b[39;00m \u001b[39mself\u001b[39m\u001b[39m.\u001b[39m_getitem_tuple(key)\n\u001b[1;32m    <a href='file:///opt/homebrew/Caskroom/miniforge/base/envs/srrw/lib/python3.10/site-packages/pandas/core/indexing.py?line=961'>962</a>\u001b[0m \u001b[39melse\u001b[39;00m:\n\u001b[1;32m    <a href='file:///opt/homebrew/Caskroom/miniforge/base/envs/srrw/lib/python3.10/site-packages/pandas/core/indexing.py?line=962'>963</a>\u001b[0m     \u001b[39m# we by definition only have the 0th axis\u001b[39;00m\n",
      "File \u001b[0;32m/opt/homebrew/Caskroom/miniforge/base/envs/srrw/lib/python3.10/site-packages/pandas/core/frame.py:3616\u001b[0m, in \u001b[0;36mDataFrame._get_value\u001b[0;34m(self, index, col, takeable)\u001b[0m\n\u001b[1;32m   <a href='file:///opt/homebrew/Caskroom/miniforge/base/envs/srrw/lib/python3.10/site-packages/pandas/core/frame.py?line=3612'>3613</a>\u001b[0m     series \u001b[39m=\u001b[39m \u001b[39mself\u001b[39m\u001b[39m.\u001b[39m_ixs(col, axis\u001b[39m=\u001b[39m\u001b[39m1\u001b[39m)\n\u001b[1;32m   <a href='file:///opt/homebrew/Caskroom/miniforge/base/envs/srrw/lib/python3.10/site-packages/pandas/core/frame.py?line=3613'>3614</a>\u001b[0m     \u001b[39mreturn\u001b[39;00m series\u001b[39m.\u001b[39m_values[index]\n\u001b[0;32m-> <a href='file:///opt/homebrew/Caskroom/miniforge/base/envs/srrw/lib/python3.10/site-packages/pandas/core/frame.py?line=3615'>3616</a>\u001b[0m series \u001b[39m=\u001b[39m \u001b[39mself\u001b[39;49m\u001b[39m.\u001b[39;49m_get_item_cache(col)\n\u001b[1;32m   <a href='file:///opt/homebrew/Caskroom/miniforge/base/envs/srrw/lib/python3.10/site-packages/pandas/core/frame.py?line=3616'>3617</a>\u001b[0m engine \u001b[39m=\u001b[39m \u001b[39mself\u001b[39m\u001b[39m.\u001b[39mindex\u001b[39m.\u001b[39m_engine\n\u001b[1;32m   <a href='file:///opt/homebrew/Caskroom/miniforge/base/envs/srrw/lib/python3.10/site-packages/pandas/core/frame.py?line=3618'>3619</a>\u001b[0m \u001b[39mif\u001b[39;00m \u001b[39mnot\u001b[39;00m \u001b[39misinstance\u001b[39m(\u001b[39mself\u001b[39m\u001b[39m.\u001b[39mindex, MultiIndex):\n\u001b[1;32m   <a href='file:///opt/homebrew/Caskroom/miniforge/base/envs/srrw/lib/python3.10/site-packages/pandas/core/frame.py?line=3619'>3620</a>\u001b[0m     \u001b[39m# CategoricalIndex: Trying to use the engine fastpath may give incorrect\u001b[39;00m\n\u001b[1;32m   <a href='file:///opt/homebrew/Caskroom/miniforge/base/envs/srrw/lib/python3.10/site-packages/pandas/core/frame.py?line=3620'>3621</a>\u001b[0m     \u001b[39m#  results if our categories are integers that dont match our codes\u001b[39;00m\n\u001b[1;32m   <a href='file:///opt/homebrew/Caskroom/miniforge/base/envs/srrw/lib/python3.10/site-packages/pandas/core/frame.py?line=3621'>3622</a>\u001b[0m     \u001b[39m# IntervalIndex: IntervalTree has no get_loc\u001b[39;00m\n",
      "File \u001b[0;32m/opt/homebrew/Caskroom/miniforge/base/envs/srrw/lib/python3.10/site-packages/pandas/core/frame.py:3939\u001b[0m, in \u001b[0;36mDataFrame._get_item_cache\u001b[0;34m(self, item)\u001b[0m\n\u001b[1;32m   <a href='file:///opt/homebrew/Caskroom/miniforge/base/envs/srrw/lib/python3.10/site-packages/pandas/core/frame.py?line=3933'>3934</a>\u001b[0m res \u001b[39m=\u001b[39m cache\u001b[39m.\u001b[39mget(item)\n\u001b[1;32m   <a href='file:///opt/homebrew/Caskroom/miniforge/base/envs/srrw/lib/python3.10/site-packages/pandas/core/frame.py?line=3934'>3935</a>\u001b[0m \u001b[39mif\u001b[39;00m res \u001b[39mis\u001b[39;00m \u001b[39mNone\u001b[39;00m:\n\u001b[1;32m   <a href='file:///opt/homebrew/Caskroom/miniforge/base/envs/srrw/lib/python3.10/site-packages/pandas/core/frame.py?line=3935'>3936</a>\u001b[0m     \u001b[39m# All places that call _get_item_cache have unique columns,\u001b[39;00m\n\u001b[1;32m   <a href='file:///opt/homebrew/Caskroom/miniforge/base/envs/srrw/lib/python3.10/site-packages/pandas/core/frame.py?line=3936'>3937</a>\u001b[0m     \u001b[39m#  pending resolution of GH#33047\u001b[39;00m\n\u001b[0;32m-> <a href='file:///opt/homebrew/Caskroom/miniforge/base/envs/srrw/lib/python3.10/site-packages/pandas/core/frame.py?line=3938'>3939</a>\u001b[0m     loc \u001b[39m=\u001b[39m \u001b[39mself\u001b[39;49m\u001b[39m.\u001b[39;49mcolumns\u001b[39m.\u001b[39;49mget_loc(item)\n\u001b[1;32m   <a href='file:///opt/homebrew/Caskroom/miniforge/base/envs/srrw/lib/python3.10/site-packages/pandas/core/frame.py?line=3939'>3940</a>\u001b[0m     res \u001b[39m=\u001b[39m \u001b[39mself\u001b[39m\u001b[39m.\u001b[39m_ixs(loc, axis\u001b[39m=\u001b[39m\u001b[39m1\u001b[39m)\n\u001b[1;32m   <a href='file:///opt/homebrew/Caskroom/miniforge/base/envs/srrw/lib/python3.10/site-packages/pandas/core/frame.py?line=3941'>3942</a>\u001b[0m     cache[item] \u001b[39m=\u001b[39m res\n",
      "File \u001b[0;32m/opt/homebrew/Caskroom/miniforge/base/envs/srrw/lib/python3.10/site-packages/pandas/core/indexes/base.py:3623\u001b[0m, in \u001b[0;36mIndex.get_loc\u001b[0;34m(self, key, method, tolerance)\u001b[0m\n\u001b[1;32m   <a href='file:///opt/homebrew/Caskroom/miniforge/base/envs/srrw/lib/python3.10/site-packages/pandas/core/indexes/base.py?line=3620'>3621</a>\u001b[0m     \u001b[39mreturn\u001b[39;00m \u001b[39mself\u001b[39m\u001b[39m.\u001b[39m_engine\u001b[39m.\u001b[39mget_loc(casted_key)\n\u001b[1;32m   <a href='file:///opt/homebrew/Caskroom/miniforge/base/envs/srrw/lib/python3.10/site-packages/pandas/core/indexes/base.py?line=3621'>3622</a>\u001b[0m \u001b[39mexcept\u001b[39;00m \u001b[39mKeyError\u001b[39;00m \u001b[39mas\u001b[39;00m err:\n\u001b[0;32m-> <a href='file:///opt/homebrew/Caskroom/miniforge/base/envs/srrw/lib/python3.10/site-packages/pandas/core/indexes/base.py?line=3622'>3623</a>\u001b[0m     \u001b[39mraise\u001b[39;00m \u001b[39mKeyError\u001b[39;00m(key) \u001b[39mfrom\u001b[39;00m \u001b[39merr\u001b[39;00m\n\u001b[1;32m   <a href='file:///opt/homebrew/Caskroom/miniforge/base/envs/srrw/lib/python3.10/site-packages/pandas/core/indexes/base.py?line=3623'>3624</a>\u001b[0m \u001b[39mexcept\u001b[39;00m \u001b[39mTypeError\u001b[39;00m:\n\u001b[1;32m   <a href='file:///opt/homebrew/Caskroom/miniforge/base/envs/srrw/lib/python3.10/site-packages/pandas/core/indexes/base.py?line=3624'>3625</a>\u001b[0m     \u001b[39m# If we have a listlike key, _check_indexing_error will raise\u001b[39;00m\n\u001b[1;32m   <a href='file:///opt/homebrew/Caskroom/miniforge/base/envs/srrw/lib/python3.10/site-packages/pandas/core/indexes/base.py?line=3625'>3626</a>\u001b[0m     \u001b[39m#  InvalidIndexError. Otherwise we fall through and re-raise\u001b[39;00m\n\u001b[1;32m   <a href='file:///opt/homebrew/Caskroom/miniforge/base/envs/srrw/lib/python3.10/site-packages/pandas/core/indexes/base.py?line=3626'>3627</a>\u001b[0m     \u001b[39m#  the TypeError.\u001b[39;00m\n\u001b[1;32m   <a href='file:///opt/homebrew/Caskroom/miniforge/base/envs/srrw/lib/python3.10/site-packages/pandas/core/indexes/base.py?line=3627'>3628</a>\u001b[0m     \u001b[39mself\u001b[39m\u001b[39m.\u001b[39m_check_indexing_error(key)\n",
      "\u001b[0;31mKeyError\u001b[0m: 'timestamp_of_peak'"
     ]
    }
   ],
   "source": [
    "raw_fdom_df = pd.DataFrame(fDOM_data)\n",
    "raw_fdom_df.columns = [\"timestamp_of_peak\", \"value_of_peak\"]\n",
    "\n",
    "final_fdom_df = cands_manual_df.join(raw_fdom_df)\n",
    "\n",
    "final_fdom_df = final_fdom_df.reset_index()\n",
    "\n",
    "del final_fdom_df[\"left_base\"]\n",
    "del final_fdom_df[\"right_base\"]\n",
    "\n",
    "final_fdom_df[\"label_of_peak\"] = \"FPT\"\n",
    "\n",
    "final_fdom_df = final_fdom_df.reindex(\n",
    "    columns=[\"timestamp_of_peak\", \"value_of_peak\", \"label_of_peak\", \"idx_of_peak\"]\n",
    ")\n",
    "print(final_fdom_df)\n",
    "\n",
    "csv_path_julian_fdom = \"../Data/labeled_data/ground_truths/fDOM/fDOM_FPT/julian_time/fDOM_FPT_0k-300k.csv\"\n",
    "csv_path_datetime_fdom = \"../Data/labeled_data/ground_truths/fDOM/fDOM_FPT/datetime/fDOM_FPT_0k-300k.csv\"\n",
    "\n",
    "datetime_df = copy.deepcopy(final_fdom_df)\n",
    "\n",
    "for i, row in datetime_df.iterrows():\n",
    "    jul_time = datetime_df.loc[i, \"timestamp_of_peak\"]\n",
    "\n",
    "    dt = dp.julian_to_datetime(jul_time)\n",
    "    dt = dt.isoformat()\n",
    "\n",
    "    datetime_df.loc[i, \"timestamp_of_peak\"] = dt\n",
    "\n",
    "final_fdom_df = final_fdom_df.set_index(\"timestamp_of_peak\")\n",
    "datetime_df = datetime_df.set_index(\"timestamp_of_peak\")\n",
    "final_fdom_df.to_csv(csv_path_julian_fdom)\n",
    "datetime_df.to_csv(csv_path_datetime_fdom)"
   ]
  },
  {
   "cell_type": "markdown",
   "metadata": {},
   "source": [
    "### Get candidates"
   ]
  },
  {
   "cell_type": "code",
   "execution_count": null,
   "metadata": {},
   "outputs": [],
   "source": [
    "def get_plateaus(data, threshold):\n",
    "    \"\"\"\n",
    "    gets plateaus from time-series data\n",
    "\n",
    "    invert time-series data to find flat plateaus??\n",
    "    \"\"\""
   ]
  },
  {
   "cell_type": "code",
   "execution_count": null,
   "metadata": {},
   "outputs": [],
   "source": [
    "# Base function attempt\n",
    "# FIXME: this does not correctly detect any\n",
    "\n",
    "\n",
    "cands = auxiliary_functions.detect_flat_plat(fDOM_data, 100, 40)\n",
    "\n",
    "indices = []\n",
    "for i in range(cands.shape[0]):\n",
    "    if cands[i] == 1:\n",
    "        indices.append(i)\n"
   ]
  },
  {
   "cell_type": "markdown",
   "metadata": {},
   "source": [
    "### Create dataframes"
   ]
  },
  {
   "cell_type": "code",
   "execution_count": null,
   "metadata": {},
   "outputs": [],
   "source": [
    "# Create dataframe\n",
    "# get the beginning and ending of each plateau\n",
    "last_val = -1\n",
    "start_idx = -1\n",
    "end_idx = -1\n",
    "\n",
    "start_indices = []\n",
    "end_indices = []\n",
    "\n",
    "for idx, val in enumerate(indices):\n",
    "    if val != last_val + 1:\n",
    "        # we are now in a new peak, save stuff\n",
    "        start_idx = val\n",
    "        start_indices.append(start_idx)\n",
    "\n",
    "        end_idx = last_val\n",
    "        end_indices.append(end_idx)\n",
    "\n",
    "    elif idx + 1 == len(indices):\n",
    "        end_indices.append(val)\n",
    "\n",
    "    # set last val\n",
    "    last_val = val\n",
    "\n",
    "# drop first index in end indices\n",
    "del end_indices[0]\n",
    "\n",
    "cands = [[]]\n",
    "for i in range(len(start_indices)):\n",
    "    cands.append([start_indices[i], start_indices[i], end_indices[i]])\n",
    "\n",
    "# create dataframe\n",
    "cands_df_fdom = pd.DataFrame(cands)\n",
    "cands_df_fdom.columns = [\"idx_of_peak\", \"left_base\", \"right_base\"]\n",
    "\n",
    "# drop first row\n",
    "cands_df_fdom = cands_df_fdom.drop([0])\n",
    "\n",
    "# set index\n",
    "cands_df_fdom = cands_df_fdom.set_index(\"idx_of_peak\")\n",
    "\n",
    "# merge raw data with candidates on peak index\n",
    "raw_fdom_df = pd.DataFrame(fDOM_data)\n",
    "raw_fdom_df.columns = [\"timestamp_of_peak\", \"value_of_peak\"]\n",
    "total_df_fdom = cands_df_fdom.join(raw_fdom_df)\n",
    "\n",
    "# reset index\n",
    "total_df_fdom = total_df_fdom.reset_index()\n",
    "\n",
    "# drop unneedeed cols\n",
    "del total_df_fdom['left_base']\n",
    "del total_df_fdom['right_base']\n",
    "\n",
    "total_df_fdom['label_of_peak'] = \"NFPT\" # set label to be not a flat plateau\n",
    "\n",
    "total_df_fdom = total_df_fdom.reindex(columns=['timestamp_of_peak', 'value_of_peak', 'label_of_peak', \"idx_of_peak\"])\n",
    "\n",
    "print(total_df_fdom)"
   ]
  },
  {
   "cell_type": "markdown",
   "metadata": {},
   "source": [
    "### Create julian and datetime format df's"
   ]
  },
  {
   "cell_type": "code",
   "execution_count": null,
   "metadata": {},
   "outputs": [],
   "source": [
    "julian_fdom = copy.deepcopy(total_df_fdom)\n",
    "datetime_fdom = copy.deepcopy(total_df_fdom)\n",
    "\n",
    "for i, row in datetime_fdom.iterrows():\n",
    "    jul_time = datetime_fdom.loc[i, \"timestamp_of_peak\"]\n",
    "\n",
    "    dt = dp.julian_to_datetime(jul_time)\n",
    "    dt = dt.isoformat()\n",
    "\n",
    "    # set new time\n",
    "    datetime_fdom.loc[i, \"timestamp_of_peak\"] = dt\n",
    "\n",
    "print(julian_fdom)"
   ]
  },
  {
   "cell_type": "markdown",
   "metadata": {},
   "source": [
    "## Turbidity Plateaus"
   ]
  },
  {
   "cell_type": "markdown",
   "metadata": {},
   "source": [
    "### Get candidate list"
   ]
  },
  {
   "cell_type": "code",
   "execution_count": null,
   "metadata": {},
   "outputs": [],
   "source": [
    "# Base function attempt\n",
    "cands = auxiliary_functions.detect_flat_plat(turb_data, 100, 40)\n",
    "\n",
    "turb_flat_plat_indxs = []\n",
    "for i in range(cands.shape[0]):\n",
    "    if cands[i] == 1:\n",
    "        turb_flat_plat_indxs.append(i)\n"
   ]
  },
  {
   "cell_type": "markdown",
   "metadata": {},
   "source": [
    "### Create dataframes"
   ]
  },
  {
   "cell_type": "code",
   "execution_count": null,
   "metadata": {},
   "outputs": [],
   "source": [
    "# create dataframe\n",
    "last_val = -1\n",
    "start_idx = -1\n",
    "end_idx = -1\n",
    "\n",
    "start_indices = []\n",
    "end_indices = []\n",
    "\n",
    "for idx, val in enumerate(turb_flat_plat_indxs):\n",
    "    if val != last_val + 1:\n",
    "        # we are now in a new peak, save stuff\n",
    "        start_idx = val\n",
    "        start_indices.append(start_idx)\n",
    "\n",
    "        end_idx = last_val\n",
    "        end_indices.append(end_idx)\n",
    "\n",
    "    elif idx + 1 == len(turb_flat_plat_indxs):\n",
    "        end_indices.append(val)\n",
    "\n",
    "    # set last val\n",
    "    last_val = val\n",
    "\n",
    "# drop first index in end indices\n",
    "del end_indices[0]\n",
    "\n",
    "cands = [[]]\n",
    "for i in range(len(start_indices)):\n",
    "    cands.append([start_indices[i], start_indices[i], end_indices[i]])\n",
    "\n",
    "# create dataframe\n",
    "cands_df_turb = pd.DataFrame(cands)\n",
    "cands_df_turb.columns = [\"idx_of_peak\", \"left_base\", \"right_base\"]\n",
    "\n",
    "# drop first row\n",
    "cands_df_turb = cands_df_turb.drop([0])\n",
    "\n",
    "# set index\n",
    "cands_df_turb = cands_df_turb.set_index(\"idx_of_peak\")\n",
    "\n",
    "# merge raw data with candidates on peak index\n",
    "raw_turb_df = pd.DataFrame(turb_data)\n",
    "raw_turb_df.columns = [\"timestamp_of_peak\", \"value_of_peak\"]\n",
    "total_df_turb = cands_df_turb.join(raw_turb_df)\n",
    "\n",
    "# reset index\n",
    "total_df_turb = total_df_turb.reset_index()\n",
    "\n",
    "# drop unneedeed cols\n",
    "del total_df_turb['left_base']\n",
    "del total_df_turb['right_base']\n",
    "\n",
    "total_df_turb['label_of_peak'] = \"NFPT\" # set label to be not a flat plateau\n",
    "\n",
    "total_df_turb = total_df_turb.reindex(columns=['timestamp_of_peak', 'value_of_peak', 'label_of_peak', \"idx_of_peak\"])\n",
    "\n",
    "print(total_df_turb)"
   ]
  },
  {
   "cell_type": "markdown",
   "metadata": {},
   "source": [
    "### Create julian and datetime formats"
   ]
  },
  {
   "cell_type": "code",
   "execution_count": null,
   "metadata": {},
   "outputs": [],
   "source": [
    "julian_turb = copy.deepcopy(total_df_turb)\n",
    "datetime_turb = copy.deepcopy(total_df_turb)\n",
    "\n",
    "for i, row in datetime_turb.iterrows():\n",
    "    jul_time = datetime_turb.loc[i, \"timestamp_of_peak\"]\n",
    "\n",
    "    dt = dp.julian_to_datetime(jul_time)\n",
    "    dt = dt.isoformat()\n",
    "\n",
    "    # set new time\n",
    "    datetime_turb.loc[i, \"timestamp_of_peak\"] = dt\n"
   ]
  },
  {
   "cell_type": "markdown",
   "metadata": {},
   "source": [
    "## Output to CSV"
   ]
  },
  {
   "cell_type": "code",
   "execution_count": null,
   "metadata": {},
   "outputs": [],
   "source": [
    "# set index to be timestamp of peak\n",
    "\n",
    "# fDOM\n",
    "julian_fdom = julian_fdom.set_index(\"timestamp_of_peak\")\n",
    "datetime_fdom = datetime_fdom.set_index(\"timestamp_of_peak\")\n",
    "\n",
    "# turbidity\n",
    "julian_turb = julian_turb.set_index(\"timestamp_of_peak\")\n",
    "datetime_turb = datetime_turb.set_index(\"timestamp_of_peak\")\n",
    "\n",
    "# set path\n",
    "csv_path_julian_fdom = \"../Data/labeled_data/ground_truths/fDOM/fDOM_FPT/julian_time/fDOM_FPT_0k-300k.csv\"\n",
    "csv_path_datetime_fdom = \"../Data/labeled_data/ground_truths/fDOM/fDOM_FPT/datetime/fDOM_FPT_0k-300k.csv\"\n",
    "\n",
    "csv_path_julian_turb = \"../Data/labeled_data/ground_truths/turb/turb_fpt/julian_time/turb_FPT_0k-300k_labeled.csv\"\n",
    "csv_path_datetime_turb = \"../Data/labeled_data/ground_truths/turb/turb_fpt/datetime/turb_FPT_0k-300k_labeled.csv\"\n",
    "\n",
    "# write to csv \n",
    "# NOTE: commented out, as that would remove data\n",
    "julian_fdom.to_csv(csv_path_julian_fdom)\n",
    "datetime_fdom.to_csv(csv_path_datetime_fdom)\n",
    "\n",
    "# julian_turb.to_csv(csv_path_julian_turb)\n",
    "# #datetime_turb.to_csv(csv_path_datetime_turb)"
   ]
  }
 ],
 "metadata": {
  "interpreter": {
   "hash": "8ed753961bdc37ee89b4275051722ceb8ec0b57b8793db9d189305c313070a7d"
  },
  "kernelspec": {
   "display_name": "Python 3.10.2 ('srrw')",
   "language": "python",
   "name": "python3"
  },
  "language_info": {
   "codemirror_mode": {
    "name": "ipython",
    "version": 3
   },
   "file_extension": ".py",
   "mimetype": "text/x-python",
   "name": "python",
   "nbconvert_exporter": "python",
   "pygments_lexer": "ipython3",
   "version": "3.10.2"
  },
  "orig_nbformat": 4
 },
 "nbformat": 4,
 "nbformat_minor": 2
}
