{
 "cells": [
  {
   "cell_type": "code",
   "execution_count": 1,
   "metadata": {},
   "outputs": [],
   "source": [
    "import scipy.io as sio\n",
    "from scipy.signal import find_peaks\n",
    "import pandas as pd\n",
    "import numpy as np\n",
    "import copy\n",
    "import sys\n",
    "sys.path.insert(1,'../')\n",
    "from Tools.auxiliary_functions import get_candidates, detect_flat_plat, detect_stage_rises\n",
    "import Tools.data_processing as dp\n",
    "import Tools.data_movement as dm\n",
    "import math\n",
    "\n",
    "# better print options for checking dataframes\n",
    "pd.set_option('display.max_rows', None)\n",
    "pd.set_option('display.max_columns', None)\n",
    "pd.set_option('display.width', 1000)\n",
    "pd.set_option('display.colheader_justify', 'center')\n",
    "pd.set_option('display.precision', 10)"
   ]
  },
  {
   "cell_type": "code",
   "execution_count": 5,
   "metadata": {},
   "outputs": [],
   "source": [
    "turb_data = dm.read_in_preprocessed_timeseries('../Data/converted_data/julian_format/turbidity_raw_10.1.2011_9.4.2020.csv')"
   ]
  },
  {
   "cell_type": "markdown",
   "metadata": {},
   "source": [
    "## Turbidity PLP Peaks\n",
    "Use what we have for fDOM to find turb peaks"
   ]
  },
  {
   "cell_type": "code",
   "execution_count": 6,
   "metadata": {},
   "outputs": [
    {
     "name": "stdout",
     "output_type": "stream",
     "text": [
      "             left_ips  right_ips  prominence\n",
      "idx_of_peak                                 \n",
      "1983             1976       1987   13.722430\n",
      "3275             3273       3276   13.846119\n",
      "3298             3296       3299   29.266823\n",
      "3713             3712       3714    3.140680\n",
      "5922             5918       5924    5.351676\n",
      "...               ...        ...         ...\n",
      "228613         228611     228615    5.543963\n",
      "228623         228621     228624    3.402510\n",
      "228625         228624     228626    4.121580\n",
      "228682         228680     228684    5.227082\n",
      "228701         228698     228702    4.457855\n",
      "\n",
      "[924 rows x 3 columns]\n"
     ]
    },
    {
     "name": "stderr",
     "output_type": "stream",
     "text": [
      "/var/folders/3w/lhkpgfc505n81_2vs8svxfpr0000gn/T/ipykernel_91963/3686065251.py:12: PeakPropertyWarning: some peaks have a prominence of 0\n",
      "  peaks, props = find_peaks(\n"
     ]
    }
   ],
   "source": [
    "# flip time series\n",
    "flipped_turb = dp.flip_timeseries(copy.deepcopy(turb_data))\n",
    "\n",
    "# get plummeting peak cand set\n",
    "# TODO: modify these params\n",
    "prominence_range = [3, None]  # peaks must have at least prominence 3\n",
    "width_range = [None, 10]  # peaks cannot have a base width of more than 5\n",
    "wlen = 100\n",
    "distance = 1\n",
    "rel_height = 0.6\n",
    "\n",
    "peaks, props = find_peaks(\n",
    "    flipped_turb[\n",
    "        :,1\n",
    "    ],\n",
    "    height=(None, None),\n",
    "    threshold=(None, None),\n",
    "    distance=distance,\n",
    "    prominence=prominence_range,\n",
    "    width=width_range,\n",
    "    wlen=wlen,\n",
    "    rel_height=rel_height,\n",
    ")\n",
    "\n",
    "cands = [\n",
    "    [\n",
    "        peak,\n",
    "        math.floor(props[\"left_ips\"][i]),\n",
    "        math.ceil(props[\"right_ips\"][i]),\n",
    "        props[\"prominences\"][i],\n",
    "    ]\n",
    "    for i, peak in enumerate(peaks)\n",
    "]\n",
    "\n",
    "cands_df = pd.DataFrame(cands)\n",
    "cands_df.columns = [\"idx_of_peak\", \"left_ips\", \"right_ips\", \"prominence\"]\n",
    "cands_df = cands_df.set_index(\"idx_of_peak\")\n",
    "\n",
    "print(cands_df)\n"
   ]
  },
  {
   "cell_type": "code",
   "execution_count": 7,
   "metadata": {},
   "outputs": [],
   "source": [
    "raw_turb_df = pd.DataFrame(turb_data)\n",
    "raw_turb_df.columns = [\"timestamp_of_peak\", \"value_of_peak\"]\n",
    "\n",
    "total_df = cands_df.join(raw_turb_df)\n",
    "\n",
    "total_df = total_df.reset_index()\n",
    "\n",
    "del total_df['left_ips']\n",
    "del total_df['right_ips']\n",
    "del total_df['prominence']\n",
    "\n",
    "# set default label value for all to be NPLP\n",
    "total_df['label_of_peak'] = \"NPLP\"\n",
    "\n",
    "# reorder cols\n",
    "total_df = total_df.reindex(columns=[\"timestamp_of_peak\", \"value_of_peak\", \"label_of_peak\", \"idx_of_peak\"])"
   ]
  },
  {
   "cell_type": "code",
   "execution_count": 8,
   "metadata": {},
   "outputs": [],
   "source": [
    "# rename to julian time df\n",
    "final_julian_df = copy.deepcopy(total_df)\n",
    "\n",
    "# create datetime df\n",
    "final_datetime_df = copy.deepcopy(total_df)\n",
    "\n",
    "# convert julian times to datetimes\n",
    "\n",
    "for i, row in final_datetime_df.iterrows():\n",
    "    # convert float to datetime\n",
    "    jul_time = final_datetime_df.loc[i, \"timestamp_of_peak\"]\n",
    "\n",
    "    dt = dp.julian_to_datetime(jul_time)\n",
    "    dt = dt.isoformat()\n",
    "\n",
    "    # set new time\n",
    "    final_datetime_df.loc[i, \"timestamp_of_peak\"] = dt"
   ]
  },
  {
   "cell_type": "code",
   "execution_count": null,
   "metadata": {},
   "outputs": [],
   "source": [
    "# set df index to be timestamp of peak\n",
    "final_julian_df = final_julian_df.set_index(\"timestamp_of_peak\")\n",
    "final_datetime_df = final_datetime_df.set_index(\"timestamp_of_peak\")\n",
    "\n",
    "# set path\n",
    "csv_path_julian = \"../Data/labeled_data/ground_truths/turb/turb_plp/julian_time/turb_PLP_0k-300k_labeled.csv\"\n",
    "csv_path_datetime = \"../Data/labeled_data/ground_truths/turb/turb_plp/datetime/turb_PLP_0k-300k_labeled.csv\"\n",
    "\n",
    "# write to csv\n",
    "final_julian_df.to_csv(csv_path_julian)\n",
    "final_datetime_df.to_csv(csv_path_datetime)"
   ]
  }
 ],
 "metadata": {
  "interpreter": {
   "hash": "8ed753961bdc37ee89b4275051722ceb8ec0b57b8793db9d189305c313070a7d"
  },
  "kernelspec": {
   "display_name": "Python 3.10.2 ('srrw')",
   "language": "python",
   "name": "python3"
  },
  "language_info": {
   "codemirror_mode": {
    "name": "ipython",
    "version": 3
   },
   "file_extension": ".py",
   "mimetype": "text/x-python",
   "name": "python",
   "nbconvert_exporter": "python",
   "pygments_lexer": "ipython3",
   "version": "3.10.2"
  },
  "orig_nbformat": 4
 },
 "nbformat": 4,
 "nbformat_minor": 2
}
