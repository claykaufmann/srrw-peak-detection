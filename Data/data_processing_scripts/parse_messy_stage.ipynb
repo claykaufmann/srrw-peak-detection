{
 "cells": [
  {
   "cell_type": "code",
   "execution_count": 12,
   "id": "a3bbb77f-433c-4938-a0a3-75fa411fa221",
   "metadata": {},
   "outputs": [],
   "source": [
    "# Stage data formatting is different than that of fDOM and turbidity\n",
    "import csv\n",
    "import sys\n",
    "import datetime\n",
    "sys.path.insert(1,'../')\n",
    "from Tools.data_processing import datetime_to_julian\n",
    "\n",
    "def parse_stage_data(args):\n",
    "    \"\"\"\n",
    "    Parse messy stage data (as we recieve it) to useful format \n",
    "    \n",
    "    args: list containing:\n",
    "            - file path to messy data \n",
    "            - file path where parsed data will be written out to \n",
    "            - desired format of timestamps: \"julian\" or \"standard\" datetime\n",
    "    \"\"\"\n",
    "    data = []\n",
    "    # Read in data \n",
    "    with open(args[0], newline='') as in_file:\n",
    "        reader = csv.reader(in_file, delimiter ='\\t')\n",
    "        next(reader) # drop headers\n",
    "        for row in reader:\n",
    "            data.append(row)\n",
    "        in_file.close()\n",
    "        \n",
    "    valid_min = [0,15,30,45]\n",
    "    time_delta = datetime.timedelta(seconds = 1)\n",
    "    # Write out data \n",
    "    with open(args[1], 'w',newline = '') as out_file:\n",
    "        writer = csv.writer(out_file, delimiter = ',')\n",
    "        for row in data:  \n",
    "            date = datetime.datetime.strptime(row[0],'%m/%d/%Y %H:%M:%S')\n",
    "            \n",
    "            # Remove violating entries\n",
    "            if date.second != 0: \n",
    "                date+=time_delta\n",
    "            if date.minute in valid_min:\n",
    "                if args[2].lower() == 'julian':\n",
    "                    date = datetime_to_julian(date)\n",
    "                writer.writerow([str(date),row[1]])\n",
    "\n",
    "args = ['/Users/zachfogg/Desktop/DB-SRRW/Data/messy_data/Stage_10.1.12-1.1.19.txt',\n",
    "        '/Users/zachfogg/Desktop/DB-SRRW/Data/converted_data/julian_format/stage_10.1.12-1.1.19.csv',\n",
    "        'julian']\n",
    "parse_stage_data(args)"
   ]
  }
 ],
 "metadata": {
  "kernelspec": {
   "display_name": "Python 3 (ipykernel)",
   "language": "python",
   "name": "python3"
  },
  "language_info": {
   "codemirror_mode": {
    "name": "ipython",
    "version": 3
   },
   "file_extension": ".py",
   "mimetype": "text/x-python",
   "name": "python",
   "nbconvert_exporter": "python",
   "pygments_lexer": "ipython3",
   "version": "3.9.6"
  }
 },
 "nbformat": 4,
 "nbformat_minor": 5
}
