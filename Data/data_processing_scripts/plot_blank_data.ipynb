{
 "cells": [
  {
   "cell_type": "markdown",
   "id": "a5eafed3-db1e-4445-8fe8-b94de90fd1e7",
   "metadata": {},
   "source": [
    "## Load Data and Packages"
   ]
  },
  {
   "cell_type": "code",
   "execution_count": 6,
   "id": "a28392e1-a731-49f8-abc3-8afd74f9adf0",
   "metadata": {},
   "outputs": [],
   "source": [
    "# Import libraries and data 229623\n",
    "import scipy.io as sio\n",
    "import numpy as np\n",
    "from scipy.signal import find_peaks\n",
    "from os.path import dirname, join as pjoin\n",
    "import datetime\n",
    "import csv\n",
    "import sys\n",
    "sys.path.insert(1,'../')\n",
    "import Tools.data_processing as dp\n",
    "import Tools.data_movement as dm \n",
    "from auxiliary_functions import extract_runoff, get_stage_events\n",
    "\n",
    "fDOM_raw_data = dm.read_in_preprocessed_timeseries('/Users/zachfogg/Desktop/DB-SRRW/Data/converted_data/julian_format/fDOM_raw_10.1.2011-9.4.2020.csv')\n",
    "stage_data = dm.read_in_preprocessed_timeseries('/Users/zachfogg/Desktop/DB-SRRW/Data/converted_data/julian_format/stage_10.1.11-1.1.19.csv')\n",
    "turb_data = dm.read_in_preprocessed_timeseries('/Users/zachfogg/Desktop/DB-SRRW/Data/converted_data/julian_format/turbidity_raw_10.1.2011_9.4.2020.csv')\n",
    "\n",
    "dm.write_data_to_trainset(\n",
    "                        fDOM_raw_data,\n",
    "                        stage_data, \n",
    "                        turb_data,\n",
    "                        '/Users/zachfogg/Desktop/DB-SRRW/Data/manual_annotating_data/non_annotated_data/blank_0k-100k.csv',\n",
    "                        False, True,\n",
    "                        0,100000)\n"
   ]
  },
  {
   "cell_type": "code",
   "execution_count": 10,
   "id": "9d7ce109-d820-4146-8337-1d7c58086bc1",
   "metadata": {},
   "outputs": [
    {
     "name": "stdout",
     "output_type": "stream",
     "text": [
      "0:00:00.004888\n"
     ]
    }
   ],
   "source": [
    "from scipy.signal import find_peaks\n",
    "\n",
    "prominence_range = [.01,None]\n",
    "width_range = [None,None]\n",
    "wlen = 500\n",
    "distance = 1\n",
    "rel_height =1.0\n",
    "\n",
    "# data = fDOM_raw_data[:100000][:,1]\n",
    "\n",
    "# Get list of all peaks that could possibly be sharp peaks\n",
    "start = datetime.datetime.now()\n",
    "stage_peaks, props = find_peaks(stage_data[:,1],\n",
    "                          height = (None, None),\n",
    "                          threshold = (None,None),\n",
    "                          distance = distance,\n",
    "                          prominence = prominence_range,\n",
    "                          width = width_range,\n",
    "                          wlen = wlen,\n",
    "                          rel_height = rel_height)\n",
    "print(datetime.datetime.now() - start)\n",
    "def detected_peak_to_event(data: np.ndarray, left_ips: float, right_ips: float):\n",
    "    # Use left_ips, right_ips to determine start and end of event \n",
    "    left_ips = round(left_ips)\n",
    "    right_ips = round(right_ips)\n",
    "    event = []\n",
    "    for i in range(left_ips, right_ips+1):\n",
    "        event.append(data[i])\n",
    "    return np.array(event)\n",
    "\n",
    "def detected_peak_to_3point(data: np.ndarray, peak : int):\n",
    "    return np.array((data[peak-1], data[peak], data[peak+1]))\n",
    "# Iterate through peaks and write to list \n",
    "stage_events = []\n",
    "# for i in range(len(props['left_ips'])):\n",
    "#     stage_events.append(detected_peak_to_event(stage_data, props['left_ips'][i],props['right_ips'][i]))\n",
    "for peak in stage_peaks:\n",
    "            stage_events.append(detected_peak_to_3point(stage_data, peak))"
   ]
  },
  {
   "cell_type": "code",
   "execution_count": null,
   "id": "784f41d5-e8e2-4816-814c-4274e4c2545f",
   "metadata": {},
   "outputs": [],
   "source": [
    "missing_file_path = '/Users/zachfogg/Desktop/DB-SRRW/Data/Misc/delete_date_ranges.txt'\n",
    "fDOM_events = dp.delete_missing_data_events(fDOM_events,missing_file_path)\n",
    "turb_events= dp.delete_missing_data_events(turb_events,missing_file_path)\n",
    "stage_events = dp.delete_missing_data_events(stage_events, missing_file_path)"
   ]
  },
  {
   "cell_type": "code",
   "execution_count": 105,
   "id": "48abdc9b-10bc-4b2e-8ae3-3d74cbc4e0f4",
   "metadata": {},
   "outputs": [
    {
     "name": "stdout",
     "output_type": "stream",
     "text": [
      "0 888\n"
     ]
    }
   ],
   "source": [
    "def sort_events(events):\n",
    "    sorted_events = []\n",
    "    prev_end = -1\n",
    "    for event in events:\n",
    "        i = 0\n",
    "        start = event[i][0]\n",
    "        end = event[-1][0]\n",
    "        while start <= prev_end:\n",
    "            i+=1\n",
    "            if i == len(event): break\n",
    "            start = event[i][0]\n",
    "        if len(event[i:-1,:]) > 0:\n",
    "            sorted_events.append(event[i:-1,:])\n",
    "            prev_end = end\n",
    "    return sorted_events\n",
    "\n",
    "prev_start = -1\n",
    "prev_end = -1\n",
    "count = 0\n",
    "for event in stage_events: \n",
    "    start = event[0][0]\n",
    "    end = event[-1][0]\n",
    "    if start < prev_end:\n",
    "        count +=1\n",
    "#         print(prev_end, start)\n",
    "    prev_end = end\n",
    "\n",
    "print(count, len(stage_events))\n",
    "\n",
    "# prev_start = -1\n",
    "# prev_end = -1\n",
    "# count = 0\n",
    "\n",
    "# sorted_events = sort_events(stage_events)\n",
    "\n",
    "# for event in sorted_events: \n",
    "#     start = event[0][0]\n",
    "#     end = event[-1][0]\n",
    "#     if start <= prev_end:\n",
    "#         count +=1\n",
    "#     prev_end = end\n",
    "\n",
    "# print(count, len(sorted_events))"
   ]
  }
 ],
 "metadata": {
  "kernelspec": {
   "display_name": "Python 3 (ipykernel)",
   "language": "python",
   "name": "python3"
  },
  "language_info": {
   "codemirror_mode": {
    "name": "ipython",
    "version": 3
   },
   "file_extension": ".py",
   "mimetype": "text/x-python",
   "name": "python",
   "nbconvert_exporter": "python",
   "pygments_lexer": "ipython3",
   "version": "3.9.7"
  }
 },
 "nbformat": 4,
 "nbformat_minor": 5
}
